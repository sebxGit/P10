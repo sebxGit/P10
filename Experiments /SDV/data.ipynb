{
 "cells": [
  {
   "cell_type": "markdown",
   "metadata": {},
   "source": [
    "## Data test import "
   ]
  },
  {
   "cell_type": "code",
   "execution_count": 2,
   "metadata": {},
   "outputs": [
    {
     "name": "stdout",
     "output_type": "stream",
     "text": [
      "                        _id clusterID                 connectionTime  \\\n",
      "0  5e225fa2f9af8b5c26d2171a      0001  Wed, 01 Jan 2020 19:45:43 GMT   \n",
      "1  5e23b149f9af8b5fe4b973cf      0001  Thu, 02 Jan 2020 13:08:54 GMT   \n",
      "2  5e23b149f9af8b5fe4b973d0      0001  Thu, 02 Jan 2020 13:36:50 GMT   \n",
      "3  5e23b149f9af8b5fe4b973d1      0001  Thu, 02 Jan 2020 13:56:35 GMT   \n",
      "4  5e23b149f9af8b5fe4b973d2      0001  Thu, 02 Jan 2020 13:59:58 GMT   \n",
      "\n",
      "                  disconnectTime               doneChargingTime  kWhDelivered  \\\n",
      "0  Wed, 01 Jan 2020 22:51:31 GMT  Wed, 01 Jan 2020 22:11:41 GMT        14.224   \n",
      "1  Thu, 02 Jan 2020 19:11:15 GMT  Thu, 02 Jan 2020 17:31:35 GMT        25.016   \n",
      "2  Thu, 02 Jan 2020 22:38:21 GMT  Thu, 02 Jan 2020 20:18:05 GMT        33.097   \n",
      "3  Fri, 03 Jan 2020 00:39:22 GMT  Thu, 02 Jan 2020 16:35:06 GMT         6.521   \n",
      "4  Thu, 02 Jan 2020 16:38:39 GMT  Thu, 02 Jan 2020 15:18:45 GMT         2.355   \n",
      "\n",
      "                                sessionID siteID  spaceID    stationID  \\\n",
      "0  1_1_178_828_2020-01-01 19:45:24.021404   0001  AG-1F10  1-1-178-828   \n",
      "1  1_1_179_810_2020-01-02 13:08:53.870034   0001  AG-3F30  1-1-179-810   \n",
      "2  1_1_193_825_2020-01-02 13:36:49.599853   0001  AG-1F01  1-1-193-825   \n",
      "3  1_1_193_829_2020-01-02 13:56:35.214993   0001  AG-1F03  1-1-193-829   \n",
      "4  1_1_193_820_2020-01-02 13:59:58.309319   0001  AG-1F04  1-1-193-820   \n",
      "\n",
      "              timezone     userID  \\\n",
      "0  America/Los_Angeles  000005065   \n",
      "1  America/Los_Angeles  000000194   \n",
      "2  America/Los_Angeles  000004275   \n",
      "3  America/Los_Angeles  000000344   \n",
      "4  America/Los_Angeles  000001117   \n",
      "\n",
      "                                          userInputs  \n",
      "0  [{'WhPerMile': 540, 'kWhRequested': 32.4, 'mil...  \n",
      "1  [{'WhPerMile': 250, 'kWhRequested': 25.0, 'mil...  \n",
      "2  [{'WhPerMile': 280, 'kWhRequested': 70.0, 'mil...  \n",
      "3  [{'WhPerMile': 400, 'kWhRequested': 8.0, 'mile...  \n",
      "4  [{'WhPerMile': 400, 'kWhRequested': 8.0, 'mile...  \n"
     ]
    }
   ],
   "source": [
    "import pandas as pd\n",
    "import json\n",
    "\n",
    "# Load the JSON file\n",
    "with open(\"data.json\", \"r\") as file:\n",
    "    data = json.load(file)\n",
    "\n",
    "# Extract metadata\n",
    "meta_data = data[\"_meta\"]\n",
    "\n",
    "# Convert the list of items into a DataFrame\n",
    "df = pd.json_normalize(data[\"_items\"])\n",
    "\n",
    "# Display the first few rows\n",
    "print(df.head())\n",
    "\n",
    "\n",
    "# Save the DataFrame to a CSV filedf.to_csv(\"data.csv\", index=True)"
   ]
  },
  {
   "cell_type": "markdown",
   "metadata": {},
   "source": [
    "## Generative Adversarial Networks (GANs) for Synthetic EV Data"
   ]
  },
  {
   "cell_type": "code",
   "execution_count": 12,
   "metadata": {},
   "outputs": [
    {
     "name": "stdout",
     "output_type": "stream",
     "text": [
      "Requirement already satisfied: sdv in /opt/homebrew/Caskroom/miniconda/base/envs/testing_env/lib/python3.9/site-packages (1.18.0)\n",
      "Requirement already satisfied: boto3<2.0.0,>=1.28 in /opt/homebrew/Caskroom/miniconda/base/envs/testing_env/lib/python3.9/site-packages (from sdv) (1.36.22)\n",
      "Requirement already satisfied: botocore<2.0.0,>=1.31 in /opt/homebrew/Caskroom/miniconda/base/envs/testing_env/lib/python3.9/site-packages (from sdv) (1.36.22)\n",
      "Requirement already satisfied: cloudpickle>=2.1.0 in /opt/homebrew/Caskroom/miniconda/base/envs/testing_env/lib/python3.9/site-packages (from sdv) (3.1.1)\n",
      "Requirement already satisfied: graphviz>=0.13.2 in /opt/homebrew/Caskroom/miniconda/base/envs/testing_env/lib/python3.9/site-packages (from sdv) (0.20.3)\n",
      "Requirement already satisfied: numpy>=1.21.0 in /opt/homebrew/Caskroom/miniconda/base/envs/testing_env/lib/python3.9/site-packages (from sdv) (1.26.4)\n",
      "Requirement already satisfied: pandas>=1.4.0 in /opt/homebrew/Caskroom/miniconda/base/envs/testing_env/lib/python3.9/site-packages (from sdv) (2.2.2)\n",
      "Requirement already satisfied: tqdm>=4.29 in /opt/homebrew/Caskroom/miniconda/base/envs/testing_env/lib/python3.9/site-packages (from sdv) (4.67.1)\n",
      "Requirement already satisfied: copulas>=0.12.0 in /opt/homebrew/Caskroom/miniconda/base/envs/testing_env/lib/python3.9/site-packages (from sdv) (0.12.1)\n",
      "Requirement already satisfied: ctgan>=0.10.2 in /opt/homebrew/Caskroom/miniconda/base/envs/testing_env/lib/python3.9/site-packages (from sdv) (0.10.2)\n",
      "Requirement already satisfied: deepecho>=0.6.1 in /opt/homebrew/Caskroom/miniconda/base/envs/testing_env/lib/python3.9/site-packages (from sdv) (0.7.0)\n",
      "Requirement already satisfied: rdt>=1.13.2 in /opt/homebrew/Caskroom/miniconda/base/envs/testing_env/lib/python3.9/site-packages (from sdv) (1.14.0)\n",
      "Requirement already satisfied: sdmetrics>=0.17.0 in /opt/homebrew/Caskroom/miniconda/base/envs/testing_env/lib/python3.9/site-packages (from sdv) (0.18.0)\n",
      "Requirement already satisfied: platformdirs>=4.0 in /opt/homebrew/Caskroom/miniconda/base/envs/testing_env/lib/python3.9/site-packages (from sdv) (4.3.6)\n",
      "Requirement already satisfied: pyyaml>=6.0.1 in /opt/homebrew/Caskroom/miniconda/base/envs/testing_env/lib/python3.9/site-packages (from sdv) (6.0.2)\n",
      "Requirement already satisfied: jmespath<2.0.0,>=0.7.1 in /opt/homebrew/Caskroom/miniconda/base/envs/testing_env/lib/python3.9/site-packages (from boto3<2.0.0,>=1.28->sdv) (1.0.1)\n",
      "Requirement already satisfied: s3transfer<0.12.0,>=0.11.0 in /opt/homebrew/Caskroom/miniconda/base/envs/testing_env/lib/python3.9/site-packages (from boto3<2.0.0,>=1.28->sdv) (0.11.2)\n",
      "Requirement already satisfied: python-dateutil<3.0.0,>=2.1 in /opt/homebrew/Caskroom/miniconda/base/envs/testing_env/lib/python3.9/site-packages (from botocore<2.0.0,>=1.31->sdv) (2.9.0.post0)\n",
      "Requirement already satisfied: urllib3<1.27,>=1.25.4 in /opt/homebrew/Caskroom/miniconda/base/envs/testing_env/lib/python3.9/site-packages (from botocore<2.0.0,>=1.31->sdv) (1.26.20)\n",
      "Requirement already satisfied: plotly>=5.10.0 in /opt/homebrew/Caskroom/miniconda/base/envs/testing_env/lib/python3.9/site-packages (from copulas>=0.12.0->sdv) (6.0.0)\n",
      "Requirement already satisfied: scipy>=1.7.3 in /opt/homebrew/Caskroom/miniconda/base/envs/testing_env/lib/python3.9/site-packages (from copulas>=0.12.0->sdv) (1.13.1)\n",
      "Requirement already satisfied: torch>=1.9.0 in /opt/homebrew/Caskroom/miniconda/base/envs/testing_env/lib/python3.9/site-packages (from ctgan>=0.10.2->sdv) (2.5.1)\n",
      "Requirement already satisfied: pytz>=2020.1 in /opt/homebrew/Caskroom/miniconda/base/envs/testing_env/lib/python3.9/site-packages (from pandas>=1.4.0->sdv) (2024.1)\n",
      "Requirement already satisfied: tzdata>=2022.7 in /opt/homebrew/Caskroom/miniconda/base/envs/testing_env/lib/python3.9/site-packages (from pandas>=1.4.0->sdv) (2023.3)\n",
      "Requirement already satisfied: scikit-learn>=1.0.2 in /opt/homebrew/Caskroom/miniconda/base/envs/testing_env/lib/python3.9/site-packages (from rdt>=1.13.2->sdv) (1.5.1)\n",
      "Requirement already satisfied: Faker>=17 in /opt/homebrew/Caskroom/miniconda/base/envs/testing_env/lib/python3.9/site-packages (from rdt>=1.13.2->sdv) (36.1.1)\n",
      "Requirement already satisfied: narwhals>=1.15.1 in /opt/homebrew/Caskroom/miniconda/base/envs/testing_env/lib/python3.9/site-packages (from plotly>=5.10.0->copulas>=0.12.0->sdv) (1.27.1)\n",
      "Requirement already satisfied: packaging in /opt/homebrew/Caskroom/miniconda/base/envs/testing_env/lib/python3.9/site-packages (from plotly>=5.10.0->copulas>=0.12.0->sdv) (24.1)\n",
      "Requirement already satisfied: six>=1.5 in /opt/homebrew/Caskroom/miniconda/base/envs/testing_env/lib/python3.9/site-packages (from python-dateutil<3.0.0,>=2.1->botocore<2.0.0,>=1.31->sdv) (1.16.0)\n",
      "Requirement already satisfied: joblib>=1.2.0 in /opt/homebrew/Caskroom/miniconda/base/envs/testing_env/lib/python3.9/site-packages (from scikit-learn>=1.0.2->rdt>=1.13.2->sdv) (1.4.2)\n",
      "Requirement already satisfied: threadpoolctl>=3.1.0 in /opt/homebrew/Caskroom/miniconda/base/envs/testing_env/lib/python3.9/site-packages (from scikit-learn>=1.0.2->rdt>=1.13.2->sdv) (3.5.0)\n",
      "Requirement already satisfied: filelock in /opt/homebrew/Caskroom/miniconda/base/envs/testing_env/lib/python3.9/site-packages (from torch>=1.9.0->ctgan>=0.10.2->sdv) (3.13.1)\n",
      "Requirement already satisfied: typing-extensions>=4.8.0 in /opt/homebrew/Caskroom/miniconda/base/envs/testing_env/lib/python3.9/site-packages (from torch>=1.9.0->ctgan>=0.10.2->sdv) (4.11.0)\n",
      "Requirement already satisfied: networkx in /opt/homebrew/Caskroom/miniconda/base/envs/testing_env/lib/python3.9/site-packages (from torch>=1.9.0->ctgan>=0.10.2->sdv) (3.2.1)\n",
      "Requirement already satisfied: jinja2 in /opt/homebrew/Caskroom/miniconda/base/envs/testing_env/lib/python3.9/site-packages (from torch>=1.9.0->ctgan>=0.10.2->sdv) (3.1.4)\n",
      "Requirement already satisfied: fsspec in /opt/homebrew/Caskroom/miniconda/base/envs/testing_env/lib/python3.9/site-packages (from torch>=1.9.0->ctgan>=0.10.2->sdv) (2024.10.0)\n",
      "Requirement already satisfied: sympy==1.13.1 in /opt/homebrew/Caskroom/miniconda/base/envs/testing_env/lib/python3.9/site-packages (from torch>=1.9.0->ctgan>=0.10.2->sdv) (1.13.1)\n",
      "Requirement already satisfied: mpmath<1.4,>=1.1.0 in /opt/homebrew/Caskroom/miniconda/base/envs/testing_env/lib/python3.9/site-packages (from sympy==1.13.1->torch>=1.9.0->ctgan>=0.10.2->sdv) (1.3.0)\n",
      "Requirement already satisfied: MarkupSafe>=2.0 in /opt/homebrew/Caskroom/miniconda/base/envs/testing_env/lib/python3.9/site-packages (from jinja2->torch>=1.9.0->ctgan>=0.10.2->sdv) (2.1.3)\n",
      "Note: you may need to restart the kernel to use updated packages.\n"
     ]
    }
   ],
   "source": [
    "%pip install sdv "
   ]
  },
  {
   "cell_type": "code",
   "execution_count": 16,
   "metadata": {},
   "outputs": [
    {
     "name": "stdout",
     "output_type": "stream",
     "text": [
      "Requirement already satisfied: sdv in /opt/homebrew/Caskroom/miniconda/base/envs/testing_env/lib/python3.9/site-packages (1.18.0)\n",
      "Requirement already satisfied: boto3<2.0.0,>=1.28 in /opt/homebrew/Caskroom/miniconda/base/envs/testing_env/lib/python3.9/site-packages (from sdv) (1.36.22)\n",
      "Requirement already satisfied: botocore<2.0.0,>=1.31 in /opt/homebrew/Caskroom/miniconda/base/envs/testing_env/lib/python3.9/site-packages (from sdv) (1.36.22)\n",
      "Requirement already satisfied: cloudpickle>=2.1.0 in /opt/homebrew/Caskroom/miniconda/base/envs/testing_env/lib/python3.9/site-packages (from sdv) (3.1.1)\n",
      "Requirement already satisfied: graphviz>=0.13.2 in /opt/homebrew/Caskroom/miniconda/base/envs/testing_env/lib/python3.9/site-packages (from sdv) (0.20.3)\n",
      "Requirement already satisfied: numpy>=1.21.0 in /opt/homebrew/Caskroom/miniconda/base/envs/testing_env/lib/python3.9/site-packages (from sdv) (1.26.4)\n",
      "Requirement already satisfied: pandas>=1.4.0 in /opt/homebrew/Caskroom/miniconda/base/envs/testing_env/lib/python3.9/site-packages (from sdv) (2.2.2)\n",
      "Requirement already satisfied: tqdm>=4.29 in /opt/homebrew/Caskroom/miniconda/base/envs/testing_env/lib/python3.9/site-packages (from sdv) (4.67.1)\n",
      "Requirement already satisfied: copulas>=0.12.0 in /opt/homebrew/Caskroom/miniconda/base/envs/testing_env/lib/python3.9/site-packages (from sdv) (0.12.1)\n",
      "Requirement already satisfied: ctgan>=0.10.2 in /opt/homebrew/Caskroom/miniconda/base/envs/testing_env/lib/python3.9/site-packages (from sdv) (0.10.2)\n",
      "Requirement already satisfied: deepecho>=0.6.1 in /opt/homebrew/Caskroom/miniconda/base/envs/testing_env/lib/python3.9/site-packages (from sdv) (0.7.0)\n",
      "Requirement already satisfied: rdt>=1.13.2 in /opt/homebrew/Caskroom/miniconda/base/envs/testing_env/lib/python3.9/site-packages (from sdv) (1.14.0)\n",
      "Requirement already satisfied: sdmetrics>=0.17.0 in /opt/homebrew/Caskroom/miniconda/base/envs/testing_env/lib/python3.9/site-packages (from sdv) (0.18.0)\n",
      "Requirement already satisfied: platformdirs>=4.0 in /opt/homebrew/Caskroom/miniconda/base/envs/testing_env/lib/python3.9/site-packages (from sdv) (4.3.6)\n",
      "Requirement already satisfied: pyyaml>=6.0.1 in /opt/homebrew/Caskroom/miniconda/base/envs/testing_env/lib/python3.9/site-packages (from sdv) (6.0.2)\n",
      "Requirement already satisfied: jmespath<2.0.0,>=0.7.1 in /opt/homebrew/Caskroom/miniconda/base/envs/testing_env/lib/python3.9/site-packages (from boto3<2.0.0,>=1.28->sdv) (1.0.1)\n",
      "Requirement already satisfied: s3transfer<0.12.0,>=0.11.0 in /opt/homebrew/Caskroom/miniconda/base/envs/testing_env/lib/python3.9/site-packages (from boto3<2.0.0,>=1.28->sdv) (0.11.2)\n",
      "Requirement already satisfied: python-dateutil<3.0.0,>=2.1 in /opt/homebrew/Caskroom/miniconda/base/envs/testing_env/lib/python3.9/site-packages (from botocore<2.0.0,>=1.31->sdv) (2.9.0.post0)\n",
      "Requirement already satisfied: urllib3<1.27,>=1.25.4 in /opt/homebrew/Caskroom/miniconda/base/envs/testing_env/lib/python3.9/site-packages (from botocore<2.0.0,>=1.31->sdv) (1.26.20)\n",
      "Requirement already satisfied: plotly>=5.10.0 in /opt/homebrew/Caskroom/miniconda/base/envs/testing_env/lib/python3.9/site-packages (from copulas>=0.12.0->sdv) (6.0.0)\n",
      "Requirement already satisfied: scipy>=1.7.3 in /opt/homebrew/Caskroom/miniconda/base/envs/testing_env/lib/python3.9/site-packages (from copulas>=0.12.0->sdv) (1.13.1)\n",
      "Requirement already satisfied: torch>=1.9.0 in /opt/homebrew/Caskroom/miniconda/base/envs/testing_env/lib/python3.9/site-packages (from ctgan>=0.10.2->sdv) (2.5.1)\n",
      "Requirement already satisfied: pytz>=2020.1 in /opt/homebrew/Caskroom/miniconda/base/envs/testing_env/lib/python3.9/site-packages (from pandas>=1.4.0->sdv) (2024.1)\n",
      "Requirement already satisfied: tzdata>=2022.7 in /opt/homebrew/Caskroom/miniconda/base/envs/testing_env/lib/python3.9/site-packages (from pandas>=1.4.0->sdv) (2023.3)\n",
      "Requirement already satisfied: scikit-learn>=1.0.2 in /opt/homebrew/Caskroom/miniconda/base/envs/testing_env/lib/python3.9/site-packages (from rdt>=1.13.2->sdv) (1.5.1)\n",
      "Requirement already satisfied: Faker>=17 in /opt/homebrew/Caskroom/miniconda/base/envs/testing_env/lib/python3.9/site-packages (from rdt>=1.13.2->sdv) (36.1.1)\n",
      "Requirement already satisfied: narwhals>=1.15.1 in /opt/homebrew/Caskroom/miniconda/base/envs/testing_env/lib/python3.9/site-packages (from plotly>=5.10.0->copulas>=0.12.0->sdv) (1.27.1)\n",
      "Requirement already satisfied: packaging in /opt/homebrew/Caskroom/miniconda/base/envs/testing_env/lib/python3.9/site-packages (from plotly>=5.10.0->copulas>=0.12.0->sdv) (24.1)\n",
      "Requirement already satisfied: six>=1.5 in /opt/homebrew/Caskroom/miniconda/base/envs/testing_env/lib/python3.9/site-packages (from python-dateutil<3.0.0,>=2.1->botocore<2.0.0,>=1.31->sdv) (1.16.0)\n",
      "Requirement already satisfied: joblib>=1.2.0 in /opt/homebrew/Caskroom/miniconda/base/envs/testing_env/lib/python3.9/site-packages (from scikit-learn>=1.0.2->rdt>=1.13.2->sdv) (1.4.2)\n",
      "Requirement already satisfied: threadpoolctl>=3.1.0 in /opt/homebrew/Caskroom/miniconda/base/envs/testing_env/lib/python3.9/site-packages (from scikit-learn>=1.0.2->rdt>=1.13.2->sdv) (3.5.0)\n",
      "Requirement already satisfied: filelock in /opt/homebrew/Caskroom/miniconda/base/envs/testing_env/lib/python3.9/site-packages (from torch>=1.9.0->ctgan>=0.10.2->sdv) (3.13.1)\n",
      "Requirement already satisfied: typing-extensions>=4.8.0 in /opt/homebrew/Caskroom/miniconda/base/envs/testing_env/lib/python3.9/site-packages (from torch>=1.9.0->ctgan>=0.10.2->sdv) (4.11.0)\n",
      "Requirement already satisfied: networkx in /opt/homebrew/Caskroom/miniconda/base/envs/testing_env/lib/python3.9/site-packages (from torch>=1.9.0->ctgan>=0.10.2->sdv) (3.2.1)\n",
      "Requirement already satisfied: jinja2 in /opt/homebrew/Caskroom/miniconda/base/envs/testing_env/lib/python3.9/site-packages (from torch>=1.9.0->ctgan>=0.10.2->sdv) (3.1.4)\n",
      "Requirement already satisfied: fsspec in /opt/homebrew/Caskroom/miniconda/base/envs/testing_env/lib/python3.9/site-packages (from torch>=1.9.0->ctgan>=0.10.2->sdv) (2024.10.0)\n",
      "Requirement already satisfied: sympy==1.13.1 in /opt/homebrew/Caskroom/miniconda/base/envs/testing_env/lib/python3.9/site-packages (from torch>=1.9.0->ctgan>=0.10.2->sdv) (1.13.1)\n",
      "Requirement already satisfied: mpmath<1.4,>=1.1.0 in /opt/homebrew/Caskroom/miniconda/base/envs/testing_env/lib/python3.9/site-packages (from sympy==1.13.1->torch>=1.9.0->ctgan>=0.10.2->sdv) (1.3.0)\n",
      "Requirement already satisfied: MarkupSafe>=2.0 in /opt/homebrew/Caskroom/miniconda/base/envs/testing_env/lib/python3.9/site-packages (from jinja2->torch>=1.9.0->ctgan>=0.10.2->sdv) (2.1.3)\n",
      "Note: you may need to restart the kernel to use updated packages.\n"
     ]
    }
   ],
   "source": [
    "%pip install sdv"
   ]
  },
  {
   "cell_type": "code",
   "execution_count": 23,
   "metadata": {},
   "outputs": [
    {
     "name": "stderr",
     "output_type": "stream",
     "text": [
      "/opt/homebrew/Caskroom/miniconda/base/envs/testing_env/lib/python3.9/site-packages/sdv/single_table/base.py:119: FutureWarning:\n",
      "\n",
      "The 'SingleTableMetadata' is deprecated. Please use the new 'Metadata' class for synthesizers.\n",
      "\n",
      "/opt/homebrew/Caskroom/miniconda/base/envs/testing_env/lib/python3.9/site-packages/sdv/single_table/base.py:104: UserWarning:\n",
      "\n",
      "We strongly recommend saving the metadata using 'save_to_json' for replicability in future SDV versions.\n",
      "\n"
     ]
    }
   ],
   "source": [
    "from sdv.metadata import SingleTableMetadata\n",
    "from sdv.single_table import GaussianCopulaSynthesizer\n",
    "\n",
    "# Convert 'userInputs' column to string format\n",
    "df['userInputs'] = df['userInputs'].apply(str)\n",
    "\n",
    "# Create metadata for the DataFrame\n",
    "metadata = SingleTableMetadata()\n",
    "metadata.detect_from_dataframe(data=df)\n",
    "\n",
    "# Initialize the synthesizer with the metadata\n",
    "synthesizer = GaussianCopulaSynthesizer(metadata)\n",
    "\n",
    "# Fit the synthesizer to the DataFrame\n",
    "synthesizer.fit(\n",
    "    data=df\n",
    ")\n",
    "\n",
    "synthetic_data = synthesizer.sample(\n",
    "    num_rows=1000\n",
    ")\n",
    "\n",
    "synthetic_data.head()\n",
    "\n",
    "# Save the synthetic data to a CSV file\n",
    "synthetic_data.to_csv(\"synthetic_data.csv\", index=False)"
   ]
  },
  {
   "cell_type": "code",
   "execution_count": 25,
   "metadata": {},
   "outputs": [
    {
     "name": "stdout",
     "output_type": "stream",
     "text": [
      "Generating report ...\n",
      "\n",
      "(1/2) Evaluating Data Validity: |██████████| 13/13 [00:00<00:00, 299.44it/s]|\n",
      "Data Validity Score: 100.0%\n",
      "\n",
      "(2/2) Evaluating Data Structure: |██████████| 1/1 [00:00<00:00, 78.99it/s]|\n",
      "Data Structure Score: 100.0%\n",
      "\n",
      "Overall Score (Average): 100.0%\n",
      "\n"
     ]
    }
   ],
   "source": [
    "from sdv.evaluation.single_table import run_diagnostic\n",
    "\n",
    "diagnostic = run_diagnostic(\n",
    "    real_data=df,\n",
    "    synthetic_data=synthetic_data,\n",
    "    metadata=metadata\n",
    ")"
   ]
  },
  {
   "cell_type": "code",
   "execution_count": null,
   "metadata": {},
   "outputs": [],
   "source": []
  },
  {
   "cell_type": "code",
   "execution_count": 34,
   "metadata": {},
   "outputs": [
    {
     "name": "stdout",
     "output_type": "stream",
     "text": [
      "Generating report ...\n",
      "\n",
      "(1/2) Evaluating Column Shapes: |██████████| 13/13 [00:00<00:00, 587.56it/s]|\n",
      "Column Shapes Score: 82.85%\n",
      "\n",
      "(2/2) Evaluating Column Pair Trends: |██████████| 78/78 [00:00<00:00, 1263.96it/s]|\n",
      "Column Pair Trends Score: 75.54%\n",
      "\n",
      "Overall Score (Average): 79.2%\n",
      "\n"
     ]
    },
    {
     "data": {
      "text/html": [
       "<div>\n",
       "<style scoped>\n",
       "    .dataframe tbody tr th:only-of-type {\n",
       "        vertical-align: middle;\n",
       "    }\n",
       "\n",
       "    .dataframe tbody tr th {\n",
       "        vertical-align: top;\n",
       "    }\n",
       "\n",
       "    .dataframe thead th {\n",
       "        text-align: right;\n",
       "    }\n",
       "</style>\n",
       "<table border=\"1\" class=\"dataframe\">\n",
       "  <thead>\n",
       "    <tr style=\"text-align: right;\">\n",
       "      <th></th>\n",
       "      <th>Column</th>\n",
       "      <th>Metric</th>\n",
       "      <th>Score</th>\n",
       "    </tr>\n",
       "  </thead>\n",
       "  <tbody>\n",
       "    <tr>\n",
       "      <th>0</th>\n",
       "      <td>clusterID</td>\n",
       "      <td>TVComplement</td>\n",
       "      <td>1.000000</td>\n",
       "    </tr>\n",
       "    <tr>\n",
       "      <th>1</th>\n",
       "      <td>connectionTime</td>\n",
       "      <td>KSComplement</td>\n",
       "      <td>0.617060</td>\n",
       "    </tr>\n",
       "    <tr>\n",
       "      <th>2</th>\n",
       "      <td>disconnectTime</td>\n",
       "      <td>KSComplement</td>\n",
       "      <td>0.642060</td>\n",
       "    </tr>\n",
       "    <tr>\n",
       "      <th>3</th>\n",
       "      <td>doneChargingTime</td>\n",
       "      <td>KSComplement</td>\n",
       "      <td>0.650060</td>\n",
       "    </tr>\n",
       "    <tr>\n",
       "      <th>4</th>\n",
       "      <td>kWhDelivered</td>\n",
       "      <td>KSComplement</td>\n",
       "      <td>0.890583</td>\n",
       "    </tr>\n",
       "    <tr>\n",
       "      <th>5</th>\n",
       "      <td>siteID</td>\n",
       "      <td>TVComplement</td>\n",
       "      <td>1.000000</td>\n",
       "    </tr>\n",
       "    <tr>\n",
       "      <th>6</th>\n",
       "      <td>timezone</td>\n",
       "      <td>TVComplement</td>\n",
       "      <td>1.000000</td>\n",
       "    </tr>\n",
       "  </tbody>\n",
       "</table>\n",
       "</div>"
      ],
      "text/plain": [
       "             Column        Metric     Score\n",
       "0         clusterID  TVComplement  1.000000\n",
       "1    connectionTime  KSComplement  0.617060\n",
       "2    disconnectTime  KSComplement  0.642060\n",
       "3  doneChargingTime  KSComplement  0.650060\n",
       "4      kWhDelivered  KSComplement  0.890583\n",
       "5            siteID  TVComplement  1.000000\n",
       "6          timezone  TVComplement  1.000000"
      ]
     },
     "execution_count": 34,
     "metadata": {},
     "output_type": "execute_result"
    }
   ],
   "source": [
    "from sdv.evaluation.single_table import evaluate_quality\n",
    "\n",
    "quality_report = evaluate_quality(\n",
    "  df,\n",
    "  synthetic_data,\n",
    "  metadata\n",
    ")\n",
    "\n",
    "quality_report.get_details(property_name='Column Shapes')\n"
   ]
  },
  {
   "cell_type": "code",
   "execution_count": 30,
   "metadata": {},
   "outputs": [
    {
     "data": {
      "application/vnd.plotly.v1+json": {
       "config": {
        "plotlyServerURL": "https://plot.ly"
       },
       "data": [
        {
         "fill": "tozeroy",
         "hovertemplate": "<b>Real</b><br>Frequency: %{y}<extra></extra>",
         "legendgroup": "Real",
         "marker": {
          "color": "#000036"
         },
         "mode": "lines",
         "name": "Real",
         "showlegend": true,
         "type": "scatter",
         "x": [
          0.503,
          0.635856,
          0.7687120000000001,
          0.9015679999999999,
          1.034424,
          1.1672799999999999,
          1.300136,
          1.432992,
          1.565848,
          1.6987039999999998,
          1.83156,
          1.964416,
          2.097272,
          2.230128,
          2.362984,
          2.49584,
          2.628696,
          2.761552,
          2.894408,
          3.027264,
          3.16012,
          3.292976,
          3.425832,
          3.558688,
          3.691544,
          3.8244,
          3.957256,
          4.090112,
          4.222968,
          4.355823999999999,
          4.48868,
          4.621536,
          4.754392,
          4.887248,
          5.020104,
          5.15296,
          5.285816,
          5.418672,
          5.551528,
          5.6843840000000005,
          5.81724,
          5.950095999999999,
          6.082952,
          6.215808,
          6.348664,
          6.48152,
          6.614376,
          6.747232,
          6.880088,
          7.012943999999999,
          7.1457999999999995,
          7.278656,
          7.411512,
          7.5443679999999995,
          7.677224000000001,
          7.81008,
          7.9429359999999996,
          8.075792,
          8.208647999999998,
          8.341503999999999,
          8.474359999999999,
          8.607216,
          8.740072,
          8.872928,
          9.005784,
          9.138639999999999,
          9.271495999999999,
          9.404352,
          9.537208,
          9.670064,
          9.80292,
          9.935776,
          10.068632,
          10.201488,
          10.334344,
          10.467199999999998,
          10.600056,
          10.732912,
          10.865768000000001,
          10.998624,
          11.13148,
          11.264336,
          11.397191999999999,
          11.530047999999999,
          11.662904,
          11.79576,
          11.928616,
          12.061472,
          12.194328,
          12.327183999999999,
          12.46004,
          12.592896,
          12.725752,
          12.858608,
          12.991464,
          13.124319999999999,
          13.257176,
          13.390032,
          13.522887999999998,
          13.655743999999999,
          13.788599999999999,
          13.921456000000001,
          14.054312,
          14.187168,
          14.320024,
          14.452879999999999,
          14.585735999999999,
          14.718592,
          14.851448000000001,
          14.984304,
          15.11716,
          15.250016,
          15.382871999999999,
          15.515728,
          15.648584,
          15.781439999999998,
          15.914295999999998,
          16.047152,
          16.180007999999997,
          16.312863999999998,
          16.445719999999998,
          16.578575999999998,
          16.711432,
          16.844288,
          16.977144,
          17.11,
          17.242856,
          17.375712,
          17.508568,
          17.641424,
          17.774279999999997,
          17.907135999999998,
          18.039991999999998,
          18.172848,
          18.305704,
          18.43856,
          18.571416,
          18.704272,
          18.837128,
          18.969984,
          19.10284,
          19.235696,
          19.368552,
          19.501407999999998,
          19.634263999999998,
          19.76712,
          19.899976,
          20.032832,
          20.165688,
          20.298544,
          20.431399999999996,
          20.564255999999997,
          20.697112,
          20.829968,
          20.962824,
          21.09568,
          21.228536000000002,
          21.361392,
          21.494248,
          21.627104,
          21.75996,
          21.892816,
          22.025672,
          22.158527999999997,
          22.291383999999997,
          22.424239999999998,
          22.557095999999998,
          22.689951999999998,
          22.822808,
          22.955664000000002,
          23.08852,
          23.221376,
          23.354232,
          23.487088,
          23.619944,
          23.7528,
          23.885656,
          24.018511999999998,
          24.151367999999998,
          24.284224,
          24.41708,
          24.549936,
          24.682792,
          24.815647999999996,
          24.948504,
          25.08136,
          25.214216,
          25.347072,
          25.479928,
          25.612784,
          25.745639999999998,
          25.878496,
          26.011352,
          26.144208,
          26.277064,
          26.40992,
          26.542775999999996,
          26.675631999999997,
          26.808487999999997,
          26.941343999999997,
          27.074199999999998,
          27.207056,
          27.339912,
          27.472768,
          27.605624,
          27.73848,
          27.871336,
          28.004192,
          28.137048,
          28.269904,
          28.402759999999997,
          28.535615999999997,
          28.668471999999998,
          28.801327999999998,
          28.934184,
          29.06704,
          29.199896000000003,
          29.332752,
          29.465608,
          29.598464,
          29.73132,
          29.864176,
          29.997032,
          30.129887999999998,
          30.262743999999998,
          30.395599999999998,
          30.528456,
          30.661312,
          30.794168,
          30.927024,
          31.059879999999996,
          31.192735999999996,
          31.325591999999997,
          31.458448,
          31.591304,
          31.72416,
          31.857015999999998,
          31.989872,
          32.122727999999995,
          32.255584,
          32.388439999999996,
          32.521296,
          32.654151999999996,
          32.787008,
          32.919864,
          33.05272,
          33.185576,
          33.318432,
          33.451288,
          33.584144,
          33.717,
          33.849856,
          33.982712,
          34.115567999999996,
          34.248424,
          34.38128,
          34.514136,
          34.646992,
          34.779848,
          34.912704,
          35.045559999999995,
          35.178416,
          35.311271999999995,
          35.444128,
          35.576983999999996,
          35.70984,
          35.842696,
          35.97555199999999,
          36.108408,
          36.241263999999994,
          36.37412,
          36.506975999999995,
          36.639832,
          36.772688,
          36.905544,
          37.0384,
          37.171256,
          37.304112,
          37.436968,
          37.569824000000004,
          37.70268,
          37.835536,
          37.968392,
          38.101248,
          38.234104,
          38.36696,
          38.499815999999996,
          38.632672,
          38.765527999999996,
          38.898384,
          39.03124,
          39.164096,
          39.296952,
          39.429807999999994,
          39.562664,
          39.695519999999995,
          39.828376,
          39.961231999999995,
          40.094088,
          40.226943999999996,
          40.35979999999999,
          40.492656,
          40.62551199999999,
          40.758368,
          40.891224,
          41.024080000000005,
          41.156936,
          41.289792,
          41.422648,
          41.555504,
          41.68836,
          41.821216,
          41.954072000000004,
          42.086928,
          42.219784,
          42.35264,
          42.485496,
          42.618352,
          42.751208,
          42.884063999999995,
          43.01692,
          43.149775999999996,
          43.282632,
          43.415487999999996,
          43.548344,
          43.6812,
          43.814055999999994,
          43.946912,
          44.079767999999994,
          44.212624,
          44.345479999999995,
          44.478336,
          44.611191999999996,
          44.74404799999999,
          44.876903999999996,
          45.00975999999999,
          45.142616,
          45.275472,
          45.408328000000004,
          45.541184,
          45.67404,
          45.806896,
          45.939752,
          46.072608,
          46.205464,
          46.33832,
          46.471176,
          46.604032,
          46.736888,
          46.869744,
          47.0026,
          47.135456,
          47.268312,
          47.401168,
          47.534023999999995,
          47.66688,
          47.799735999999996,
          47.932592,
          48.065447999999996,
          48.19830399999999,
          48.33116,
          48.464015999999994,
          48.596872,
          48.729727999999994,
          48.862584,
          48.995439999999995,
          49.12829599999999,
          49.261151999999996,
          49.394008,
          49.526864,
          49.65972,
          49.792576000000004,
          49.925432,
          50.058288,
          50.191144,
          50.324,
          50.456856,
          50.589712,
          50.722568,
          50.855424,
          50.988279999999996,
          51.121136,
          51.253992,
          51.386848,
          51.519704,
          51.65256,
          51.785416,
          51.918271999999995,
          52.051128,
          52.183983999999995,
          52.31684,
          52.449695999999996,
          52.58255199999999,
          52.715408,
          52.84826399999999,
          52.98112,
          53.113975999999994,
          53.246832,
          53.379687999999994,
          53.51254399999999,
          53.645399999999995,
          53.778256,
          53.911112,
          54.043968,
          54.176824,
          54.30968,
          54.442536,
          54.575392,
          54.708248,
          54.841104,
          54.97396,
          55.106816,
          55.239672,
          55.372527999999996,
          55.505384,
          55.638239999999996,
          55.771096,
          55.903952,
          56.036808,
          56.169664,
          56.302519999999994,
          56.435376,
          56.568231999999995,
          56.701088,
          56.833943999999995,
          56.9668,
          57.099655999999996,
          57.23251199999999,
          57.365368,
          57.49822399999999,
          57.63108,
          57.763935999999994,
          57.896792000000005,
          58.029648,
          58.162504,
          58.29536,
          58.428216,
          58.561072,
          58.693928,
          58.826783999999996,
          58.95964,
          59.092496,
          59.225352,
          59.358208,
          59.491064,
          59.62392,
          59.756775999999995,
          59.889632,
          60.022487999999996,
          60.155344,
          60.288199999999996,
          60.421056,
          60.553912,
          60.686767999999994,
          60.819624,
          60.952479999999994,
          61.085336,
          61.218191999999995,
          61.351048,
          61.483903999999995,
          61.61675999999999,
          61.749615999999996,
          61.88247199999999,
          62.015328,
          62.14818399999999,
          62.281040000000004,
          62.413896,
          62.546752,
          62.679608,
          62.812464,
          62.94532,
          63.078176,
          63.211031999999996,
          63.343888,
          63.476744,
          63.6096,
          63.742456,
          63.875312,
          64.008168,
          64.14102399999999,
          64.27387999999999,
          64.406736,
          64.539592,
          64.672448,
          64.80530399999999,
          64.93816,
          65.071016,
          65.20387199999999,
          65.336728,
          65.469584,
          65.60244,
          65.73529599999999,
          65.868152,
          66.001008,
          66.133864,
          66.26672,
          66.399576,
          66.532432,
          66.665288,
          66.798144
         ],
         "xaxis": "x",
         "y": {
          "bdata": "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",
          "dtype": "f8"
         },
         "yaxis": "y"
        },
        {
         "fill": "tozeroy",
         "hovertemplate": "<b>Synthetic</b><br>Frequency: %{y}<extra></extra>",
         "legendgroup": "Synthetic",
         "marker": {
          "color": "#01E0C9"
         },
         "mode": "lines",
         "name": "Synthetic",
         "showlegend": true,
         "type": "scatter",
         "x": [
          0.503,
          0.635856,
          0.7687120000000001,
          0.9015679999999999,
          1.034424,
          1.1672799999999999,
          1.300136,
          1.432992,
          1.565848,
          1.6987039999999998,
          1.83156,
          1.964416,
          2.097272,
          2.230128,
          2.362984,
          2.49584,
          2.628696,
          2.761552,
          2.894408,
          3.027264,
          3.16012,
          3.292976,
          3.425832,
          3.558688,
          3.691544,
          3.8244,
          3.957256,
          4.090112,
          4.222968,
          4.355823999999999,
          4.48868,
          4.621536,
          4.754392,
          4.887248,
          5.020104,
          5.15296,
          5.285816,
          5.418672,
          5.551528,
          5.6843840000000005,
          5.81724,
          5.950095999999999,
          6.082952,
          6.215808,
          6.348664,
          6.48152,
          6.614376,
          6.747232,
          6.880088,
          7.012943999999999,
          7.1457999999999995,
          7.278656,
          7.411512,
          7.5443679999999995,
          7.677224000000001,
          7.81008,
          7.9429359999999996,
          8.075792,
          8.208647999999998,
          8.341503999999999,
          8.474359999999999,
          8.607216,
          8.740072,
          8.872928,
          9.005784,
          9.138639999999999,
          9.271495999999999,
          9.404352,
          9.537208,
          9.670064,
          9.80292,
          9.935776,
          10.068632,
          10.201488,
          10.334344,
          10.467199999999998,
          10.600056,
          10.732912,
          10.865768000000001,
          10.998624,
          11.13148,
          11.264336,
          11.397191999999999,
          11.530047999999999,
          11.662904,
          11.79576,
          11.928616,
          12.061472,
          12.194328,
          12.327183999999999,
          12.46004,
          12.592896,
          12.725752,
          12.858608,
          12.991464,
          13.124319999999999,
          13.257176,
          13.390032,
          13.522887999999998,
          13.655743999999999,
          13.788599999999999,
          13.921456000000001,
          14.054312,
          14.187168,
          14.320024,
          14.452879999999999,
          14.585735999999999,
          14.718592,
          14.851448000000001,
          14.984304,
          15.11716,
          15.250016,
          15.382871999999999,
          15.515728,
          15.648584,
          15.781439999999998,
          15.914295999999998,
          16.047152,
          16.180007999999997,
          16.312863999999998,
          16.445719999999998,
          16.578575999999998,
          16.711432,
          16.844288,
          16.977144,
          17.11,
          17.242856,
          17.375712,
          17.508568,
          17.641424,
          17.774279999999997,
          17.907135999999998,
          18.039991999999998,
          18.172848,
          18.305704,
          18.43856,
          18.571416,
          18.704272,
          18.837128,
          18.969984,
          19.10284,
          19.235696,
          19.368552,
          19.501407999999998,
          19.634263999999998,
          19.76712,
          19.899976,
          20.032832,
          20.165688,
          20.298544,
          20.431399999999996,
          20.564255999999997,
          20.697112,
          20.829968,
          20.962824,
          21.09568,
          21.228536000000002,
          21.361392,
          21.494248,
          21.627104,
          21.75996,
          21.892816,
          22.025672,
          22.158527999999997,
          22.291383999999997,
          22.424239999999998,
          22.557095999999998,
          22.689951999999998,
          22.822808,
          22.955664000000002,
          23.08852,
          23.221376,
          23.354232,
          23.487088,
          23.619944,
          23.7528,
          23.885656,
          24.018511999999998,
          24.151367999999998,
          24.284224,
          24.41708,
          24.549936,
          24.682792,
          24.815647999999996,
          24.948504,
          25.08136,
          25.214216,
          25.347072,
          25.479928,
          25.612784,
          25.745639999999998,
          25.878496,
          26.011352,
          26.144208,
          26.277064,
          26.40992,
          26.542775999999996,
          26.675631999999997,
          26.808487999999997,
          26.941343999999997,
          27.074199999999998,
          27.207056,
          27.339912,
          27.472768,
          27.605624,
          27.73848,
          27.871336,
          28.004192,
          28.137048,
          28.269904,
          28.402759999999997,
          28.535615999999997,
          28.668471999999998,
          28.801327999999998,
          28.934184,
          29.06704,
          29.199896000000003,
          29.332752,
          29.465608,
          29.598464,
          29.73132,
          29.864176,
          29.997032,
          30.129887999999998,
          30.262743999999998,
          30.395599999999998,
          30.528456,
          30.661312,
          30.794168,
          30.927024,
          31.059879999999996,
          31.192735999999996,
          31.325591999999997,
          31.458448,
          31.591304,
          31.72416,
          31.857015999999998,
          31.989872,
          32.122727999999995,
          32.255584,
          32.388439999999996,
          32.521296,
          32.654151999999996,
          32.787008,
          32.919864,
          33.05272,
          33.185576,
          33.318432,
          33.451288,
          33.584144,
          33.717,
          33.849856,
          33.982712,
          34.115567999999996,
          34.248424,
          34.38128,
          34.514136,
          34.646992,
          34.779848,
          34.912704,
          35.045559999999995,
          35.178416,
          35.311271999999995,
          35.444128,
          35.576983999999996,
          35.70984,
          35.842696,
          35.97555199999999,
          36.108408,
          36.241263999999994,
          36.37412,
          36.506975999999995,
          36.639832,
          36.772688,
          36.905544,
          37.0384,
          37.171256,
          37.304112,
          37.436968,
          37.569824000000004,
          37.70268,
          37.835536,
          37.968392,
          38.101248,
          38.234104,
          38.36696,
          38.499815999999996,
          38.632672,
          38.765527999999996,
          38.898384,
          39.03124,
          39.164096,
          39.296952,
          39.429807999999994,
          39.562664,
          39.695519999999995,
          39.828376,
          39.961231999999995,
          40.094088,
          40.226943999999996,
          40.35979999999999,
          40.492656,
          40.62551199999999,
          40.758368,
          40.891224,
          41.024080000000005,
          41.156936,
          41.289792,
          41.422648,
          41.555504,
          41.68836,
          41.821216,
          41.954072000000004,
          42.086928,
          42.219784,
          42.35264,
          42.485496,
          42.618352,
          42.751208,
          42.884063999999995,
          43.01692,
          43.149775999999996,
          43.282632,
          43.415487999999996,
          43.548344,
          43.6812,
          43.814055999999994,
          43.946912,
          44.079767999999994,
          44.212624,
          44.345479999999995,
          44.478336,
          44.611191999999996,
          44.74404799999999,
          44.876903999999996,
          45.00975999999999,
          45.142616,
          45.275472,
          45.408328000000004,
          45.541184,
          45.67404,
          45.806896,
          45.939752,
          46.072608,
          46.205464,
          46.33832,
          46.471176,
          46.604032,
          46.736888,
          46.869744,
          47.0026,
          47.135456,
          47.268312,
          47.401168,
          47.534023999999995,
          47.66688,
          47.799735999999996,
          47.932592,
          48.065447999999996,
          48.19830399999999,
          48.33116,
          48.464015999999994,
          48.596872,
          48.729727999999994,
          48.862584,
          48.995439999999995,
          49.12829599999999,
          49.261151999999996,
          49.394008,
          49.526864,
          49.65972,
          49.792576000000004,
          49.925432,
          50.058288,
          50.191144,
          50.324,
          50.456856,
          50.589712,
          50.722568,
          50.855424,
          50.988279999999996,
          51.121136,
          51.253992,
          51.386848,
          51.519704,
          51.65256,
          51.785416,
          51.918271999999995,
          52.051128,
          52.183983999999995,
          52.31684,
          52.449695999999996,
          52.58255199999999,
          52.715408,
          52.84826399999999,
          52.98112,
          53.113975999999994,
          53.246832,
          53.379687999999994,
          53.51254399999999,
          53.645399999999995,
          53.778256,
          53.911112,
          54.043968,
          54.176824,
          54.30968,
          54.442536,
          54.575392,
          54.708248,
          54.841104,
          54.97396,
          55.106816,
          55.239672,
          55.372527999999996,
          55.505384,
          55.638239999999996,
          55.771096,
          55.903952,
          56.036808,
          56.169664,
          56.302519999999994,
          56.435376,
          56.568231999999995,
          56.701088,
          56.833943999999995,
          56.9668,
          57.099655999999996,
          57.23251199999999,
          57.365368,
          57.49822399999999,
          57.63108,
          57.763935999999994,
          57.896792000000005,
          58.029648,
          58.162504,
          58.29536,
          58.428216,
          58.561072,
          58.693928,
          58.826783999999996,
          58.95964,
          59.092496,
          59.225352,
          59.358208,
          59.491064,
          59.62392,
          59.756775999999995,
          59.889632,
          60.022487999999996,
          60.155344,
          60.288199999999996,
          60.421056,
          60.553912,
          60.686767999999994,
          60.819624,
          60.952479999999994,
          61.085336,
          61.218191999999995,
          61.351048,
          61.483903999999995,
          61.61675999999999,
          61.749615999999996,
          61.88247199999999,
          62.015328,
          62.14818399999999,
          62.281040000000004,
          62.413896,
          62.546752,
          62.679608,
          62.812464,
          62.94532,
          63.078176,
          63.211031999999996,
          63.343888,
          63.476744,
          63.6096,
          63.742456,
          63.875312,
          64.008168,
          64.14102399999999,
          64.27387999999999,
          64.406736,
          64.539592,
          64.672448,
          64.80530399999999,
          64.93816,
          65.071016,
          65.20387199999999,
          65.336728,
          65.469584,
          65.60244,
          65.73529599999999,
          65.868152,
          66.001008,
          66.133864,
          66.26672,
          66.399576,
          66.532432,
          66.665288,
          66.798144
         ],
         "xaxis": "x",
         "y": {
          "bdata": "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",
          "dtype": "f8"
         },
         "yaxis": "y"
        }
       ],
       "layout": {
        "barmode": "overlay",
        "font": {
         "size": 18
        },
        "hovermode": "closest",
        "legend": {
         "traceorder": "reversed"
        },
        "plot_bgcolor": "#F5F5F8",
        "template": {
         "data": {
          "bar": [
           {
            "error_x": {
             "color": "#2a3f5f"
            },
            "error_y": {
             "color": "#2a3f5f"
            },
            "marker": {
             "line": {
              "color": "#E5ECF6",
              "width": 0.5
             },
             "pattern": {
              "fillmode": "overlay",
              "size": 10,
              "solidity": 0.2
             }
            },
            "type": "bar"
           }
          ],
          "barpolar": [
           {
            "marker": {
             "line": {
              "color": "#E5ECF6",
              "width": 0.5
             },
             "pattern": {
              "fillmode": "overlay",
              "size": 10,
              "solidity": 0.2
             }
            },
            "type": "barpolar"
           }
          ],
          "carpet": [
           {
            "aaxis": {
             "endlinecolor": "#2a3f5f",
             "gridcolor": "white",
             "linecolor": "white",
             "minorgridcolor": "white",
             "startlinecolor": "#2a3f5f"
            },
            "baxis": {
             "endlinecolor": "#2a3f5f",
             "gridcolor": "white",
             "linecolor": "white",
             "minorgridcolor": "white",
             "startlinecolor": "#2a3f5f"
            },
            "type": "carpet"
           }
          ],
          "choropleth": [
           {
            "colorbar": {
             "outlinewidth": 0,
             "ticks": ""
            },
            "type": "choropleth"
           }
          ],
          "contour": [
           {
            "colorbar": {
             "outlinewidth": 0,
             "ticks": ""
            },
            "colorscale": [
             [
              0,
              "#0d0887"
             ],
             [
              0.1111111111111111,
              "#46039f"
             ],
             [
              0.2222222222222222,
              "#7201a8"
             ],
             [
              0.3333333333333333,
              "#9c179e"
             ],
             [
              0.4444444444444444,
              "#bd3786"
             ],
             [
              0.5555555555555556,
              "#d8576b"
             ],
             [
              0.6666666666666666,
              "#ed7953"
             ],
             [
              0.7777777777777778,
              "#fb9f3a"
             ],
             [
              0.8888888888888888,
              "#fdca26"
             ],
             [
              1,
              "#f0f921"
             ]
            ],
            "type": "contour"
           }
          ],
          "contourcarpet": [
           {
            "colorbar": {
             "outlinewidth": 0,
             "ticks": ""
            },
            "type": "contourcarpet"
           }
          ],
          "heatmap": [
           {
            "colorbar": {
             "outlinewidth": 0,
             "ticks": ""
            },
            "colorscale": [
             [
              0,
              "#0d0887"
             ],
             [
              0.1111111111111111,
              "#46039f"
             ],
             [
              0.2222222222222222,
              "#7201a8"
             ],
             [
              0.3333333333333333,
              "#9c179e"
             ],
             [
              0.4444444444444444,
              "#bd3786"
             ],
             [
              0.5555555555555556,
              "#d8576b"
             ],
             [
              0.6666666666666666,
              "#ed7953"
             ],
             [
              0.7777777777777778,
              "#fb9f3a"
             ],
             [
              0.8888888888888888,
              "#fdca26"
             ],
             [
              1,
              "#f0f921"
             ]
            ],
            "type": "heatmap"
           }
          ],
          "histogram": [
           {
            "marker": {
             "pattern": {
              "fillmode": "overlay",
              "size": 10,
              "solidity": 0.2
             }
            },
            "type": "histogram"
           }
          ],
          "histogram2d": [
           {
            "colorbar": {
             "outlinewidth": 0,
             "ticks": ""
            },
            "colorscale": [
             [
              0,
              "#0d0887"
             ],
             [
              0.1111111111111111,
              "#46039f"
             ],
             [
              0.2222222222222222,
              "#7201a8"
             ],
             [
              0.3333333333333333,
              "#9c179e"
             ],
             [
              0.4444444444444444,
              "#bd3786"
             ],
             [
              0.5555555555555556,
              "#d8576b"
             ],
             [
              0.6666666666666666,
              "#ed7953"
             ],
             [
              0.7777777777777778,
              "#fb9f3a"
             ],
             [
              0.8888888888888888,
              "#fdca26"
             ],
             [
              1,
              "#f0f921"
             ]
            ],
            "type": "histogram2d"
           }
          ],
          "histogram2dcontour": [
           {
            "colorbar": {
             "outlinewidth": 0,
             "ticks": ""
            },
            "colorscale": [
             [
              0,
              "#0d0887"
             ],
             [
              0.1111111111111111,
              "#46039f"
             ],
             [
              0.2222222222222222,
              "#7201a8"
             ],
             [
              0.3333333333333333,
              "#9c179e"
             ],
             [
              0.4444444444444444,
              "#bd3786"
             ],
             [
              0.5555555555555556,
              "#d8576b"
             ],
             [
              0.6666666666666666,
              "#ed7953"
             ],
             [
              0.7777777777777778,
              "#fb9f3a"
             ],
             [
              0.8888888888888888,
              "#fdca26"
             ],
             [
              1,
              "#f0f921"
             ]
            ],
            "type": "histogram2dcontour"
           }
          ],
          "mesh3d": [
           {
            "colorbar": {
             "outlinewidth": 0,
             "ticks": ""
            },
            "type": "mesh3d"
           }
          ],
          "parcoords": [
           {
            "line": {
             "colorbar": {
              "outlinewidth": 0,
              "ticks": ""
             }
            },
            "type": "parcoords"
           }
          ],
          "pie": [
           {
            "automargin": true,
            "type": "pie"
           }
          ],
          "scatter": [
           {
            "fillpattern": {
             "fillmode": "overlay",
             "size": 10,
             "solidity": 0.2
            },
            "type": "scatter"
           }
          ],
          "scatter3d": [
           {
            "line": {
             "colorbar": {
              "outlinewidth": 0,
              "ticks": ""
             }
            },
            "marker": {
             "colorbar": {
              "outlinewidth": 0,
              "ticks": ""
             }
            },
            "type": "scatter3d"
           }
          ],
          "scattercarpet": [
           {
            "marker": {
             "colorbar": {
              "outlinewidth": 0,
              "ticks": ""
             }
            },
            "type": "scattercarpet"
           }
          ],
          "scattergeo": [
           {
            "marker": {
             "colorbar": {
              "outlinewidth": 0,
              "ticks": ""
             }
            },
            "type": "scattergeo"
           }
          ],
          "scattergl": [
           {
            "marker": {
             "colorbar": {
              "outlinewidth": 0,
              "ticks": ""
             }
            },
            "type": "scattergl"
           }
          ],
          "scattermap": [
           {
            "marker": {
             "colorbar": {
              "outlinewidth": 0,
              "ticks": ""
             }
            },
            "type": "scattermap"
           }
          ],
          "scattermapbox": [
           {
            "marker": {
             "colorbar": {
              "outlinewidth": 0,
              "ticks": ""
             }
            },
            "type": "scattermapbox"
           }
          ],
          "scatterpolar": [
           {
            "marker": {
             "colorbar": {
              "outlinewidth": 0,
              "ticks": ""
             }
            },
            "type": "scatterpolar"
           }
          ],
          "scatterpolargl": [
           {
            "marker": {
             "colorbar": {
              "outlinewidth": 0,
              "ticks": ""
             }
            },
            "type": "scatterpolargl"
           }
          ],
          "scatterternary": [
           {
            "marker": {
             "colorbar": {
              "outlinewidth": 0,
              "ticks": ""
             }
            },
            "type": "scatterternary"
           }
          ],
          "surface": [
           {
            "colorbar": {
             "outlinewidth": 0,
             "ticks": ""
            },
            "colorscale": [
             [
              0,
              "#0d0887"
             ],
             [
              0.1111111111111111,
              "#46039f"
             ],
             [
              0.2222222222222222,
              "#7201a8"
             ],
             [
              0.3333333333333333,
              "#9c179e"
             ],
             [
              0.4444444444444444,
              "#bd3786"
             ],
             [
              0.5555555555555556,
              "#d8576b"
             ],
             [
              0.6666666666666666,
              "#ed7953"
             ],
             [
              0.7777777777777778,
              "#fb9f3a"
             ],
             [
              0.8888888888888888,
              "#fdca26"
             ],
             [
              1,
              "#f0f921"
             ]
            ],
            "type": "surface"
           }
          ],
          "table": [
           {
            "cells": {
             "fill": {
              "color": "#EBF0F8"
             },
             "line": {
              "color": "white"
             }
            },
            "header": {
             "fill": {
              "color": "#C8D4E3"
             },
             "line": {
              "color": "white"
             }
            },
            "type": "table"
           }
          ]
         },
         "layout": {
          "annotationdefaults": {
           "arrowcolor": "#2a3f5f",
           "arrowhead": 0,
           "arrowwidth": 1
          },
          "autotypenumbers": "strict",
          "coloraxis": {
           "colorbar": {
            "outlinewidth": 0,
            "ticks": ""
           }
          },
          "colorscale": {
           "diverging": [
            [
             0,
             "#8e0152"
            ],
            [
             0.1,
             "#c51b7d"
            ],
            [
             0.2,
             "#de77ae"
            ],
            [
             0.3,
             "#f1b6da"
            ],
            [
             0.4,
             "#fde0ef"
            ],
            [
             0.5,
             "#f7f7f7"
            ],
            [
             0.6,
             "#e6f5d0"
            ],
            [
             0.7,
             "#b8e186"
            ],
            [
             0.8,
             "#7fbc41"
            ],
            [
             0.9,
             "#4d9221"
            ],
            [
             1,
             "#276419"
            ]
           ],
           "sequential": [
            [
             0,
             "#0d0887"
            ],
            [
             0.1111111111111111,
             "#46039f"
            ],
            [
             0.2222222222222222,
             "#7201a8"
            ],
            [
             0.3333333333333333,
             "#9c179e"
            ],
            [
             0.4444444444444444,
             "#bd3786"
            ],
            [
             0.5555555555555556,
             "#d8576b"
            ],
            [
             0.6666666666666666,
             "#ed7953"
            ],
            [
             0.7777777777777778,
             "#fb9f3a"
            ],
            [
             0.8888888888888888,
             "#fdca26"
            ],
            [
             1,
             "#f0f921"
            ]
           ],
           "sequentialminus": [
            [
             0,
             "#0d0887"
            ],
            [
             0.1111111111111111,
             "#46039f"
            ],
            [
             0.2222222222222222,
             "#7201a8"
            ],
            [
             0.3333333333333333,
             "#9c179e"
            ],
            [
             0.4444444444444444,
             "#bd3786"
            ],
            [
             0.5555555555555556,
             "#d8576b"
            ],
            [
             0.6666666666666666,
             "#ed7953"
            ],
            [
             0.7777777777777778,
             "#fb9f3a"
            ],
            [
             0.8888888888888888,
             "#fdca26"
            ],
            [
             1,
             "#f0f921"
            ]
           ]
          },
          "colorway": [
           "#636efa",
           "#EF553B",
           "#00cc96",
           "#ab63fa",
           "#FFA15A",
           "#19d3f3",
           "#FF6692",
           "#B6E880",
           "#FF97FF",
           "#FECB52"
          ],
          "font": {
           "color": "#2a3f5f"
          },
          "geo": {
           "bgcolor": "white",
           "lakecolor": "white",
           "landcolor": "#E5ECF6",
           "showlakes": true,
           "showland": true,
           "subunitcolor": "white"
          },
          "hoverlabel": {
           "align": "left"
          },
          "hovermode": "closest",
          "mapbox": {
           "style": "light"
          },
          "paper_bgcolor": "white",
          "plot_bgcolor": "#E5ECF6",
          "polar": {
           "angularaxis": {
            "gridcolor": "white",
            "linecolor": "white",
            "ticks": ""
           },
           "bgcolor": "#E5ECF6",
           "radialaxis": {
            "gridcolor": "white",
            "linecolor": "white",
            "ticks": ""
           }
          },
          "scene": {
           "xaxis": {
            "backgroundcolor": "#E5ECF6",
            "gridcolor": "white",
            "gridwidth": 2,
            "linecolor": "white",
            "showbackground": true,
            "ticks": "",
            "zerolinecolor": "white"
           },
           "yaxis": {
            "backgroundcolor": "#E5ECF6",
            "gridcolor": "white",
            "gridwidth": 2,
            "linecolor": "white",
            "showbackground": true,
            "ticks": "",
            "zerolinecolor": "white"
           },
           "zaxis": {
            "backgroundcolor": "#E5ECF6",
            "gridcolor": "white",
            "gridwidth": 2,
            "linecolor": "white",
            "showbackground": true,
            "ticks": "",
            "zerolinecolor": "white"
           }
          },
          "shapedefaults": {
           "line": {
            "color": "#2a3f5f"
           }
          },
          "ternary": {
           "aaxis": {
            "gridcolor": "white",
            "linecolor": "white",
            "ticks": ""
           },
           "baxis": {
            "gridcolor": "white",
            "linecolor": "white",
            "ticks": ""
           },
           "bgcolor": "#E5ECF6",
           "caxis": {
            "gridcolor": "white",
            "linecolor": "white",
            "ticks": ""
           }
          },
          "title": {
           "x": 0.05
          },
          "xaxis": {
           "automargin": true,
           "gridcolor": "white",
           "linecolor": "white",
           "ticks": "",
           "title": {
            "standoff": 15
           },
           "zerolinecolor": "white",
           "zerolinewidth": 2
          },
          "yaxis": {
           "automargin": true,
           "gridcolor": "white",
           "linecolor": "white",
           "ticks": "",
           "title": {
            "standoff": 15
           },
           "zerolinecolor": "white",
           "zerolinewidth": 2
          }
         }
        },
        "title": {
         "text": "Real vs. Synthetic Data for column 'kWhDelivered'"
        },
        "xaxis": {
         "anchor": "y2",
         "domain": [
          0,
          1
         ],
         "title": {
          "text": "Value"
         },
         "zeroline": false
        },
        "yaxis": {
         "anchor": "free",
         "domain": [
          0,
          1
         ],
         "position": 0,
         "title": {
          "text": "Frequency"
         }
        }
       }
      }
     },
     "metadata": {},
     "output_type": "display_data"
    }
   ],
   "source": [
    "from sdv.evaluation.single_table import get_column_plot\n",
    "\n",
    "fig = get_column_plot(\n",
    "    real_data=df ,\n",
    "    synthetic_data=synthetic_data,\n",
    "    column_name='kWhDelivered',\n",
    "    metadata=metadata\n",
    ")\n",
    "\n",
    "fig.show()"
   ]
  },
  {
   "cell_type": "code",
   "execution_count": 31,
   "metadata": {},
   "outputs": [
    {
     "data": {
      "application/vnd.plotly.v1+json": {
       "config": {
        "plotlyServerURL": "https://plot.ly"
       },
       "data": [
        {
         "hovertemplate": "Data=Real<br>doneChargingTime=%{x}<br>kWhDelivered=%{y}<extra></extra>",
         "legendgroup": "Real",
         "marker": {
          "color": "#000036",
          "symbol": "circle"
         },
         "mode": "markers",
         "name": "Real",
         "showlegend": true,
         "type": "scattergl",
         "x": [
          "2020-01-01T22:11:41.000000000",
          "2020-01-02T17:31:35.000000000",
          "2020-01-02T20:18:05.000000000",
          "2020-01-02T16:35:06.000000000",
          "2020-01-02T15:18:45.000000000",
          "2020-01-02T18:17:30.000000000",
          "2020-01-02T20:13:21.000000000",
          "2020-01-03T00:59:21.000000000",
          "2020-01-02T20:22:40.000000000",
          "2020-01-02T18:38:39.000000000",
          "2020-01-02T19:17:46.000000000",
          "2020-01-02T17:33:07.000000000",
          "2020-01-02T22:48:48.000000000",
          "2020-01-02T22:09:36.000000000",
          "2020-01-02T22:01:53.000000000",
          "2020-01-02T18:12:46.000000000",
          "2020-01-02T19:14:54.000000000",
          "2020-01-02T17:11:59.000000000",
          "2020-01-02T18:34:05.000000000",
          "2020-01-02T20:35:34.000000000",
          "2020-01-02T19:31:22.000000000",
          "2020-01-02T19:02:51.000000000",
          "2020-01-02T23:53:42.000000000",
          "2020-01-02T19:31:05.000000000",
          "2020-01-02T17:31:51.000000000",
          "2020-01-02T18:44:53.000000000",
          "2020-01-02T21:59:42.000000000",
          "2020-01-02T16:36:34.000000000",
          "2020-01-02T20:41:42.000000000",
          "2020-01-02T20:37:27.000000000",
          "2020-01-03T02:46:22.000000000",
          "2020-01-02T19:22:39.000000000",
          "2020-01-02T22:25:42.000000000",
          "2020-01-02T19:38:12.000000000",
          "2020-01-02T18:50:38.000000000",
          "2020-01-02T18:48:08.000000000",
          "2020-01-02T20:39:19.000000000",
          "2020-01-02T17:55:59.000000000",
          "2020-01-02T18:32:06.000000000",
          "2020-01-02T21:49:28.000000000",
          "2020-01-02T18:38:23.000000000",
          "2020-01-02T20:22:54.000000000",
          "2020-01-02T19:59:39.000000000",
          "2020-01-02T21:28:14.000000000",
          "2020-01-02T22:31:35.000000000",
          "2020-01-02T20:51:54.000000000",
          "2020-01-02T19:39:23.000000000",
          "2020-01-02T21:28:56.000000000",
          "2020-01-02T20:43:18.000000000",
          "2020-01-02T20:43:59.000000000",
          "2020-01-02T22:53:36.000000000",
          "2020-01-02T22:25:44.000000000",
          "2020-01-02T23:19:36.000000000",
          "2020-01-02T22:23:16.000000000",
          "2020-01-03T02:22:34.000000000",
          "2020-01-02T23:26:37.000000000",
          "2020-01-03T02:17:06.000000000",
          "2020-01-03T02:46:22.000000000",
          "2020-01-03T00:50:34.000000000",
          "2020-01-03T00:37:20.000000000",
          "2020-01-03T02:43:05.000000000",
          "2020-01-03T02:35:34.000000000",
          "2020-01-03T03:57:01.000000000",
          "2020-01-03T16:29:15.000000000",
          "2020-01-03T18:32:52.000000000",
          "2020-01-03T18:09:30.000000000",
          "2020-01-03T18:05:58.000000000",
          "2020-01-03T17:24:24.000000000",
          "2020-01-03T20:13:56.000000000",
          "2020-01-03T22:19:48.000000000",
          "2020-01-04T00:01:54.000000000",
          "2020-01-04T03:24:06.000000000",
          "2020-01-03T23:02:54.000000000",
          "2020-01-03T23:18:08.000000000",
          "2020-01-04T02:13:00.000000000",
          "2020-01-04T17:00:22.000000000",
          "2020-01-04T22:30:42.000000000",
          "2020-01-05T15:26:47.000000000",
          "2020-01-05T16:10:07.000000000",
          "2020-01-05T22:06:57.000000000",
          "2020-01-05T23:34:58.000000000",
          "2020-01-06T03:54:35.000000000",
          "2020-01-06T23:34:41.000000000",
          "2020-01-06T15:23:40.000000000",
          "2020-01-07T00:39:35.000000000",
          "2020-01-06T18:56:00.000000000",
          "2020-01-06T22:23:59.000000000",
          "2020-01-06T16:14:40.000000000",
          "2020-01-06T15:52:29.000000000",
          "2020-01-06T15:15:09.000000000",
          "2020-01-06T23:10:42.000000000",
          "2020-01-06T22:11:55.000000000",
          "2020-01-06T21:53:37.000000000",
          "2020-01-06T16:19:16.000000000",
          "2020-01-06T16:27:36.000000000",
          "2020-01-06T17:52:07.000000000",
          "2020-01-06T17:46:59.000000000",
          "2020-01-06T18:10:34.000000000",
          "2020-01-06T16:29:57.000000000",
          "2020-01-06T22:40:50.000000000",
          "2020-01-06T17:36:01.000000000",
          "2020-01-06T19:36:44.000000000",
          "2020-01-06T18:15:49.000000000",
          "2020-01-06T18:26:31.000000000",
          "2020-01-06T18:06:10.000000000",
          "2020-01-06T17:42:19.000000000",
          "2020-01-06T18:28:49.000000000",
          "2020-01-06T18:04:47.000000000",
          "2020-01-06T17:18:11.000000000",
          "2020-01-06T20:32:55.000000000",
          "2020-01-06T17:29:11.000000000",
          "2020-01-06T19:22:54.000000000",
          "2020-01-06T19:53:32.000000000",
          "2020-01-06T23:26:02.000000000",
          "2020-01-06T18:16:43.000000000",
          "2020-01-06T18:28:22.000000000",
          "2020-01-06T20:39:26.000000000",
          "2020-01-06T17:56:39.000000000",
          "2020-01-06T19:25:29.000000000",
          "2020-01-06T20:59:39.000000000",
          "2020-01-06T23:05:13.000000000",
          "2020-01-06T18:19:32.000000000",
          "2020-01-06T23:52:44.000000000",
          "2020-01-06T20:23:27.000000000",
          "2020-01-06T19:40:33.000000000",
          "2020-01-06T22:35:37.000000000",
          "2020-01-06T21:11:07.000000000",
          "2020-01-06T18:38:18.000000000",
          "2020-01-06T20:08:54.000000000",
          "2020-01-06T22:01:41.000000000",
          "2020-01-07T00:16:32.000000000",
          "2020-01-06T18:52:43.000000000",
          "2020-01-06T23:53:48.000000000",
          "2020-01-06T20:37:17.000000000",
          "2020-01-07T01:15:07.000000000",
          "2020-01-06T22:56:58.000000000",
          "2020-01-06T23:18:29.000000000",
          "2020-01-07T00:40:35.000000000",
          "2020-01-07T01:24:37.000000000",
          "2020-01-06T22:24:22.000000000",
          "2020-01-06T22:58:48.000000000",
          "2020-01-07T02:20:48.000000000",
          "2020-01-07T02:00:03.000000000",
          "2020-01-07T01:42:44.000000000",
          "2020-01-07T01:12:52.000000000",
          "2020-01-07T03:12:40.000000000",
          "2020-01-07T01:13:15.000000000",
          "2020-01-07T01:19:36.000000000",
          "2020-01-07T01:24:26.000000000",
          "2020-01-07T01:18:06.000000000",
          "2020-01-07T01:16:45.000000000",
          "2020-01-07T01:59:07.000000000",
          "2020-01-07T01:26:09.000000000",
          "2020-01-07T02:44:52.000000000",
          "2020-01-07T02:52:51.000000000",
          "2020-01-07T01:56:57.000000000",
          "2020-01-07T04:48:44.000000000",
          "2020-01-07T06:35:46.000000000",
          "2020-01-07T21:13:55.000000000",
          "2020-01-07T15:11:30.000000000",
          "2020-01-07T17:19:20.000000000",
          "2020-01-07T15:15:36.000000000",
          "2020-01-07T17:56:41.000000000",
          "2020-01-07T18:19:51.000000000",
          "2020-01-07T15:53:05.000000000",
          "2020-01-08T01:44:04.000000000",
          "2020-01-07T23:54:50.000000000",
          "2020-01-07T17:05:01.000000000",
          "2020-01-07T19:06:49.000000000",
          "2020-01-07T18:42:17.000000000",
          "2020-01-07T22:02:12.000000000",
          "2020-01-07T21:55:54.000000000",
          "2020-01-07T17:52:18.000000000",
          "2020-01-07T23:48:05.000000000",
          "2020-01-07T22:16:51.000000000",
          "2020-01-07T20:24:22.000000000",
          "2020-01-07T16:27:15.000000000",
          "2020-01-07T21:03:37.000000000",
          "2020-01-07T18:14:42.000000000",
          "2020-01-07T18:27:59.000000000",
          "2020-01-07T19:41:40.000000000",
          "2020-01-07T15:07:06.000000000",
          "2020-01-07T19:19:26.000000000",
          "2020-01-07T17:45:52.000000000",
          "2020-01-07T17:49:18.000000000",
          "2020-01-07T17:21:44.000000000",
          "2020-01-07T17:19:27.000000000",
          "2020-01-07T17:07:46.000000000",
          "2020-01-07T17:30:46.000000000",
          "2020-01-07T21:24:34.000000000",
          "2020-01-07T17:47:58.000000000",
          "2020-01-07T17:37:30.000000000",
          "2020-01-07T17:25:59.000000000",
          "2020-01-07T18:52:03.000000000",
          "2020-01-07T22:54:11.000000000",
          "2020-01-07T20:00:08.000000000",
          "2020-01-07T17:03:42.000000000",
          "2020-01-07T18:29:04.000000000",
          "2020-01-07T21:11:56.000000000"
         ],
         "xaxis": "x",
         "y": {
          "bdata": "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",
          "dtype": "f8"
         },
         "yaxis": "y"
        },
        {
         "hovertemplate": "Data=Synthetic<br>doneChargingTime=%{x}<br>kWhDelivered=%{y}<extra></extra>",
         "legendgroup": "Synthetic",
         "marker": {
          "color": "#01E0C9",
          "symbol": "diamond"
         },
         "mode": "markers",
         "name": "Synthetic",
         "showlegend": true,
         "type": "scattergl",
         "x": [
          "2020-01-07T04:58:27.000000000",
          "2020-01-03T21:40:07.000000000",
          "2020-01-03T10:07:26.000000000",
          "2020-01-05T18:33:05.000000000",
          "2020-01-04T21:33:05.000000000",
          "2020-01-03T00:20:26.000000000",
          "2020-01-04T08:38:32.000000000",
          "2020-01-05T09:21:54.000000000",
          "2020-01-03T11:08:27.000000000",
          "2020-01-07T20:23:24.000000000",
          "2020-01-02T08:34:42.000000000",
          "2020-01-05T17:25:30.000000000",
          "2020-01-02T07:43:17.000000000",
          "2020-01-03T06:42:53.000000000",
          "2020-01-02T20:35:16.000000000",
          "2020-01-03T01:53:34.000000000",
          "2020-01-07T18:31:56.000000000",
          "2020-01-07T19:18:07.000000000",
          "2020-01-05T23:55:01.000000000",
          "2020-01-03T08:12:51.000000000",
          "2020-01-07T06:37:30.000000000",
          "2020-01-02T21:14:03.000000000",
          "2020-01-02T14:22:12.000000000",
          "2020-01-07T03:17:22.000000000",
          "2020-01-05T15:06:42.000000000",
          "2020-01-06T23:15:11.000000000",
          "2020-01-07T05:56:49.000000000",
          "2020-01-05T01:26:29.000000000",
          "2020-01-04T02:32:52.000000000",
          "2020-01-07T04:43:20.000000000",
          "2020-01-02T04:53:12.000000000",
          "2020-01-04T01:55:22.000000000",
          "2020-01-05T14:35:06.000000000",
          "2020-01-05T22:43:14.000000000",
          "2020-01-02T19:25:34.000000000",
          "2020-01-02T13:54:13.000000000",
          "2020-01-06T17:46:27.000000000",
          "2020-01-02T05:14:35.000000000",
          "2020-01-06T09:53:29.000000000",
          "2020-01-06T07:57:07.000000000",
          "2020-01-03T01:49:46.000000000",
          "2020-01-07T09:38:49.000000000",
          "2020-01-05T01:47:34.000000000",
          "2020-01-06T01:02:37.000000000",
          "2020-01-05T00:59:19.000000000",
          "2020-01-07T06:38:53.000000000",
          "2020-01-06T11:31:59.000000000",
          "2020-01-03T15:52:12.000000000",
          "2020-01-02T20:02:34.000000000",
          "2020-01-03T08:37:28.000000000",
          "2020-01-04T07:18:56.000000000",
          "2020-01-05T18:58:16.000000000",
          "2020-01-06T13:57:22.000000000",
          "2020-01-05T00:59:30.000000000",
          "2020-01-06T08:13:50.000000000",
          "2020-01-05T04:18:42.000000000",
          "2020-01-05T08:45:40.000000000",
          "2020-01-04T17:27:15.000000000",
          "2020-01-06T04:05:12.000000000",
          "2020-01-03T05:17:57.000000000",
          "2020-01-03T22:06:47.000000000",
          "2020-01-03T06:35:40.000000000",
          "2020-01-07T16:45:59.000000000",
          "2020-01-06T11:11:45.000000000",
          "2020-01-07T22:19:24.000000000",
          "2020-01-02T13:07:36.000000000",
          "2020-01-02T00:28:09.000000000",
          "2020-01-06T06:17:18.000000000",
          "2020-01-03T16:25:45.000000000",
          "2020-01-05T15:06:53.000000000",
          "2020-01-07T03:38:07.000000000",
          "2020-01-05T06:15:59.000000000",
          "2020-01-02T02:48:26.000000000",
          "2020-01-02T17:19:39.000000000",
          "2020-01-07T10:59:10.000000000",
          "2020-01-06T19:08:08.000000000",
          "2020-01-07T16:38:49.000000000",
          "2020-01-03T22:01:20.000000000",
          "2020-01-05T00:04:16.000000000",
          "2020-01-03T14:29:50.000000000",
          "2020-01-07T21:45:07.000000000",
          "2020-01-05T10:08:12.000000000",
          "2020-01-03T10:57:02.000000000",
          "2020-01-06T02:11:46.000000000",
          "2020-01-02T09:01:37.000000000",
          "2020-01-07T16:13:17.000000000",
          "2020-01-05T04:23:42.000000000",
          "2020-01-04T05:37:40.000000000",
          "2020-01-02T02:39:58.000000000",
          "2020-01-02T05:52:44.000000000",
          "2020-01-07T00:09:51.000000000",
          "2020-01-06T22:50:52.000000000",
          "2020-01-04T06:29:45.000000000",
          "2020-01-04T10:51:37.000000000",
          "2020-01-04T22:57:38.000000000",
          "2020-01-02T10:51:45.000000000",
          "2020-01-05T18:06:26.000000000",
          "2020-01-04T14:21:41.000000000",
          "2020-01-06T15:04:46.000000000",
          "2020-01-03T23:59:31.000000000",
          "2020-01-05T11:30:18.000000000",
          "2020-01-07T14:56:19.000000000",
          "2020-01-07T14:35:18.000000000",
          "2020-01-04T07:14:51.000000000",
          "2020-01-03T19:18:08.000000000",
          "2020-01-07T16:57:49.000000000",
          "2020-01-03T17:48:54.000000000",
          "2020-01-05T01:50:36.000000000",
          "2020-01-07T15:37:14.000000000",
          "2020-01-03T19:26:28.000000000",
          "2020-01-05T02:49:55.000000000",
          "2020-01-06T07:12:04.000000000",
          "2020-01-06T05:53:03.000000000",
          "2020-01-05T02:10:19.000000000",
          "2020-01-03T15:43:05.000000000",
          "2020-01-07T23:08:13.000000000",
          "2020-01-05T18:44:25.000000000",
          "2020-01-06T02:20:40.000000000",
          "2020-01-03T19:53:08.000000000",
          "2020-01-03T12:15:16.000000000",
          "2020-01-06T02:26:09.000000000",
          "2020-01-07T21:16:25.000000000",
          "2020-01-02T11:43:59.000000000",
          "2020-01-02T08:43:53.000000000",
          "2020-01-04T21:24:10.000000000",
          "2020-01-06T18:10:24.000000000",
          "2020-01-07T19:18:36.000000000",
          "2020-01-04T18:53:40.000000000",
          "2020-01-02T00:03:48.000000000",
          "2020-01-07T17:28:59.000000000",
          "2020-01-02T13:57:24.000000000",
          "2020-01-04T08:52:19.000000000",
          "2020-01-06T18:46:18.000000000",
          "2020-01-02T04:31:09.000000000",
          "2020-01-02T02:57:08.000000000",
          "2020-01-03T02:21:30.000000000",
          "2020-01-03T09:26:02.000000000",
          "2020-01-05T19:05:07.000000000",
          "2020-01-05T09:33:23.000000000",
          "2020-01-06T06:38:35.000000000",
          "2020-01-04T00:25:45.000000000",
          "2020-01-03T04:31:41.000000000",
          "2020-01-02T15:37:48.000000000",
          "2020-01-06T03:59:48.000000000",
          "2020-01-07T11:12:06.000000000",
          "2020-01-03T13:37:05.000000000",
          "2020-01-06T01:32:55.000000000",
          "2020-01-04T17:29:13.000000000",
          "2020-01-04T00:53:11.000000000",
          "2020-01-07T07:43:24.000000000",
          "2020-01-02T04:46:45.000000000",
          "2020-01-06T09:12:24.000000000",
          "2020-01-05T14:35:01.000000000",
          "2020-01-07T20:01:24.000000000",
          "2020-01-02T05:06:59.000000000",
          "2020-01-03T16:02:37.000000000",
          "2020-01-04T11:21:56.000000000",
          "2020-01-04T18:49:55.000000000",
          "2020-01-07T05:22:07.000000000",
          "2020-01-07T17:56:05.000000000",
          "2020-01-06T11:20:33.000000000",
          "2020-01-02T10:13:55.000000000",
          "2020-01-04T11:49:05.000000000",
          "2020-01-07T04:52:25.000000000",
          "2020-01-02T01:14:05.000000000",
          "2020-01-07T23:51:19.000000000",
          "2020-01-03T02:42:06.000000000",
          "2020-01-04T06:31:13.000000000",
          "2020-01-04T20:28:39.000000000",
          "2020-01-06T17:08:56.000000000",
          "2020-01-06T04:12:34.000000000",
          "2020-01-04T14:35:44.000000000",
          "2020-01-06T11:01:36.000000000",
          "2020-01-05T13:00:04.000000000",
          "2020-01-01T22:53:01.000000000",
          "2020-01-04T16:23:59.000000000",
          "2020-01-06T09:52:52.000000000",
          "2020-01-07T14:46:41.000000000",
          "2020-01-05T17:16:15.000000000",
          "2020-01-02T13:19:14.000000000",
          "2020-01-06T06:14:14.000000000",
          "2020-01-04T10:50:02.000000000",
          "2020-01-03T04:49:38.000000000",
          "2020-01-07T16:29:56.000000000",
          "2020-01-05T14:47:17.000000000",
          "2020-01-04T14:58:59.000000000",
          "2020-01-05T02:21:08.000000000",
          "2020-01-05T15:13:33.000000000",
          "2020-01-05T04:04:33.000000000",
          "2020-01-03T04:02:44.000000000",
          "2020-01-05T23:24:02.000000000",
          "2020-01-05T21:42:30.000000000",
          "2020-01-02T10:17:46.000000000",
          "2020-01-06T08:32:17.000000000",
          "2020-01-05T14:15:37.000000000",
          "2020-01-07T21:22:50.000000000",
          "2020-01-07T06:42:11.000000000",
          "2020-01-07T16:05:47.000000000",
          "2020-01-07T19:22:58.000000000",
          "2020-01-04T04:59:40.000000000",
          "2020-01-03T18:29:29.000000000",
          "2020-01-02T06:07:30.000000000",
          "2020-01-05T12:29:34.000000000",
          "2020-01-02T21:42:45.000000000",
          "2020-01-04T22:49:40.000000000",
          "2020-01-02T21:29:49.000000000",
          "2020-01-04T11:14:07.000000000",
          "2020-01-03T02:51:33.000000000",
          "2020-01-07T04:54:31.000000000",
          "2020-01-07T20:23:33.000000000",
          "2020-01-05T12:55:04.000000000",
          "2020-01-04T15:41:05.000000000",
          "2020-01-07T20:02:12.000000000",
          "2020-01-06T09:51:12.000000000",
          "2020-01-07T08:16:30.000000000",
          "2020-01-05T12:23:07.000000000",
          "2020-01-02T17:23:44.000000000",
          "2020-01-04T03:00:18.000000000",
          "2020-01-04T23:39:27.000000000",
          "2020-01-04T18:31:01.000000000",
          "2020-01-05T07:34:10.000000000",
          "2020-01-06T01:16:13.000000000",
          "2020-01-06T07:42:09.000000000",
          "2020-01-06T16:14:34.000000000",
          "2020-01-06T11:31:29.000000000",
          "2020-01-05T05:05:06.000000000",
          "2020-01-02T13:27:29.000000000",
          "2020-01-07T14:11:30.000000000",
          "2020-01-03T20:29:28.000000000",
          "2020-01-07T10:28:29.000000000",
          "2020-01-05T04:58:13.000000000",
          "2020-01-04T07:53:46.000000000",
          "2020-01-03T03:49:05.000000000",
          "2020-01-03T07:51:18.000000000",
          "2020-01-06T17:44:14.000000000",
          "2020-01-05T10:01:59.000000000",
          "2020-01-07T09:10:17.000000000",
          "2020-01-03T15:51:38.000000000",
          "2020-01-04T13:44:48.000000000",
          "2020-01-04T10:45:27.000000000",
          "2020-01-02T21:48:53.000000000",
          "2020-01-03T12:48:59.000000000",
          "2020-01-07T22:20:30.000000000",
          "2020-01-06T05:55:11.000000000",
          "2020-01-03T17:32:12.000000000",
          "2020-01-03T11:42:54.000000000",
          "2020-01-04T19:18:56.000000000",
          "2020-01-07T16:10:20.000000000",
          "2020-01-02T21:38:43.000000000",
          "2020-01-07T21:18:12.000000000",
          "2020-01-05T04:51:23.000000000",
          "2020-01-03T11:28:47.000000000",
          "2020-01-04T09:52:31.000000000",
          "2020-01-03T03:05:30.000000000",
          "2020-01-03T10:22:14.000000000",
          "2020-01-04T07:39:52.000000000",
          "2020-01-03T12:55:44.000000000",
          "2020-01-07T17:04:17.000000000",
          "2020-01-08T01:29:00.000000000",
          "2020-01-04T23:48:54.000000000",
          "2020-01-06T18:05:59.000000000",
          "2020-01-05T22:49:02.000000000",
          "2020-01-02T05:42:09.000000000",
          "2020-01-07T13:41:57.000000000",
          "2020-01-02T07:29:44.000000000",
          "2020-01-06T23:52:19.000000000",
          "2020-01-03T17:56:55.000000000",
          "2020-01-06T14:00:35.000000000",
          "2020-01-02T06:01:54.000000000",
          "2020-01-01T22:44:06.000000000",
          "2020-01-05T12:22:29.000000000",
          "2020-01-05T12:07:26.000000000",
          "2020-01-02T20:29:26.000000000",
          "2020-01-05T21:11:01.000000000",
          "2020-01-06T20:20:19.000000000",
          "2020-01-04T21:43:38.000000000",
          "2020-01-06T05:58:08.000000000",
          "2020-01-03T04:43:02.000000000",
          "2020-01-04T02:18:41.000000000",
          "2020-01-02T13:10:35.000000000",
          "2020-01-04T01:59:21.000000000",
          "2020-01-03T04:17:36.000000000",
          "2020-01-04T23:43:36.000000000",
          "2020-01-06T11:14:00.000000000",
          "2020-01-02T09:06:40.000000000",
          "2020-01-07T12:58:53.000000000",
          "2020-01-05T20:04:47.000000000",
          "2020-01-06T10:36:31.000000000",
          "2020-01-05T13:04:19.000000000",
          "2020-01-07T05:09:42.000000000",
          "2020-01-02T13:11:25.000000000",
          "2020-01-03T01:15:38.000000000",
          "2020-01-03T09:44:39.000000000",
          "2020-01-04T13:57:02.000000000",
          "2020-01-07T21:30:49.000000000",
          "2020-01-07T03:33:01.000000000",
          "2020-01-06T11:28:17.000000000",
          "2020-01-07T11:42:38.000000000",
          "2020-01-02T09:59:29.000000000",
          "2020-01-07T06:27:30.000000000",
          "2020-01-02T03:58:57.000000000",
          "2020-01-06T09:54:31.000000000",
          "2020-01-03T22:07:37.000000000",
          "2020-01-06T11:41:29.000000000",
          "2020-01-06T15:48:48.000000000",
          "2020-01-01T23:17:40.000000000",
          "2020-01-07T13:13:39.000000000",
          "2020-01-06T11:08:05.000000000",
          "2020-01-03T00:40:54.000000000",
          "2020-01-03T01:32:12.000000000",
          "2020-01-05T04:35:29.000000000",
          "2020-01-07T09:17:46.000000000",
          "2020-01-07T02:58:07.000000000",
          "2020-01-05T08:35:09.000000000",
          "2020-01-06T16:51:49.000000000",
          "2020-01-06T16:35:59.000000000",
          "2020-01-08T01:29:28.000000000",
          "2020-01-04T00:24:40.000000000",
          "2020-01-06T05:37:20.000000000",
          "2020-01-07T17:39:56.000000000",
          "2020-01-04T07:37:02.000000000",
          "2020-01-06T09:04:57.000000000",
          "2020-01-03T17:07:16.000000000",
          "2020-01-03T10:48:07.000000000",
          "2020-01-07T05:26:49.000000000",
          "2020-01-02T22:32:11.000000000",
          "2020-01-03T02:53:12.000000000",
          "2020-01-05T16:29:23.000000000",
          "2020-01-02T19:00:43.000000000",
          "2020-01-06T12:34:19.000000000",
          "2020-01-04T18:54:42.000000000",
          "2020-01-06T03:42:23.000000000",
          "2020-01-05T15:32:42.000000000",
          "2020-01-06T17:54:42.000000000",
          "2020-01-05T01:40:33.000000000",
          "2020-01-06T14:57:14.000000000",
          "2020-01-06T08:29:33.000000000",
          "2020-01-05T13:36:12.000000000",
          "2020-01-02T09:13:51.000000000",
          "2020-01-05T15:13:16.000000000",
          "2020-01-04T21:06:25.000000000",
          "2020-01-03T21:25:29.000000000",
          "2020-01-04T12:08:04.000000000",
          "2020-01-02T11:19:12.000000000",
          "2020-01-03T22:03:47.000000000",
          "2020-01-04T19:13:51.000000000",
          "2020-01-07T20:16:28.000000000",
          "2020-01-06T12:34:00.000000000",
          "2020-01-05T18:01:34.000000000",
          "2020-01-03T21:16:38.000000000",
          "2020-01-05T22:23:49.000000000",
          "2020-01-05T11:43:09.000000000",
          "2020-01-04T14:07:32.000000000",
          "2020-01-07T00:00:15.000000000",
          "2020-01-04T18:00:22.000000000",
          "2020-01-02T14:56:41.000000000",
          "2020-01-04T11:59:33.000000000",
          "2020-01-06T01:57:14.000000000",
          "2020-01-06T06:46:40.000000000",
          "2020-01-05T08:53:11.000000000",
          "2020-01-05T23:08:21.000000000",
          "2020-01-03T12:39:57.000000000",
          "2020-01-07T22:58:58.000000000",
          "2020-01-05T08:31:45.000000000",
          "2020-01-06T08:39:36.000000000",
          "2020-01-03T02:39:15.000000000",
          "2020-01-07T14:51:29.000000000",
          "2020-01-04T00:33:13.000000000",
          "2020-01-07T09:01:29.000000000",
          "2020-01-04T22:13:29.000000000",
          "2020-01-06T00:55:37.000000000",
          "2020-01-07T12:05:23.000000000",
          "2020-01-02T18:32:59.000000000",
          "2020-01-07T16:10:23.000000000",
          "2020-01-06T11:56:47.000000000",
          "2020-01-07T10:25:42.000000000",
          "2020-01-06T00:50:51.000000000",
          "2020-01-07T05:42:04.000000000",
          "2020-01-03T21:19:07.000000000",
          "2020-01-04T05:43:51.000000000",
          "2020-01-03T22:13:33.000000000",
          "2020-01-07T06:41:08.000000000",
          "2020-01-03T15:16:13.000000000",
          "2020-01-06T06:08:40.000000000",
          "2020-01-04T13:47:48.000000000",
          "2020-01-05T17:17:24.000000000",
          "2020-01-04T13:20:30.000000000",
          "2020-01-02T23:15:01.000000000",
          "2020-01-04T10:03:50.000000000",
          "2020-01-02T16:57:55.000000000",
          "2020-01-02T17:06:46.000000000",
          "2020-01-05T13:39:13.000000000",
          "2020-01-07T12:08:17.000000000",
          "2020-01-02T04:01:46.000000000",
          "2020-01-06T03:31:52.000000000",
          "2020-01-02T19:00:54.000000000",
          "2020-01-04T09:41:18.000000000",
          "2020-01-02T13:47:03.000000000",
          "2020-01-06T23:13:42.000000000",
          "2020-01-02T13:10:11.000000000",
          "2020-01-04T16:44:39.000000000",
          "2020-01-07T20:46:45.000000000",
          "2020-01-08T01:29:36.000000000",
          "2020-01-07T16:12:08.000000000",
          "2020-01-02T13:54:07.000000000",
          "2020-01-07T17:06:14.000000000",
          "2020-01-06T02:38:50.000000000",
          "2020-01-06T06:23:23.000000000",
          "2020-01-05T19:32:26.000000000",
          "2020-01-02T12:15:26.000000000",
          "2020-01-07T13:16:08.000000000",
          "2020-01-07T00:07:20.000000000",
          "2020-01-02T19:33:32.000000000",
          "2020-01-07T21:37:06.000000000",
          "2020-01-04T12:00:46.000000000",
          "2020-01-05T17:06:45.000000000",
          "2020-01-06T20:46:06.000000000",
          "2020-01-07T08:39:37.000000000",
          "2020-01-05T21:43:02.000000000",
          "2020-01-02T08:43:47.000000000",
          "2020-01-05T13:06:57.000000000",
          "2020-01-05T09:11:20.000000000",
          "2020-01-06T19:26:08.000000000",
          "2020-01-02T18:43:21.000000000",
          "2020-01-04T18:06:22.000000000",
          "2020-01-05T01:53:30.000000000",
          "2020-01-07T09:00:19.000000000",
          "2020-01-05T08:00:20.000000000",
          "2020-01-04T03:50:24.000000000",
          "2020-01-04T02:04:28.000000000",
          "2020-01-07T23:31:24.000000000",
          "2020-01-04T13:44:05.000000000",
          "2020-01-02T23:48:18.000000000",
          "2020-01-07T00:34:50.000000000",
          "2020-01-03T15:01:44.000000000",
          "2020-01-05T18:02:45.000000000",
          "2020-01-07T08:39:10.000000000",
          "2020-01-06T00:19:09.000000000",
          "2020-01-07T05:18:19.000000000",
          "2020-01-05T02:35:05.000000000",
          "2020-01-07T22:16:53.000000000",
          "2020-01-04T12:31:26.000000000",
          "2020-01-04T16:00:51.000000000",
          "2020-01-06T13:15:40.000000000",
          "2020-01-05T05:41:03.000000000",
          "2020-01-06T10:54:29.000000000",
          "2020-01-01T23:53:38.000000000",
          "2020-01-07T11:02:55.000000000",
          "2020-01-02T07:33:31.000000000",
          "2020-01-06T18:46:00.000000000",
          "2020-01-07T18:01:26.000000000",
          "2020-01-02T05:32:49.000000000",
          "2020-01-03T07:55:11.000000000",
          "2020-01-02T05:12:33.000000000",
          "2020-01-03T06:56:01.000000000",
          "2020-01-06T02:30:15.000000000",
          "2020-01-03T14:36:28.000000000",
          "2020-01-03T09:02:01.000000000",
          "2020-01-03T11:28:18.000000000",
          "2020-01-04T03:53:36.000000000",
          "2020-01-03T20:58:49.000000000",
          "2020-01-02T04:54:19.000000000",
          "2020-01-03T16:07:10.000000000",
          "2020-01-07T21:50:01.000000000",
          "2020-01-03T10:31:47.000000000",
          "2020-01-04T11:40:43.000000000",
          "2020-01-04T02:16:35.000000000",
          "2020-01-05T00:14:38.000000000",
          "2020-01-04T15:27:28.000000000",
          "2020-01-06T03:00:23.000000000",
          "2020-01-02T02:13:39.000000000",
          "2020-01-04T08:49:15.000000000",
          "2020-01-02T09:42:43.000000000",
          "2020-01-07T11:19:28.000000000",
          "2020-01-02T08:58:00.000000000",
          "2020-01-04T04:25:03.000000000",
          "2020-01-02T00:44:45.000000000",
          "2020-01-06T11:18:06.000000000",
          "2020-01-02T00:46:43.000000000",
          "2020-01-05T22:21:51.000000000",
          "2020-01-05T21:12:27.000000000",
          "2020-01-06T06:14:00.000000000",
          "2020-01-03T11:51:23.000000000",
          "2020-01-05T23:40:54.000000000",
          "2020-01-04T10:50:04.000000000",
          "2020-01-04T05:27:05.000000000",
          "2020-01-04T14:55:13.000000000",
          "2020-01-05T11:47:52.000000000",
          "2020-01-03T14:06:29.000000000",
          "2020-01-02T20:49:39.000000000",
          "2020-01-05T17:58:11.000000000",
          "2020-01-05T23:37:30.000000000",
          "2020-01-03T23:33:29.000000000",
          "2020-01-07T18:33:36.000000000",
          "2020-01-02T22:02:29.000000000",
          "2020-01-04T21:01:30.000000000",
          "2020-01-06T14:03:37.000000000",
          "2020-01-08T00:45:32.000000000",
          "2020-01-06T09:57:08.000000000",
          "2020-01-06T07:30:18.000000000",
          "2020-01-03T07:57:05.000000000",
          "2020-01-03T02:26:59.000000000",
          "2020-01-04T10:37:43.000000000",
          "2020-01-07T03:51:46.000000000",
          "2020-01-04T22:25:10.000000000",
          "2020-01-03T08:15:16.000000000",
          "2020-01-06T05:02:47.000000000",
          "2020-01-05T19:20:07.000000000",
          "2020-01-02T23:28:28.000000000",
          "2020-01-04T20:22:42.000000000",
          "2020-01-03T19:16:32.000000000",
          "2020-01-07T12:01:27.000000000",
          "2020-01-05T10:41:17.000000000",
          "2020-01-03T00:04:35.000000000",
          "2020-01-07T08:02:45.000000000",
          "2020-01-06T00:01:02.000000000",
          "2020-01-02T09:53:44.000000000",
          "2020-01-03T05:48:23.000000000",
          "2020-01-07T09:56:28.000000000",
          "2020-01-06T06:25:40.000000000",
          "2020-01-02T09:14:51.000000000",
          "2020-01-02T00:55:30.000000000",
          "2020-01-04T01:28:37.000000000",
          "2020-01-04T16:35:33.000000000",
          "2020-01-04T11:17:06.000000000",
          "2020-01-04T17:56:48.000000000",
          "2020-01-02T00:41:15.000000000",
          "2020-01-06T17:51:12.000000000",
          "2020-01-03T14:49:53.000000000",
          "2020-01-05T04:48:37.000000000",
          "2020-01-02T11:06:58.000000000",
          "2020-01-07T07:50:08.000000000",
          "2020-01-04T17:07:01.000000000",
          "2020-01-05T16:00:52.000000000",
          "2020-01-04T17:53:31.000000000",
          "2020-01-03T07:17:07.000000000",
          "2020-01-05T18:01:00.000000000",
          "2020-01-02T23:47:29.000000000",
          "2020-01-02T09:39:46.000000000",
          "2020-01-06T07:41:42.000000000",
          "2020-01-02T11:46:02.000000000",
          "2020-01-02T10:02:52.000000000",
          "2020-01-07T01:41:49.000000000",
          "2020-01-07T14:28:30.000000000",
          "2020-01-04T18:40:51.000000000",
          "2020-01-05T06:38:23.000000000",
          "2020-01-06T01:26:34.000000000",
          "2020-01-06T07:31:23.000000000",
          "2020-01-07T23:27:46.000000000",
          "2020-01-05T22:19:31.000000000",
          "2020-01-06T05:17:06.000000000",
          "2020-01-02T17:02:51.000000000",
          "2020-01-05T14:57:26.000000000",
          "2020-01-07T08:47:06.000000000",
          "2020-01-06T04:33:15.000000000",
          "2020-01-02T22:33:52.000000000",
          "2020-01-03T11:00:01.000000000",
          "2020-01-02T01:52:01.000000000",
          "2020-01-05T01:36:08.000000000",
          "2020-01-05T07:19:36.000000000",
          "2020-01-04T04:55:26.000000000",
          "2020-01-07T06:22:53.000000000",
          "2020-01-05T17:10:46.000000000",
          "2020-01-06T10:26:46.000000000",
          "2020-01-06T08:15:04.000000000",
          "2020-01-04T14:10:34.000000000",
          "2020-01-02T20:50:44.000000000",
          "2020-01-07T05:54:41.000000000",
          "2020-01-07T22:24:43.000000000",
          "2020-01-03T18:24:08.000000000",
          "2020-01-07T23:35:28.000000000",
          "2020-01-02T02:03:53.000000000",
          "2020-01-03T20:21:21.000000000",
          "2020-01-07T20:12:14.000000000",
          "2020-01-03T13:50:37.000000000",
          "2020-01-04T17:56:53.000000000",
          "2020-01-04T21:00:34.000000000",
          "2020-01-03T19:48:40.000000000",
          "2020-01-04T04:02:08.000000000",
          "2020-01-05T13:05:18.000000000",
          "2020-01-07T04:28:29.000000000",
          "2020-01-02T04:27:52.000000000",
          "2020-01-02T22:58:58.000000000",
          "2020-01-07T18:06:55.000000000",
          "2020-01-06T11:31:09.000000000",
          "2020-01-04T06:24:18.000000000",
          "2020-01-07T05:48:24.000000000",
          "2020-01-04T20:54:24.000000000",
          "2020-01-07T05:29:52.000000000",
          "2020-01-06T11:34:26.000000000",
          "2020-01-05T10:49:59.000000000",
          "2020-01-06T02:06:20.000000000",
          "2020-01-02T11:14:43.000000000",
          "2020-01-07T20:14:25.000000000",
          "2020-01-07T18:24:09.000000000",
          "2020-01-06T05:48:56.000000000",
          "2020-01-06T11:55:05.000000000",
          "2020-01-07T10:17:07.000000000",
          "2020-01-03T17:02:23.000000000",
          "2020-01-03T06:19:46.000000000",
          "2020-01-06T09:06:06.000000000",
          "2020-01-04T14:04:30.000000000",
          "2020-01-06T20:10:49.000000000",
          "2020-01-04T17:27:26.000000000",
          "2020-01-05T10:54:52.000000000",
          "2020-01-07T14:33:50.000000000",
          "2020-01-07T06:27:23.000000000",
          "2020-01-07T16:16:18.000000000",
          "2020-01-03T10:27:05.000000000",
          "2020-01-06T06:45:22.000000000",
          "2020-01-05T19:50:31.000000000",
          "2020-01-03T09:45:03.000000000",
          "2020-01-05T06:09:44.000000000",
          "2020-01-04T14:40:08.000000000",
          "2020-01-07T07:15:11.000000000",
          "2020-01-02T18:42:39.000000000",
          "2020-01-03T11:57:59.000000000",
          "2020-01-03T23:26:59.000000000",
          "2020-01-06T11:00:32.000000000",
          "2020-01-02T02:33:40.000000000",
          "2020-01-05T12:22:18.000000000",
          "2020-01-02T11:16:24.000000000",
          "2020-01-06T04:19:53.000000000",
          "2020-01-06T18:53:38.000000000",
          "2020-01-05T23:50:18.000000000",
          "2020-01-07T23:24:22.000000000",
          "2020-01-03T13:19:44.000000000",
          "2020-01-02T11:16:59.000000000",
          "2020-01-05T17:15:19.000000000",
          "2020-01-02T22:06:44.000000000",
          "2020-01-06T14:54:41.000000000",
          "2020-01-04T17:41:38.000000000",
          "2020-01-06T20:10:55.000000000",
          "2020-01-06T16:34:38.000000000",
          "2020-01-05T05:13:03.000000000",
          "2020-01-07T02:10:41.000000000",
          "2020-01-06T08:54:53.000000000",
          "2020-01-03T15:31:46.000000000",
          "2020-01-05T05:02:10.000000000",
          "2020-01-06T23:54:25.000000000",
          "2020-01-06T16:50:09.000000000",
          "2020-01-05T10:07:35.000000000",
          "2020-01-04T01:24:19.000000000",
          "2020-01-04T14:23:09.000000000",
          "2020-01-05T16:24:37.000000000",
          "2020-01-07T19:09:31.000000000",
          "2020-01-06T14:50:54.000000000",
          "2020-01-05T00:59:55.000000000",
          "2020-01-02T13:49:18.000000000",
          "2020-01-04T01:24:31.000000000",
          "2020-01-05T22:29:12.000000000",
          "2020-01-05T13:46:23.000000000",
          "2020-01-07T04:15:13.000000000",
          "2020-01-05T01:42:09.000000000",
          "2020-01-02T16:08:22.000000000",
          "2020-01-02T13:50:40.000000000",
          "2020-01-07T01:02:03.000000000",
          "2020-01-06T06:30:43.000000000",
          "2020-01-02T02:01:23.000000000",
          "2020-01-05T09:26:04.000000000",
          "2020-01-07T14:12:50.000000000",
          "2020-01-07T20:58:12.000000000",
          "2020-01-02T20:28:04.000000000",
          "2020-01-05T02:09:25.000000000",
          "2020-01-03T09:29:16.000000000",
          "2020-01-07T07:58:30.000000000",
          "2020-01-07T17:30:29.000000000",
          "2020-01-06T11:09:10.000000000",
          "2020-01-02T17:05:46.000000000",
          "2020-01-05T16:26:07.000000000",
          "2020-01-07T17:59:40.000000000",
          "2020-01-07T14:10:33.000000000",
          "2020-01-02T10:07:15.000000000",
          "2020-01-07T02:33:43.000000000",
          "2020-01-06T20:57:59.000000000",
          "2020-01-05T05:34:42.000000000",
          "2020-01-04T05:32:11.000000000",
          "2020-01-04T13:01:53.000000000",
          "2020-01-03T03:28:38.000000000",
          "2020-01-06T21:53:26.000000000",
          "2020-01-05T11:27:04.000000000",
          "2020-01-04T12:41:18.000000000",
          "2020-01-03T05:34:23.000000000",
          "2020-01-04T20:24:18.000000000",
          "2020-01-04T21:48:27.000000000",
          "2020-01-04T16:23:39.000000000",
          "2020-01-03T09:14:24.000000000",
          "2020-01-06T18:40:40.000000000",
          "2020-01-02T00:32:12.000000000",
          "2020-01-04T15:58:02.000000000",
          "2020-01-03T22:36:06.000000000",
          "2020-01-07T17:38:02.000000000",
          "2020-01-04T00:31:13.000000000",
          "2020-01-06T11:46:34.000000000",
          "2020-01-05T00:33:22.000000000",
          "2020-01-04T07:33:33.000000000",
          "2020-01-06T03:29:56.000000000",
          "2020-01-02T00:53:42.000000000",
          "2020-01-03T08:27:34.000000000",
          "2020-01-05T15:55:39.000000000",
          "2020-01-04T01:16:03.000000000",
          "2020-01-06T17:37:56.000000000",
          "2020-01-03T23:14:20.000000000",
          "2020-01-05T12:13:41.000000000",
          "2020-01-02T04:05:19.000000000",
          "2020-01-06T20:23:24.000000000",
          "2020-01-03T02:39:56.000000000",
          "2020-01-03T10:50:18.000000000",
          "2020-01-03T06:43:27.000000000",
          "2020-01-04T13:31:28.000000000",
          "2020-01-07T22:43:11.000000000",
          "2020-01-07T04:39:34.000000000",
          "2020-01-07T13:48:10.000000000",
          "2020-01-04T18:33:36.000000000",
          "2020-01-03T15:20:57.000000000",
          "2020-01-04T14:29:45.000000000",
          "2020-01-02T11:36:06.000000000",
          "2020-01-03T21:58:49.000000000",
          "2020-01-02T22:29:05.000000000",
          "2020-01-04T21:05:34.000000000",
          "2020-01-02T14:40:32.000000000",
          "2020-01-05T23:17:41.000000000",
          "2020-01-04T20:20:01.000000000",
          "2020-01-06T20:54:19.000000000",
          "2020-01-05T03:37:24.000000000",
          "2020-01-06T08:09:34.000000000",
          "2020-01-07T00:06:58.000000000",
          "2020-01-07T20:52:31.000000000",
          "2020-01-04T16:22:41.000000000",
          "2020-01-05T08:16:35.000000000",
          "2020-01-05T09:19:20.000000000",
          "2020-01-02T08:25:59.000000000",
          "2020-01-08T00:13:26.000000000",
          "2020-01-06T17:29:03.000000000",
          "2020-01-03T23:54:40.000000000",
          "2020-01-06T19:51:01.000000000",
          "2020-01-02T09:19:50.000000000",
          "2020-01-04T17:31:00.000000000",
          "2020-01-02T10:46:20.000000000",
          "2020-01-02T13:37:49.000000000",
          "2020-01-03T09:43:12.000000000",
          "2020-01-06T00:25:30.000000000",
          "2020-01-03T22:49:06.000000000",
          "2020-01-02T03:42:10.000000000",
          "2020-01-02T10:26:08.000000000",
          "2020-01-06T13:00:15.000000000",
          "2020-01-07T06:55:38.000000000",
          "2020-01-01T23:49:09.000000000",
          "2020-01-07T15:50:02.000000000",
          "2020-01-06T07:13:32.000000000",
          "2020-01-06T13:12:30.000000000",
          "2020-01-02T22:24:33.000000000",
          "2020-01-05T23:07:55.000000000",
          "2020-01-06T16:17:26.000000000",
          "2020-01-04T20:58:04.000000000",
          "2020-01-07T17:38:59.000000000",
          "2020-01-02T03:36:07.000000000",
          "2020-01-07T03:54:14.000000000",
          "2020-01-05T17:16:05.000000000",
          "2020-01-06T09:14:12.000000000",
          "2020-01-05T07:26:32.000000000",
          "2020-01-04T21:39:48.000000000",
          "2020-01-07T22:28:08.000000000",
          "2020-01-02T03:22:39.000000000",
          "2020-01-03T15:34:31.000000000",
          "2020-01-07T05:49:23.000000000",
          "2020-01-06T12:14:00.000000000",
          "2020-01-04T22:27:02.000000000",
          "2020-01-02T06:06:41.000000000",
          "2020-01-03T21:44:55.000000000",
          "2020-01-05T21:42:50.000000000",
          "2020-01-06T14:40:17.000000000",
          "2020-01-05T10:29:04.000000000",
          "2020-01-04T21:23:08.000000000",
          "2020-01-05T02:44:06.000000000",
          "2020-01-02T02:50:57.000000000",
          "2020-01-03T23:30:41.000000000",
          "2020-01-04T21:19:09.000000000",
          "2020-01-03T21:29:16.000000000",
          "2020-01-07T05:15:33.000000000",
          "2020-01-06T22:26:43.000000000",
          "2020-01-04T22:39:05.000000000",
          "2020-01-07T07:21:19.000000000",
          "2020-01-06T16:31:25.000000000",
          "2020-01-06T02:15:15.000000000",
          "2020-01-07T21:09:12.000000000",
          "2020-01-07T20:27:04.000000000",
          "2020-01-03T08:31:33.000000000",
          "2020-01-06T23:41:59.000000000",
          "2020-01-02T06:17:51.000000000",
          "2020-01-06T12:37:05.000000000",
          "2020-01-07T19:42:49.000000000",
          "2020-01-07T00:19:30.000000000",
          "2020-01-05T00:32:35.000000000",
          "2020-01-05T03:30:06.000000000",
          "2020-01-05T07:02:02.000000000",
          "2020-01-02T06:03:14.000000000",
          "2020-01-05T19:02:13.000000000",
          "2020-01-05T22:12:42.000000000",
          "2020-01-04T01:42:03.000000000",
          "2020-01-02T03:56:20.000000000",
          "2020-01-03T19:31:37.000000000",
          "2020-01-06T03:28:16.000000000",
          "2020-01-06T07:53:19.000000000",
          "2020-01-05T13:40:41.000000000",
          "2020-01-04T20:53:54.000000000",
          "2020-01-03T07:01:10.000000000",
          "2020-01-05T00:48:28.000000000",
          "2020-01-02T02:06:22.000000000",
          "2020-01-03T01:18:31.000000000",
          "2020-01-06T12:05:00.000000000",
          "2020-01-03T11:48:26.000000000",
          "2020-01-07T08:22:08.000000000",
          "2020-01-05T06:20:30.000000000",
          "2020-01-07T23:26:02.000000000",
          "2020-01-07T21:00:31.000000000",
          "2020-01-03T22:24:25.000000000",
          "2020-01-07T04:01:56.000000000",
          "2020-01-03T16:50:05.000000000",
          "2020-01-04T04:00:02.000000000",
          "2020-01-07T09:46:14.000000000",
          "2020-01-02T19:54:34.000000000",
          "2020-01-02T09:54:29.000000000",
          "2020-01-06T23:10:21.000000000",
          "2020-01-07T00:00:49.000000000",
          "2020-01-02T19:35:31.000000000",
          "2020-01-04T22:01:46.000000000",
          "2020-01-01T23:32:27.000000000",
          "2020-01-03T12:20:35.000000000",
          "2020-01-03T14:36:21.000000000",
          "2020-01-05T11:56:15.000000000",
          "2020-01-04T13:13:05.000000000",
          "2020-01-05T17:16:42.000000000",
          "2020-01-06T23:37:09.000000000",
          "2020-01-04T15:25:29.000000000",
          "2020-01-03T20:16:58.000000000",
          "2020-01-06T16:47:11.000000000",
          "2020-01-05T23:43:14.000000000",
          "2020-01-03T05:53:53.000000000",
          "2020-01-02T05:29:39.000000000",
          "2020-01-05T10:13:56.000000000",
          "2020-01-02T15:33:36.000000000",
          "2020-01-05T11:00:15.000000000",
          "2020-01-07T00:21:04.000000000",
          "2020-01-03T21:49:25.000000000",
          "2020-01-04T23:11:36.000000000",
          "2020-01-04T03:57:37.000000000",
          "2020-01-03T23:57:59.000000000",
          "2020-01-03T02:44:26.000000000",
          "2020-01-06T15:13:14.000000000",
          "2020-01-04T10:56:48.000000000",
          "2020-01-04T04:14:41.000000000",
          "2020-01-04T23:25:01.000000000",
          "2020-01-07T18:29:07.000000000",
          "2020-01-07T01:06:08.000000000",
          "2020-01-05T10:59:06.000000000",
          "2020-01-04T14:13:25.000000000",
          "2020-01-07T16:55:23.000000000",
          "2020-01-03T20:02:23.000000000",
          "2020-01-04T02:23:39.000000000",
          "2020-01-03T16:41:23.000000000",
          "2020-01-06T17:58:25.000000000",
          "2020-01-06T08:43:04.000000000",
          "2020-01-05T01:52:03.000000000",
          "2020-01-05T12:36:26.000000000",
          "2020-01-04T10:31:57.000000000",
          "2020-01-02T14:07:05.000000000",
          "2020-01-02T10:46:01.000000000",
          "2020-01-05T13:10:38.000000000",
          "2020-01-02T20:33:14.000000000",
          "2020-01-07T10:39:22.000000000",
          "2020-01-03T08:31:40.000000000",
          "2020-01-05T05:23:13.000000000",
          "2020-01-07T21:10:13.000000000",
          "2020-01-02T18:23:00.000000000",
          "2020-01-04T09:33:59.000000000",
          "2020-01-06T04:04:35.000000000",
          "2020-01-04T07:22:23.000000000",
          "2020-01-02T02:30:20.000000000",
          "2020-01-05T08:26:14.000000000",
          "2020-01-03T22:46:54.000000000",
          "2020-01-06T09:18:59.000000000",
          "2020-01-04T22:53:01.000000000",
          "2020-01-05T18:00:43.000000000",
          "2020-01-07T23:58:52.000000000",
          "2020-01-07T04:34:01.000000000",
          "2020-01-06T22:52:54.000000000",
          "2020-01-07T01:37:43.000000000",
          "2020-01-03T00:21:03.000000000",
          "2020-01-06T14:12:17.000000000",
          "2020-01-04T11:42:41.000000000",
          "2020-01-04T06:48:55.000000000",
          "2020-01-03T23:44:14.000000000",
          "2020-01-02T23:00:07.000000000",
          "2020-01-06T13:10:33.000000000",
          "2020-01-02T18:50:28.000000000",
          "2020-01-04T01:42:31.000000000",
          "2020-01-07T21:28:05.000000000",
          "2020-01-02T10:29:40.000000000",
          "2020-01-08T01:31:18.000000000",
          "2020-01-03T02:52:55.000000000",
          "2020-01-03T01:11:01.000000000",
          "2020-01-02T08:14:45.000000000",
          "2020-01-04T11:55:48.000000000",
          "2020-01-07T15:42:26.000000000",
          "2020-01-06T14:59:20.000000000",
          "2020-01-06T22:18:18.000000000",
          "2020-01-07T01:28:23.000000000",
          "2020-01-07T04:06:39.000000000",
          "2020-01-03T04:03:13.000000000",
          "2020-01-05T10:32:18.000000000",
          "2020-01-02T14:03:55.000000000",
          "2020-01-05T10:17:05.000000000",
          "2020-01-07T14:29:12.000000000",
          "2020-01-03T19:55:08.000000000",
          "2020-01-05T08:32:18.000000000",
          "2020-01-05T06:40:06.000000000",
          "2020-01-05T13:12:27.000000000",
          "2020-01-05T14:12:39.000000000",
          "2020-01-05T03:48:26.000000000",
          "2020-01-06T18:34:05.000000000",
          "2020-01-03T05:00:09.000000000",
          "2020-01-05T16:09:43.000000000",
          "2020-01-04T15:51:10.000000000",
          "2020-01-07T18:59:15.000000000",
          "2020-01-03T08:21:38.000000000",
          "2020-01-06T20:30:08.000000000",
          "2020-01-06T16:44:12.000000000",
          "2020-01-06T07:29:34.000000000",
          "2020-01-03T15:39:51.000000000",
          "2020-01-02T08:40:39.000000000",
          "2020-01-05T03:27:25.000000000",
          "2020-01-02T20:21:02.000000000",
          "2020-01-07T16:57:21.000000000",
          "2020-01-06T10:53:21.000000000",
          "2020-01-06T07:33:37.000000000",
          "2020-01-04T12:29:38.000000000",
          "2020-01-06T21:02:34.000000000",
          "2020-01-02T14:56:19.000000000",
          "2020-01-02T12:22:17.000000000",
          "2020-01-03T23:10:38.000000000",
          "2020-01-05T19:06:20.000000000",
          "2020-01-05T19:11:18.000000000",
          "2020-01-03T22:04:25.000000000",
          "2020-01-04T14:15:20.000000000",
          "2020-01-02T05:02:21.000000000",
          "2020-01-06T13:39:20.000000000",
          "2020-01-03T17:33:11.000000000",
          "2020-01-06T18:59:57.000000000",
          "2020-01-04T15:47:29.000000000",
          "2020-01-04T20:26:49.000000000",
          "2020-01-05T11:32:02.000000000",
          "2020-01-03T14:22:17.000000000",
          "2020-01-07T12:21:54.000000000",
          "2020-01-04T18:26:52.000000000",
          "2020-01-07T02:53:50.000000000",
          "2020-01-05T15:30:44.000000000",
          "2020-01-04T22:53:06.000000000",
          "2020-01-04T08:01:11.000000000",
          "2020-01-05T13:50:22.000000000",
          "2020-01-06T19:48:00.000000000",
          "2020-01-02T02:02:40.000000000",
          "2020-01-07T16:51:34.000000000",
          "2020-01-06T12:37:07.000000000",
          "2020-01-04T22:49:57.000000000",
          "2020-01-05T04:13:17.000000000",
          "2020-01-02T13:31:57.000000000",
          "2020-01-04T13:34:23.000000000",
          "2020-01-03T06:01:35.000000000",
          "2020-01-03T17:24:08.000000000",
          "2020-01-06T15:40:36.000000000",
          "2020-01-05T15:31:43.000000000",
          "2020-01-02T05:06:50.000000000",
          "2020-01-07T14:59:06.000000000",
          "2020-01-04T04:16:33.000000000",
          "2020-01-07T18:09:05.000000000",
          "2020-01-05T09:21:44.000000000",
          "2020-01-06T15:15:17.000000000",
          "2020-01-04T01:08:47.000000000",
          "2020-01-02T05:57:41.000000000",
          "2020-01-03T02:54:56.000000000",
          "2020-01-02T17:00:48.000000000",
          "2020-01-03T08:33:57.000000000",
          "2020-01-03T08:04:06.000000000",
          "2020-01-07T08:24:31.000000000",
          "2020-01-04T01:29:05.000000000",
          "2020-01-03T18:45:03.000000000",
          "2020-01-07T20:08:20.000000000",
          "2020-01-03T22:17:29.000000000",
          "2020-01-05T00:44:48.000000000",
          "2020-01-02T23:06:48.000000000",
          "2020-01-02T07:33:37.000000000",
          "2020-01-04T19:47:11.000000000",
          "2020-01-04T02:46:55.000000000",
          "2020-01-08T01:16:58.000000000",
          "2020-01-08T01:13:14.000000000",
          "2020-01-06T17:44:22.000000000",
          "2020-01-02T04:21:10.000000000",
          "2020-01-07T09:17:07.000000000",
          "2020-01-03T17:19:34.000000000"
         ],
         "xaxis": "x",
         "y": {
          "bdata": "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",
          "dtype": "f8"
         },
         "yaxis": "y"
        }
       ],
       "layout": {
        "font": {
         "size": 18
        },
        "legend": {
         "title": {
          "text": "Data"
         },
         "tracegroupgap": 0
        },
        "margin": {
         "t": 60
        },
        "plot_bgcolor": "#F5F5F8",
        "template": {
         "data": {
          "bar": [
           {
            "error_x": {
             "color": "#2a3f5f"
            },
            "error_y": {
             "color": "#2a3f5f"
            },
            "marker": {
             "line": {
              "color": "#E5ECF6",
              "width": 0.5
             },
             "pattern": {
              "fillmode": "overlay",
              "size": 10,
              "solidity": 0.2
             }
            },
            "type": "bar"
           }
          ],
          "barpolar": [
           {
            "marker": {
             "line": {
              "color": "#E5ECF6",
              "width": 0.5
             },
             "pattern": {
              "fillmode": "overlay",
              "size": 10,
              "solidity": 0.2
             }
            },
            "type": "barpolar"
           }
          ],
          "carpet": [
           {
            "aaxis": {
             "endlinecolor": "#2a3f5f",
             "gridcolor": "white",
             "linecolor": "white",
             "minorgridcolor": "white",
             "startlinecolor": "#2a3f5f"
            },
            "baxis": {
             "endlinecolor": "#2a3f5f",
             "gridcolor": "white",
             "linecolor": "white",
             "minorgridcolor": "white",
             "startlinecolor": "#2a3f5f"
            },
            "type": "carpet"
           }
          ],
          "choropleth": [
           {
            "colorbar": {
             "outlinewidth": 0,
             "ticks": ""
            },
            "type": "choropleth"
           }
          ],
          "contour": [
           {
            "colorbar": {
             "outlinewidth": 0,
             "ticks": ""
            },
            "colorscale": [
             [
              0,
              "#0d0887"
             ],
             [
              0.1111111111111111,
              "#46039f"
             ],
             [
              0.2222222222222222,
              "#7201a8"
             ],
             [
              0.3333333333333333,
              "#9c179e"
             ],
             [
              0.4444444444444444,
              "#bd3786"
             ],
             [
              0.5555555555555556,
              "#d8576b"
             ],
             [
              0.6666666666666666,
              "#ed7953"
             ],
             [
              0.7777777777777778,
              "#fb9f3a"
             ],
             [
              0.8888888888888888,
              "#fdca26"
             ],
             [
              1,
              "#f0f921"
             ]
            ],
            "type": "contour"
           }
          ],
          "contourcarpet": [
           {
            "colorbar": {
             "outlinewidth": 0,
             "ticks": ""
            },
            "type": "contourcarpet"
           }
          ],
          "heatmap": [
           {
            "colorbar": {
             "outlinewidth": 0,
             "ticks": ""
            },
            "colorscale": [
             [
              0,
              "#0d0887"
             ],
             [
              0.1111111111111111,
              "#46039f"
             ],
             [
              0.2222222222222222,
              "#7201a8"
             ],
             [
              0.3333333333333333,
              "#9c179e"
             ],
             [
              0.4444444444444444,
              "#bd3786"
             ],
             [
              0.5555555555555556,
              "#d8576b"
             ],
             [
              0.6666666666666666,
              "#ed7953"
             ],
             [
              0.7777777777777778,
              "#fb9f3a"
             ],
             [
              0.8888888888888888,
              "#fdca26"
             ],
             [
              1,
              "#f0f921"
             ]
            ],
            "type": "heatmap"
           }
          ],
          "histogram": [
           {
            "marker": {
             "pattern": {
              "fillmode": "overlay",
              "size": 10,
              "solidity": 0.2
             }
            },
            "type": "histogram"
           }
          ],
          "histogram2d": [
           {
            "colorbar": {
             "outlinewidth": 0,
             "ticks": ""
            },
            "colorscale": [
             [
              0,
              "#0d0887"
             ],
             [
              0.1111111111111111,
              "#46039f"
             ],
             [
              0.2222222222222222,
              "#7201a8"
             ],
             [
              0.3333333333333333,
              "#9c179e"
             ],
             [
              0.4444444444444444,
              "#bd3786"
             ],
             [
              0.5555555555555556,
              "#d8576b"
             ],
             [
              0.6666666666666666,
              "#ed7953"
             ],
             [
              0.7777777777777778,
              "#fb9f3a"
             ],
             [
              0.8888888888888888,
              "#fdca26"
             ],
             [
              1,
              "#f0f921"
             ]
            ],
            "type": "histogram2d"
           }
          ],
          "histogram2dcontour": [
           {
            "colorbar": {
             "outlinewidth": 0,
             "ticks": ""
            },
            "colorscale": [
             [
              0,
              "#0d0887"
             ],
             [
              0.1111111111111111,
              "#46039f"
             ],
             [
              0.2222222222222222,
              "#7201a8"
             ],
             [
              0.3333333333333333,
              "#9c179e"
             ],
             [
              0.4444444444444444,
              "#bd3786"
             ],
             [
              0.5555555555555556,
              "#d8576b"
             ],
             [
              0.6666666666666666,
              "#ed7953"
             ],
             [
              0.7777777777777778,
              "#fb9f3a"
             ],
             [
              0.8888888888888888,
              "#fdca26"
             ],
             [
              1,
              "#f0f921"
             ]
            ],
            "type": "histogram2dcontour"
           }
          ],
          "mesh3d": [
           {
            "colorbar": {
             "outlinewidth": 0,
             "ticks": ""
            },
            "type": "mesh3d"
           }
          ],
          "parcoords": [
           {
            "line": {
             "colorbar": {
              "outlinewidth": 0,
              "ticks": ""
             }
            },
            "type": "parcoords"
           }
          ],
          "pie": [
           {
            "automargin": true,
            "type": "pie"
           }
          ],
          "scatter": [
           {
            "fillpattern": {
             "fillmode": "overlay",
             "size": 10,
             "solidity": 0.2
            },
            "type": "scatter"
           }
          ],
          "scatter3d": [
           {
            "line": {
             "colorbar": {
              "outlinewidth": 0,
              "ticks": ""
             }
            },
            "marker": {
             "colorbar": {
              "outlinewidth": 0,
              "ticks": ""
             }
            },
            "type": "scatter3d"
           }
          ],
          "scattercarpet": [
           {
            "marker": {
             "colorbar": {
              "outlinewidth": 0,
              "ticks": ""
             }
            },
            "type": "scattercarpet"
           }
          ],
          "scattergeo": [
           {
            "marker": {
             "colorbar": {
              "outlinewidth": 0,
              "ticks": ""
             }
            },
            "type": "scattergeo"
           }
          ],
          "scattergl": [
           {
            "marker": {
             "colorbar": {
              "outlinewidth": 0,
              "ticks": ""
             }
            },
            "type": "scattergl"
           }
          ],
          "scattermap": [
           {
            "marker": {
             "colorbar": {
              "outlinewidth": 0,
              "ticks": ""
             }
            },
            "type": "scattermap"
           }
          ],
          "scattermapbox": [
           {
            "marker": {
             "colorbar": {
              "outlinewidth": 0,
              "ticks": ""
             }
            },
            "type": "scattermapbox"
           }
          ],
          "scatterpolar": [
           {
            "marker": {
             "colorbar": {
              "outlinewidth": 0,
              "ticks": ""
             }
            },
            "type": "scatterpolar"
           }
          ],
          "scatterpolargl": [
           {
            "marker": {
             "colorbar": {
              "outlinewidth": 0,
              "ticks": ""
             }
            },
            "type": "scatterpolargl"
           }
          ],
          "scatterternary": [
           {
            "marker": {
             "colorbar": {
              "outlinewidth": 0,
              "ticks": ""
             }
            },
            "type": "scatterternary"
           }
          ],
          "surface": [
           {
            "colorbar": {
             "outlinewidth": 0,
             "ticks": ""
            },
            "colorscale": [
             [
              0,
              "#0d0887"
             ],
             [
              0.1111111111111111,
              "#46039f"
             ],
             [
              0.2222222222222222,
              "#7201a8"
             ],
             [
              0.3333333333333333,
              "#9c179e"
             ],
             [
              0.4444444444444444,
              "#bd3786"
             ],
             [
              0.5555555555555556,
              "#d8576b"
             ],
             [
              0.6666666666666666,
              "#ed7953"
             ],
             [
              0.7777777777777778,
              "#fb9f3a"
             ],
             [
              0.8888888888888888,
              "#fdca26"
             ],
             [
              1,
              "#f0f921"
             ]
            ],
            "type": "surface"
           }
          ],
          "table": [
           {
            "cells": {
             "fill": {
              "color": "#EBF0F8"
             },
             "line": {
              "color": "white"
             }
            },
            "header": {
             "fill": {
              "color": "#C8D4E3"
             },
             "line": {
              "color": "white"
             }
            },
            "type": "table"
           }
          ]
         },
         "layout": {
          "annotationdefaults": {
           "arrowcolor": "#2a3f5f",
           "arrowhead": 0,
           "arrowwidth": 1
          },
          "autotypenumbers": "strict",
          "coloraxis": {
           "colorbar": {
            "outlinewidth": 0,
            "ticks": ""
           }
          },
          "colorscale": {
           "diverging": [
            [
             0,
             "#8e0152"
            ],
            [
             0.1,
             "#c51b7d"
            ],
            [
             0.2,
             "#de77ae"
            ],
            [
             0.3,
             "#f1b6da"
            ],
            [
             0.4,
             "#fde0ef"
            ],
            [
             0.5,
             "#f7f7f7"
            ],
            [
             0.6,
             "#e6f5d0"
            ],
            [
             0.7,
             "#b8e186"
            ],
            [
             0.8,
             "#7fbc41"
            ],
            [
             0.9,
             "#4d9221"
            ],
            [
             1,
             "#276419"
            ]
           ],
           "sequential": [
            [
             0,
             "#0d0887"
            ],
            [
             0.1111111111111111,
             "#46039f"
            ],
            [
             0.2222222222222222,
             "#7201a8"
            ],
            [
             0.3333333333333333,
             "#9c179e"
            ],
            [
             0.4444444444444444,
             "#bd3786"
            ],
            [
             0.5555555555555556,
             "#d8576b"
            ],
            [
             0.6666666666666666,
             "#ed7953"
            ],
            [
             0.7777777777777778,
             "#fb9f3a"
            ],
            [
             0.8888888888888888,
             "#fdca26"
            ],
            [
             1,
             "#f0f921"
            ]
           ],
           "sequentialminus": [
            [
             0,
             "#0d0887"
            ],
            [
             0.1111111111111111,
             "#46039f"
            ],
            [
             0.2222222222222222,
             "#7201a8"
            ],
            [
             0.3333333333333333,
             "#9c179e"
            ],
            [
             0.4444444444444444,
             "#bd3786"
            ],
            [
             0.5555555555555556,
             "#d8576b"
            ],
            [
             0.6666666666666666,
             "#ed7953"
            ],
            [
             0.7777777777777778,
             "#fb9f3a"
            ],
            [
             0.8888888888888888,
             "#fdca26"
            ],
            [
             1,
             "#f0f921"
            ]
           ]
          },
          "colorway": [
           "#636efa",
           "#EF553B",
           "#00cc96",
           "#ab63fa",
           "#FFA15A",
           "#19d3f3",
           "#FF6692",
           "#B6E880",
           "#FF97FF",
           "#FECB52"
          ],
          "font": {
           "color": "#2a3f5f"
          },
          "geo": {
           "bgcolor": "white",
           "lakecolor": "white",
           "landcolor": "#E5ECF6",
           "showlakes": true,
           "showland": true,
           "subunitcolor": "white"
          },
          "hoverlabel": {
           "align": "left"
          },
          "hovermode": "closest",
          "mapbox": {
           "style": "light"
          },
          "paper_bgcolor": "white",
          "plot_bgcolor": "#E5ECF6",
          "polar": {
           "angularaxis": {
            "gridcolor": "white",
            "linecolor": "white",
            "ticks": ""
           },
           "bgcolor": "#E5ECF6",
           "radialaxis": {
            "gridcolor": "white",
            "linecolor": "white",
            "ticks": ""
           }
          },
          "scene": {
           "xaxis": {
            "backgroundcolor": "#E5ECF6",
            "gridcolor": "white",
            "gridwidth": 2,
            "linecolor": "white",
            "showbackground": true,
            "ticks": "",
            "zerolinecolor": "white"
           },
           "yaxis": {
            "backgroundcolor": "#E5ECF6",
            "gridcolor": "white",
            "gridwidth": 2,
            "linecolor": "white",
            "showbackground": true,
            "ticks": "",
            "zerolinecolor": "white"
           },
           "zaxis": {
            "backgroundcolor": "#E5ECF6",
            "gridcolor": "white",
            "gridwidth": 2,
            "linecolor": "white",
            "showbackground": true,
            "ticks": "",
            "zerolinecolor": "white"
           }
          },
          "shapedefaults": {
           "line": {
            "color": "#2a3f5f"
           }
          },
          "ternary": {
           "aaxis": {
            "gridcolor": "white",
            "linecolor": "white",
            "ticks": ""
           },
           "baxis": {
            "gridcolor": "white",
            "linecolor": "white",
            "ticks": ""
           },
           "bgcolor": "#E5ECF6",
           "caxis": {
            "gridcolor": "white",
            "linecolor": "white",
            "ticks": ""
           }
          },
          "title": {
           "x": 0.05
          },
          "xaxis": {
           "automargin": true,
           "gridcolor": "white",
           "linecolor": "white",
           "ticks": "",
           "title": {
            "standoff": 15
           },
           "zerolinecolor": "white",
           "zerolinewidth": 2
          },
          "yaxis": {
           "automargin": true,
           "gridcolor": "white",
           "linecolor": "white",
           "ticks": "",
           "title": {
            "standoff": 15
           },
           "zerolinecolor": "white",
           "zerolinewidth": 2
          }
         }
        },
        "title": {
         "text": "Real vs. Synthetic Data for columns 'doneChargingTime' and 'kWhDelivered'"
        },
        "xaxis": {
         "anchor": "y",
         "domain": [
          0,
          1
         ],
         "title": {
          "text": "doneChargingTime"
         }
        },
        "yaxis": {
         "anchor": "x",
         "domain": [
          0,
          1
         ],
         "title": {
          "text": "kWhDelivered"
         }
        }
       }
      }
     },
     "metadata": {},
     "output_type": "display_data"
    }
   ],
   "source": [
    "from sdv.evaluation.single_table import get_column_pair_plot\n",
    "\n",
    "fig = get_column_pair_plot(\n",
    "    real_data=df,\n",
    "    synthetic_data=synthetic_data,\n",
    "    column_names=['doneChargingTime', 'kWhDelivered'],\n",
    "    metadata=metadata\n",
    ")\n",
    "\n",
    "fig.show()"
   ]
  },
  {
   "cell_type": "code",
   "execution_count": 32,
   "metadata": {},
   "outputs": [],
   "source": [
    "synthesizer.save('my_synthesizer.pkl')\n",
    "\n",
    "synthesizer = GaussianCopulaSynthesizer.load('my_synthesizer.pkl')\n"
   ]
  }
 ],
 "metadata": {
  "kernelspec": {
   "display_name": "testing_env",
   "language": "python",
   "name": "python3"
  },
  "language_info": {
   "codemirror_mode": {
    "name": "ipython",
    "version": 3
   },
   "file_extension": ".py",
   "mimetype": "text/x-python",
   "name": "python",
   "nbconvert_exporter": "python",
   "pygments_lexer": "ipython3",
   "version": "3.9.20"
  }
 },
 "nbformat": 4,
 "nbformat_minor": 2
}
