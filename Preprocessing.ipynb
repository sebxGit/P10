{
 "cells": [
  {
   "cell_type": "markdown",
   "metadata": {},
   "source": [
    "# Preprocessing"
   ]
  },
  {
   "cell_type": "markdown",
   "metadata": {},
   "source": [
    "## Libraries"
   ]
  },
  {
   "cell_type": "code",
   "execution_count": 2,
   "metadata": {},
   "outputs": [],
   "source": [
    "import pandas as pd"
   ]
  },
  {
   "cell_type": "markdown",
   "metadata": {},
   "source": [
    "## Datapreprocessing"
   ]
  },
  {
   "cell_type": "code",
   "execution_count": 8,
   "metadata": {},
   "outputs": [
    {
     "name": "stdout",
     "output_type": "stream",
     "text": [
      "Optimized dataset:\n",
      "                                        Station_Name             Address  \\\n",
      "Start_DateTime                                                             \n",
      "2018-01-01 17:49:00  BOULDER / JUNCTION ST1           2280 Junction Pl     \n",
      "2018-01-02 08:52:00  BOULDER / JUNCTION ST1           2280 Junction Pl     \n",
      "2018-01-02 21:11:00  BOULDER / JUNCTION ST1           2280 Junction Pl     \n",
      "2018-01-03 09:19:00  BOULDER / ALPINE ST1             1275 Alpine Ave      \n",
      "2018-01-03 14:13:00  BOULDER / BASELINE ST1           900 Baseline Rd      \n",
      "\n",
      "                         City   State_Province  Zip_Postal_Code  \\\n",
      "Start_DateTime                                                    \n",
      "2018-01-01 17:49:00  Boulder   Colorado                   80301   \n",
      "2018-01-02 08:52:00  Boulder   Colorado                   80301   \n",
      "2018-01-02 21:11:00  Boulder   Colorado                   80301   \n",
      "2018-01-03 09:19:00  Boulder   Colorado                   80304   \n",
      "2018-01-03 14:13:00  Boulder   Colorado                   80302   \n",
      "\n",
      "                     GHG_Savings__kg_  Gasoline_Savings__gallons_   Port_Type  \\\n",
      "Start_DateTime                                                                  \n",
      "2018-01-01 17:49:00             2.732                       0.816  Level 2      \n",
      "2018-01-02 08:52:00             1.042                       0.311  Level 2      \n",
      "2018-01-02 21:11:00             6.319                       1.888  Level 2      \n",
      "2018-01-03 09:19:00             2.918                       0.872  Level 2      \n",
      "2018-01-03 14:13:00             0.756                       0.226  Level 2      \n",
      "\n",
      "                           End_DateTime  Total_Duration   Charging_Time  \\\n",
      "Start_DateTime                                                            \n",
      "2018-01-01 17:49:00 2018-01-01 19:52:00 0 days 02:03:02 0 days 02:02:44   \n",
      "2018-01-02 08:52:00 2018-01-02 09:16:00 0 days 00:24:34 0 days 00:24:19   \n",
      "2018-01-02 21:11:00 2018-01-03 06:23:00 0 days 09:12:21 0 days 03:40:52   \n",
      "2018-01-03 09:19:00 2018-01-03 11:14:00 0 days 01:54:51 0 days 01:54:29   \n",
      "2018-01-03 14:13:00 2018-01-03 14:30:00 0 days 00:16:58 0 days 00:16:44   \n",
      "\n",
      "                     Energy_Consumption  \n",
      "Start_DateTime                           \n",
      "2018-01-01 17:49:00               6.504  \n",
      "2018-01-02 08:52:00               2.481  \n",
      "2018-01-02 21:11:00              15.046  \n",
      "2018-01-03 09:19:00               6.947  \n",
      "2018-01-03 14:13:00               1.800  \n"
     ]
    }
   ],
   "source": [
    "\n",
    "def parse_date(date_str):\n",
    "    try:\n",
    "        return pd.to_datetime(date_str, format=\"%m/%d/%Y %H:%M\")\n",
    "    except ValueError:\n",
    "        # If that fails, try the ISO8601 format: year-month-day hour:minute:second\n",
    "        try:\n",
    "            return pd.to_datetime(date_str, format=\"%Y-%m-%d %H:%M:%S\")\n",
    "        except ValueError:\n",
    "            # Return NaT if both formats fail\n",
    "            print(f\"Could not parse date: {date_str}\")\n",
    "            return pd.NaT\n",
    "\n",
    "\n",
    "# Load the CSV file into a pandas dataframe\n",
    "df = pd.read_csv('ColoradoData.csv')\n",
    "\n",
    "# Strip extra whitespace from the column names\n",
    "df.columns = [col.strip() for col in df.columns]\n",
    "\n",
    "# Strip extra whitespace from the date columns\n",
    "df['Start_Date___Time'] = df['Start_Date___Time'].str.strip()\n",
    "df['End_Date___Time'] = df['End_Date___Time'].str.strip()\n",
    "\n",
    "# Now parse the datetime columns using the parse_date function\n",
    "df['Start_DateTime'] = df['Start_Date___Time'].apply(parse_date)\n",
    "df['End_DateTime'] = df['End_Date___Time'].apply(parse_date)\n",
    "\n",
    "# Convert duration columns to timedelta objects\n",
    "df['Total_Duration'] = pd.to_timedelta(df['Total_Duration__hh_mm_ss_'])\n",
    "df['Charging_Time'] = pd.to_timedelta(df['Charging_Time__hh_mm_ss_'])\n",
    "\n",
    "# Convert Energy consumption to a numeric type (handle errors)\n",
    "df['Energy_Consumption'] = pd.to_numeric(df['Energy__kWh_'], errors='coerce')\n",
    "\n",
    "# Remove the columns that are no longer needed\n",
    "df = df.drop(columns=['Start_Date___Time', 'End_Date___Time', 'Total_Duration__hh_mm_ss_',\n",
    "             'Charging_Time__hh_mm_ss_', 'Energy__kWh_', 'ObjectID', 'ObjectId2', 'Start_Time_Zone', 'End_Time_Zone', 'Port_Type'])\n",
    "\n",
    "df.set_index('Start_DateTime', inplace=True)\n",
    "\n",
    "## More data cleaning\n",
    "# Remove rows with negative energy consumption\n",
    "df = df[df['Energy_Consumption'] >= 0]\n",
    "\n",
    "# Remove rows with missing values\n",
    "df = df.dropna()\n",
    "\n",
    "# Remove rows with zero charging time\n",
    "df = df[df['Charging_Time'] > pd.Timedelta(0)]\n",
    "\n",
    "# Remove rows with zero energy consumption\n",
    "df = df[df['Energy_Consumption'] > 0]\n",
    "\n",
    "# Remove rows with zero total duration\n",
    "df = df[df['Total_Duration'] > pd.Timedelta(0)]\n",
    "\n",
    "# Remove rows with total duration less than charging time\n",
    "df = df[df['Total_Duration'] >= df['Charging_Time']]\n",
    "\n",
    "# Verify the conversion by printing the data types\n",
    "print(\"Optimized dataset:\")\n",
    "print(df.head())\n",
    "\n"
   ]
  },
  {
   "cell_type": "markdown",
   "metadata": {},
   "source": [
    "## Features "
   ]
  },
  {
   "cell_type": "code",
   "execution_count": null,
   "metadata": {},
   "outputs": [],
   "source": [
    "## "
   ]
  }
 ],
 "metadata": {
  "kernelspec": {
   "display_name": "testing_env",
   "language": "python",
   "name": "python3"
  },
  "language_info": {
   "codemirror_mode": {
    "name": "ipython",
    "version": 3
   },
   "file_extension": ".py",
   "mimetype": "text/x-python",
   "name": "python",
   "nbconvert_exporter": "python",
   "pygments_lexer": "ipython3",
   "version": "3.9.20"
  }
 },
 "nbformat": 4,
 "nbformat_minor": 2
}
