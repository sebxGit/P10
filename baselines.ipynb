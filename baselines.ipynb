{
 "cells": [
  {
   "cell_type": "code",
   "execution_count": 1,
   "metadata": {},
   "outputs": [],
   "source": [
    "import os\n",
    "import numpy as np\n",
    "import pandas as pd\n",
    "import matplotlib.pyplot as plt\n",
    "import holidays\n",
    "\n",
    "from sklearn.model_selection import train_test_split\n",
    "from sklearn.preprocessing import MinMaxScaler\n",
    "from sklearn.ensemble import RandomForestRegressor, AdaBoostRegressor\n",
    "from sklearn.linear_model import LinearRegression\n",
    "from sklearn.base import BaseEstimator\n",
    "from sklearn.metrics import mean_squared_error, mean_absolute_error, mean_absolute_percentage_error\n",
    "from sklearn.utils import resample\n",
    "\n",
    "import torch\n",
    "from torch import nn\n",
    "from torch.utils.data import DataLoader, Dataset, Sampler\n",
    "\n",
    "import lightning as L\n",
    "from lightning.pytorch.callbacks.early_stopping import EarlyStopping\n",
    "from lightning.pytorch.callbacks import BasePredictionWriter"
   ]
  },
  {
   "cell_type": "code",
   "execution_count": 2,
   "metadata": {},
   "outputs": [],
   "source": [
    "def convert_to_quarterly(data):\n",
    "\n",
    "    # Remove unnecessary columns\n",
    "    data = data.drop(columns=['Zip_Postal_Code'])\n",
    "\n",
    "    # Convert date/time columns to datetime\n",
    "    data['Start_DateTime'] = pd.to_datetime(data['Start_DateTime'])\n",
    "    data['Charging_EndTime'] = pd.to_datetime(data['End_DateTime'])\n",
    "    data['Charging_Time'] = pd.to_timedelta(data['Charging_Time'])\n",
    "\n",
    "    ####################### CONVERT DATASET TO QUARTERLY  #######################\n",
    "\n",
    "    # Split the session into quarterly intervals\n",
    "    quarterly_rows = []\n",
    "\n",
    "    # Iterate over each row in the dataframe to break charging sessions into quarterly intervals\n",
    "    for _, row in data.iterrows():\n",
    "        start, end = row['Start_DateTime'], row['Charging_EndTime']\n",
    "        energy = row['Energy_Consumption']\n",
    "\n",
    "        # Generate quarterly intervals\n",
    "        quarterly_intervals = pd.date_range(start=start.floor(\n",
    "            '15min'), end=end.ceil('15min'), freq='15min')\n",
    "        total_duration = (end - start).total_seconds()\n",
    "\n",
    "        for i in range(len(quarterly_intervals) - 1):\n",
    "            interval_start = max(start, quarterly_intervals[i])\n",
    "            interval_end = min(end, quarterly_intervals[i+1])\n",
    "            interval_duration = (interval_end - interval_start).total_seconds()\n",
    "\n",
    "            # Calculate the energy consumption for the interval if interval is greater than 0 (Start and end time are different)\n",
    "            if interval_duration > 0:\n",
    "                energy_fraction = (interval_duration / total_duration) * energy\n",
    "\n",
    "            quarterly_rows.append({\n",
    "                'Time': quarterly_intervals[i],\n",
    "                'Energy_Consumption': energy_fraction,\n",
    "                \"Session_Count\": 1  # Count of sessions in the interval\n",
    "            })\n",
    "\n",
    "    quarterly_df = pd.DataFrame(quarterly_rows)\n",
    "\n",
    "    quarterly_df = quarterly_df.groupby('Time').agg({\n",
    "        'Energy_Consumption': 'sum',\n",
    "        'Session_Count': 'sum'\n",
    "    }).reset_index()\n",
    "\n",
    "    # Convert the Time column to datetime\n",
    "    quarterly_df['Time'] = pd.to_datetime(\n",
    "        quarterly_df['Time'], format=\"%d-%m-%Y %H:%M:%S\")\n",
    "    quarterly_df = quarterly_df.set_index('Time')\n",
    "\n",
    "    # Define time range for all 24 hours\n",
    "    start_time = quarterly_df.index.min().normalize()  # 00:00:00\n",
    "    end_time = quarterly_df.index.max().normalize() + pd.Timedelta(days=1) - \\\n",
    "        pd.Timedelta(hours=1)  # 23:00:00\n",
    "\n",
    "    # Change range to time_range_full, so from 00:00:00 to 23:00:00\n",
    "    time_range_full = pd.date_range(\n",
    "        start=start_time, end=end_time, freq='15min')\n",
    "\n",
    "    quarterly_df = quarterly_df.reindex(time_range_full, fill_value=0)\n",
    "\n",
    "    return quarterly_df\n",
    "\n",
    "\n",
    "def add_features(df):\n",
    "  ####################### TIMED BASED FEATURES  #######################\n",
    "  df['Day_of_Week'] = df.index.dayofweek\n",
    "  df['Hour_of_Day'] = df.index.hour\n",
    "  df['Month_of_Year'] = df.index.month\n",
    "  df['Year'] = df.index.year\n",
    "  df['Day/Night'] = (df['Hour_of_Day'] >= 6) & (df['Hour_of_Day'] <= 18)\n",
    "\n",
    "  # Add holiday\n",
    "  us_holidays = holidays.US(years=range(2018, 2023 + 1))\n",
    "  df['IsHoliday'] = df.index.map(lambda x: 1 if x.date() in us_holidays else 0)\n",
    "\n",
    "  # Add weekend\n",
    "  df['Weekend'] = (df['Day_of_Week'] >= 5).astype(int)\n",
    "\n",
    "  ####################### CYCLIC FEATURES  #######################\n",
    "\n",
    "  df['HourSin'] = np.sin(2 * np.pi * df['Hour_of_Day'] / 24)\n",
    "  df['HourCos'] = np.cos(2 * np.pi * df['Hour_of_Day'] / 24)\n",
    "  df['DayOfWeekSin'] = np.sin(2 * np.pi * df['Day_of_Week'] / 7)\n",
    "  df['DayOfWeekCos'] = np.cos(2 * np.pi * df['Day_of_Week'] / 7)\n",
    "  df['MonthOfYearSin'] = np.sin(2 * np.pi * df['Month_of_Year'] / 12)\n",
    "  df['MonthOfYearCos'] = np.cos(2 * np.pi * df['Month_of_Year'] / 12)\n",
    "\n",
    "  ####################### SEASONAL FEATURES  #######################\n",
    "  month_to_season = {1: 0, 2: 0, 3: 1, 4: 1, 5: 1, 6: 2,\n",
    "                     7: 2, 8: 2, 9: 3, 10: 3, 11: 3, 12: 0}\n",
    "  df['Season'] = df['Month_of_Year'].map(month_to_season)\n",
    "\n",
    "  ####################### HISTORICAL CONSUMPTION FEATURES  #######################\n",
    "  df['Energy_Consumption_1h'] = df['Energy_Consumption'].shift(1)\n",
    "  df['Energy_Consumption_6h'] = df['Energy_Consumption'].shift(6)\n",
    "  df['Energy_Consumption_12h'] = df['Energy_Consumption'].shift(12)\n",
    "  df['Energy_Consumption_24h'] = df['Energy_Consumption'].shift(24)\n",
    "  df['Energy_Consumption_1w'] = df['Energy_Consumption'].shift(24*7)\n",
    "  df['Energy_Consumption_rolling'] = df['Energy_Consumption'].rolling(\n",
    "      window=24).mean()\n",
    "\n",
    "  return df\n",
    "\n",
    "\n",
    "def filter_data(start_date, end_date, data):\n",
    "    return data[(data.index >= start_date) & (data.index <= end_date)].copy()\n"
   ]
  },
  {
   "cell_type": "code",
   "execution_count": 3,
   "metadata": {},
   "outputs": [],
   "source": [
    "class TimeSeriesDataset(Dataset):\n",
    "  def __init__(self, X: np.ndarray, y: np.ndarray, seq_len: int = 1):\n",
    "    self.X = torch.tensor(X).float()\n",
    "    self.y = torch.tensor(y).float()\n",
    "    self.seq_len = seq_len\n",
    "\n",
    "  def __len__(self):\n",
    "    return self.X.__len__() - (self.seq_len-1)\n",
    "\n",
    "  def __getitem__(self, index):\n",
    "    return (self.X[index:index+self.seq_len], self.y[index+self.seq_len-1])"
   ]
  },
  {
   "cell_type": "code",
   "execution_count": 4,
   "metadata": {},
   "outputs": [],
   "source": [
    "class BootstrapSampler(Sampler):\n",
    "  def __init__(self, data_source, window_size, num_samples=None):\n",
    "    self.data_source = data_source\n",
    "    self.window_size = window_size\n",
    "    self.num_samples = num_samples if num_samples is not None else len(data_source) // 2\n",
    "\n",
    "  def __iter__(self):\n",
    "    indices = []\n",
    "    for _ in range(self.num_samples):\n",
    "      start_idx = np.random.randint(0, len(self.data_source) - self.window_size + 1)\n",
    "      indices.extend(range(start_idx, start_idx + self.window_size))\n",
    "    return iter(indices)\n",
    "\n",
    "  def __len__(self):\n",
    "    return self.num_samples"
   ]
  },
  {
   "cell_type": "code",
   "execution_count": 5,
   "metadata": {},
   "outputs": [],
   "source": [
    "class ColoradoDataModule(L.LightningDataModule):\n",
    "  def __init__(self, data_dir: str, scaler: int, seq_len: int, batch_size: int, num_workers: int, is_persistent: bool):\n",
    "    super().__init__()\n",
    "    self.data_dir = data_dir\n",
    "    self.scaler = scaler\n",
    "    self.seq_len = seq_len\n",
    "    self.batch_size = batch_size\n",
    "    self.num_workers = num_workers\n",
    "    self.is_persistent = is_persistent\n",
    "    self.X_train = None\n",
    "    self.y_train = None\n",
    "    self.X_val = None\n",
    "    self.y_val = None\n",
    "    self.X_test = None\n",
    "    self.y_test = None\n",
    "\n",
    "  def setup(self, stage: str):\n",
    "    start_date = pd.to_datetime('2021-05-30')\n",
    "    end_date = pd.to_datetime('2023-05-30')\n",
    "\n",
    "    # Load and preprocess the data\n",
    "    data = pd.read_csv(self.data_dir)\n",
    "    data = convert_to_quarterly(data)\n",
    "    data = add_features(data)\n",
    "    df = filter_data(start_date, end_date, data)\n",
    "\n",
    "    df = df.dropna()\n",
    "\n",
    "    X = df.copy()\n",
    "    y = X['Energy_Consumption'].shift(-1).ffill()\n",
    "\n",
    "    X_tv, self.X_test, y_tv, self.y_test = train_test_split(X, y, test_size=0.2, shuffle=False)\n",
    "    self.X_train, self.X_val, self.y_train, self.y_val = train_test_split(X_tv, y_tv, test_size=0.25, shuffle=False)\n",
    "\n",
    "    preprocessing = self.scaler\n",
    "    preprocessing.fit(self.X_train)  # should only fit to training data\n",
    "\n",
    "    if stage == \"fit\" or stage is None:\n",
    "      self.X_train = preprocessing.transform(self.X_train)\n",
    "      self.y_train = self.y_train.values.reshape((-1, 1))\n",
    "      self.X_val = preprocessing.transform(self.X_val)\n",
    "      self.y_val = self.y_val.values.reshape((-1, 1))\n",
    "\n",
    "    if stage == \"test\" or \"predict\" or stage is None:\n",
    "      self.X_test = preprocessing.transform(self.X_test)\n",
    "      self.y_test = self.y_test.values.reshape((-1, 1))\n",
    "\n",
    "  def train_dataloader(self):\n",
    "    train_dataset = TimeSeriesDataset(self.X_train, self.y_train, seq_len=self.seq_len)\n",
    "    # window_size = round(len(self.X_train)*0.97)\n",
    "    # bootstrap_sampler = BootstrapSampler(train_dataset, window_size=window_size)\n",
    "    # train_loader = DataLoader(train_dataset, batch_size=self.batch_size, sampler=bootstrap_sampler, shuffle=False, num_workers=self.num_workers, persistent_workers=self.is_persistent)\n",
    "    train_loader = DataLoader(train_dataset, batch_size=self.batch_size, shuffle=False, num_workers=self.num_workers, persistent_workers=self.is_persistent)\n",
    "    return train_loader\n",
    "  \n",
    "  def val_dataloader(self):\n",
    "    val_dataset = TimeSeriesDataset(self.X_val, self.y_val, seq_len=self.seq_len)\n",
    "    val_loader = DataLoader(val_dataset, batch_size=self.batch_size, shuffle=False, num_workers=self.num_workers, persistent_workers=self.is_persistent)\n",
    "    return val_loader\n",
    "\n",
    "  def test_dataloader(self):\n",
    "    test_dataset = TimeSeriesDataset(self.X_test, self.y_test, seq_len=self.seq_len)\n",
    "    test_loader = DataLoader(test_dataset, batch_size=self.batch_size, shuffle=False, num_workers=self.num_workers, persistent_workers=self.is_persistent)\n",
    "    return test_loader\n",
    "\n",
    "  def predict_dataloader(self):\n",
    "    test_dataset = TimeSeriesDataset(self.X_test, self.y_test, seq_len=self.seq_len)\n",
    "    test_loader = DataLoader(test_dataset, batch_size=self.batch_size, shuffle=False, num_workers=self.num_workers, persistent_workers=self.is_persistent)\n",
    "    return test_loader"
   ]
  },
  {
   "cell_type": "code",
   "execution_count": 6,
   "metadata": {},
   "outputs": [],
   "source": [
    "class WeightedMSELoss(nn.Module):\n",
    "    def __init__(self):\n",
    "        super(WeightedMSELoss, self).__init__()\n",
    "\n",
    "    def forward(self, predictions, targets):\n",
    "        loss = torch.mean((predictions - targets) ** 2) #MSE\n",
    "        weight = torch.where(predictions < targets, 2.0, 1.0)\n",
    "        weighted_loss = torch.mean(loss * weight)\n",
    "        return weighted_loss"
   ]
  },
  {
   "cell_type": "code",
   "execution_count": 7,
   "metadata": {},
   "outputs": [],
   "source": [
    "class AsymmetricMAEandMSELoss(nn.Module):\n",
    "    def __init__(self):\n",
    "        super(AsymmetricMAEandMSELoss, self).__init__()\n",
    "\n",
    "    def forward(self, predictions, targets):\n",
    "        mae_loss = torch.mean(torch.abs(predictions - targets))\n",
    "        mse_loss = torch.mean((predictions - targets) ** 2)\n",
    "        loss = torch.where(predictions > targets, mae_loss, mse_loss)\n",
    "\n",
    "        mean_loss = torch.mean(loss)\n",
    "        return mean_loss"
   ]
  },
  {
   "cell_type": "code",
   "execution_count": 8,
   "metadata": {},
   "outputs": [],
   "source": [
    "class WeightedAsymmetricMAEandMSELoss(nn.Module): \n",
    "    def __init__(self):\n",
    "        super(WeightedAsymmetricMAEandMSELoss, self).__init__()\n",
    "\n",
    "    def forward(self, predictions, targets):\n",
    "        mae_loss = torch.mean(torch.abs(predictions - targets))\n",
    "        mse_loss = torch.mean((predictions - targets) ** 2)\n",
    "        loss = torch.where(predictions > targets, mae_loss, mse_loss*2)\n",
    "\n",
    "        mean_loss = torch.mean(loss)\n",
    "        return mean_loss"
   ]
  },
  {
   "cell_type": "code",
   "execution_count": 9,
   "metadata": {},
   "outputs": [],
   "source": [
    "class CustomLogCoshLoss(nn.Module):\n",
    "    def __init__(self):\n",
    "        super(CustomLogCoshLoss, self).__init__()\n",
    "\n",
    "    def forward(self, predictions, targets):\n",
    "        error = predictions - targets\n",
    "        lc_loss = torch.log(torch.cosh(error))\n",
    "        mse_loss = torch.mean(error ** 2)\n",
    "        loss = torch.where(predictions > targets, lc_loss, mse_loss*2)\n",
    "        return torch.mean(loss)"
   ]
  },
  {
   "cell_type": "code",
   "execution_count": 10,
   "metadata": {},
   "outputs": [],
   "source": [
    "class CustomWriter(BasePredictionWriter):\n",
    "  def __init__(self, output_dir, write_interval, combined_name, model_name):\n",
    "    super().__init__(write_interval)\n",
    "    self.output_dir = output_dir\n",
    "    self.combined_name = combined_name\n",
    "    self.model_name = model_name\n",
    "\n",
    "  def write_on_epoch_end(self, trainer, pl_module, predictions, batch_indices):\n",
    "    filename = os.path.join(self.output_dir, f\"{self.combined_name}/predictions_{self.model_name}.pt\")\n",
    "    os.makedirs(os.path.join(self.output_dir, self.combined_name), exist_ok=True)\n",
    "    torch.save(predictions, filename)"
   ]
  },
  {
   "cell_type": "code",
   "execution_count": 11,
   "metadata": {},
   "outputs": [],
   "source": [
    "class LightningModel(L.LightningModule):\n",
    "  def __init__(self, model, criterion, optimizer, learning_rate):\n",
    "    super().__init__()\n",
    "    self.criterion = criterion\n",
    "    self.learning_rate = learning_rate\n",
    "    self.optimizer = optimizer\n",
    "    self.model = model\n",
    "\n",
    "  def forward(self, x):\n",
    "    return self.model(x)\n",
    "\n",
    "  def training_step(self, batch, batch_idx):\n",
    "    x, y = batch\n",
    "    y_hat = self(x)\n",
    "    train_loss = self.criterion(y_hat, y) \n",
    "    self.log(\"train_loss\", train_loss, on_step=True, on_epoch=True, prog_bar=True, logger=True)\n",
    "    return train_loss\n",
    "\n",
    "  def validation_step(self, batch, batch_idx):\n",
    "    x, y = batch\n",
    "    y_hat = self(x)\n",
    "    val_loss = self.criterion(y_hat, y)\n",
    "    self.log(\"val_loss\", val_loss, on_step=True, on_epoch=True, prog_bar=True, logger=True)\n",
    "    return val_loss\n",
    "\n",
    "  def test_step(self, batch, batch_idx):\n",
    "    x, y = batch\n",
    "    y_hat = self(x)\n",
    "    test_loss = self.criterion(y_hat, y)\n",
    "    self.log(\"test_loss\", test_loss, on_step=True, on_epoch=True, prog_bar=True, logger=True)\n",
    "    return test_loss\n",
    "\n",
    "  def predict_step(self, batch, batch_idx):\n",
    "    x, y = batch\n",
    "    y_hat = self(x)\n",
    "    return y_hat\n",
    "\n",
    "  def configure_optimizers(self):\n",
    "    return self.optimizer(self.parameters(), lr=self.learning_rate)"
   ]
  },
  {
   "cell_type": "code",
   "execution_count": 12,
   "metadata": {},
   "outputs": [],
   "source": [
    "class MLP(torch.nn.Module):\n",
    "  def __init__(self, num_features, seq_len, num_classes):\n",
    "    super().__init__()\n",
    "    self.name = \"MLP\"\n",
    "\n",
    "    self.all_layers = torch.nn.Sequential(\n",
    "      torch.nn.Linear(num_features, seq_len),\n",
    "      torch.nn.ReLU(),\n",
    "      torch.nn.Linear(seq_len, 25),\n",
    "      torch.nn.ReLU(),\n",
    "      torch.nn.Linear(25, num_classes),\n",
    "    )\n",
    "\n",
    "  def forward(self, x):\n",
    "    x = torch.flatten(x, start_dim=1)\n",
    "    logits = self.all_layers(x)\n",
    "    return logits"
   ]
  },
  {
   "cell_type": "code",
   "execution_count": 13,
   "metadata": {},
   "outputs": [],
   "source": [
    "class LSTM(torch.nn.Module):\n",
    "  def __init__(self, input_size, hidden_size, num_layers, dropout):\n",
    "    super().__init__()\n",
    "    self.lstm = nn.LSTM(input_size, hidden_size, num_layers, batch_first=True, dropout=dropout)\n",
    "    self.fc = nn.Linear(hidden_size, 1)\n",
    "    self.name = \"LSTM\"\n",
    "\n",
    "  def forward(self, x):\n",
    "    out, _ = self.lstm(x)\n",
    "    out = self.fc(out[:, -1, :])  # Get the last time step\n",
    "    return out"
   ]
  },
  {
   "cell_type": "code",
   "execution_count": 15,
   "metadata": {},
   "outputs": [],
   "source": [
    "class GRU(torch.nn.Module):\n",
    "  def __init__(self, input_size, hidden_size, num_layers, dropout):\n",
    "    super().__init__()\n",
    "    self.gru = nn.GRU(input_size, hidden_size, num_layers, batch_first=True, dropout=dropout)\n",
    "    self.fc = nn.Linear(hidden_size, 1)\n",
    "    self.name = \"GRU\"\n",
    "\n",
    "  def forward(self, x):\n",
    "    out, _ = self.gru(x)\n",
    "    out = self.fc(out[:, -1, :])  # Get the last time step\n",
    "    return out"
   ]
  },
  {
   "cell_type": "code",
   "execution_count": 16,
   "metadata": {},
   "outputs": [],
   "source": [
    "params = dict(\n",
    "  input_size = 22,\n",
    "  seq_len = 12,\n",
    "  batch_size = 8,\n",
    "  criterion = nn.MSELoss(), #nn.L1Loss() (MAE), nn.MSELoss() (MSE)\n",
    "  optimizer = torch.optim.Adam,\n",
    "  max_epochs = 5,\n",
    "  n_features = 7,\n",
    "  hidden_size = 100,\n",
    "  num_layers = 1,\n",
    "  dropout = 0,\n",
    "  learning_rate = 0.001,\n",
    "  num_workers = 0,\n",
    "  is_persistent = False,\n",
    "  scaler = MinMaxScaler()\n",
    ")"
   ]
  },
  {
   "cell_type": "markdown",
   "metadata": {},
   "source": [
    "## Runs"
   ]
  },
  {
   "cell_type": "code",
   "execution_count": 16,
   "metadata": {},
   "outputs": [
    {
     "name": "stdout",
     "output_type": "stream",
     "text": [
      "-----Training GRU model-----\n"
     ]
    },
    {
     "name": "stderr",
     "output_type": "stream",
     "text": [
      "GPU available: False, used: False\n",
      "TPU available: False, using: 0 TPU cores\n",
      "HPU available: False, using: 0 HPUs\n",
      "\n",
      "  | Name      | Type    | Params | Mode \n",
      "----------------------------------------------\n",
      "0 | criterion | MSELoss | 0      | train\n",
      "1 | model     | GRU     | 37.3 K | train\n",
      "----------------------------------------------\n",
      "37.3 K    Trainable params\n",
      "0         Non-trainable params\n",
      "37.3 K    Total params\n",
      "0.149     Total estimated model params size (MB)\n",
      "4         Modules in train mode\n",
      "0         Modules in eval mode\n"
     ]
    },
    {
     "data": {
      "application/vnd.jupyter.widget-view+json": {
       "model_id": "49a8a0aad33949e1abbc17f8cdac0353",
       "version_major": 2,
       "version_minor": 0
      },
      "text/plain": [
       "Sanity Checking: |          | 0/? [00:00<?, ?it/s]"
      ]
     },
     "metadata": {},
     "output_type": "display_data"
    },
    {
     "name": "stderr",
     "output_type": "stream",
     "text": [
      "c:\\Users\\sebas\\AppData\\Local\\Programs\\Python\\Python312\\Lib\\site-packages\\lightning\\pytorch\\trainer\\connectors\\data_connector.py:425: The 'val_dataloader' does not have many workers which may be a bottleneck. Consider increasing the value of the `num_workers` argument` to `num_workers=11` in the `DataLoader` to improve performance.\n",
      "c:\\Users\\sebas\\AppData\\Local\\Programs\\Python\\Python312\\Lib\\site-packages\\lightning\\pytorch\\trainer\\connectors\\data_connector.py:425: The 'train_dataloader' does not have many workers which may be a bottleneck. Consider increasing the value of the `num_workers` argument` to `num_workers=11` in the `DataLoader` to improve performance.\n"
     ]
    },
    {
     "data": {
      "application/vnd.jupyter.widget-view+json": {
       "model_id": "3c6797b662b14591a6750abc9f21b1ea",
       "version_major": 2,
       "version_minor": 0
      },
      "text/plain": [
       "Training: |          | 0/? [00:00<?, ?it/s]"
      ]
     },
     "metadata": {},
     "output_type": "display_data"
    },
    {
     "data": {
      "application/vnd.jupyter.widget-view+json": {
       "model_id": "534552938c034f05b9650e1ef359a55b",
       "version_major": 2,
       "version_minor": 0
      },
      "text/plain": [
       "Validation: |          | 0/? [00:00<?, ?it/s]"
      ]
     },
     "metadata": {},
     "output_type": "display_data"
    },
    {
     "data": {
      "application/vnd.jupyter.widget-view+json": {
       "model_id": "2429c196eef446969b0212715025c761",
       "version_major": 2,
       "version_minor": 0
      },
      "text/plain": [
       "Validation: |          | 0/? [00:00<?, ?it/s]"
      ]
     },
     "metadata": {},
     "output_type": "display_data"
    },
    {
     "data": {
      "application/vnd.jupyter.widget-view+json": {
       "model_id": "e375ce59d32d43a2b3be50199d5c3809",
       "version_major": 2,
       "version_minor": 0
      },
      "text/plain": [
       "Validation: |          | 0/? [00:00<?, ?it/s]"
      ]
     },
     "metadata": {},
     "output_type": "display_data"
    },
    {
     "data": {
      "application/vnd.jupyter.widget-view+json": {
       "model_id": "e9d893409f7f447392f6093cc9c29a61",
       "version_major": 2,
       "version_minor": 0
      },
      "text/plain": [
       "Validation: |          | 0/? [00:00<?, ?it/s]"
      ]
     },
     "metadata": {},
     "output_type": "display_data"
    },
    {
     "data": {
      "application/vnd.jupyter.widget-view+json": {
       "model_id": "ef7f1eca17634484ab33de450818b7bc",
       "version_major": 2,
       "version_minor": 0
      },
      "text/plain": [
       "Validation: |          | 0/? [00:00<?, ?it/s]"
      ]
     },
     "metadata": {},
     "output_type": "display_data"
    },
    {
     "name": "stderr",
     "output_type": "stream",
     "text": [
      "`Trainer.fit` stopped: `max_epochs=5` reached.\n",
      "c:\\Users\\sebas\\AppData\\Local\\Programs\\Python\\Python312\\Lib\\site-packages\\lightning\\pytorch\\trainer\\connectors\\data_connector.py:425: The 'test_dataloader' does not have many workers which may be a bottleneck. Consider increasing the value of the `num_workers` argument` to `num_workers=11` in the `DataLoader` to improve performance.\n"
     ]
    },
    {
     "data": {
      "application/vnd.jupyter.widget-view+json": {
       "model_id": "eefe6233d1e64abbb3911531f1e1cd36",
       "version_major": 2,
       "version_minor": 0
      },
      "text/plain": [
       "Testing: |          | 0/? [00:00<?, ?it/s]"
      ]
     },
     "metadata": {},
     "output_type": "display_data"
    },
    {
     "data": {
      "text/html": [
       "<pre style=\"white-space:pre;overflow-x:auto;line-height:normal;font-family:Menlo,'DejaVu Sans Mono',consolas,'Courier New',monospace\">┏━━━━━━━━━━━━━━━━━━━━━━━━━━━┳━━━━━━━━━━━━━━━━━━━━━━━━━━━┓\n",
       "┃<span style=\"font-weight: bold\">        Test metric        </span>┃<span style=\"font-weight: bold\">       DataLoader 0        </span>┃\n",
       "┡━━━━━━━━━━━━━━━━━━━━━━━━━━━╇━━━━━━━━━━━━━━━━━━━━━━━━━━━┩\n",
       "│<span style=\"color: #008080; text-decoration-color: #008080\">      test_loss_epoch      </span>│<span style=\"color: #800080; text-decoration-color: #800080\">    1.5862900018692017     </span>│\n",
       "└───────────────────────────┴───────────────────────────┘\n",
       "</pre>\n"
      ],
      "text/plain": [
       "┏━━━━━━━━━━━━━━━━━━━━━━━━━━━┳━━━━━━━━━━━━━━━━━━━━━━━━━━━┓\n",
       "┃\u001b[1m \u001b[0m\u001b[1m       Test metric       \u001b[0m\u001b[1m \u001b[0m┃\u001b[1m \u001b[0m\u001b[1m      DataLoader 0       \u001b[0m\u001b[1m \u001b[0m┃\n",
       "┡━━━━━━━━━━━━━━━━━━━━━━━━━━━╇━━━━━━━━━━━━━━━━━━━━━━━━━━━┩\n",
       "│\u001b[36m \u001b[0m\u001b[36m     test_loss_epoch     \u001b[0m\u001b[36m \u001b[0m│\u001b[35m \u001b[0m\u001b[35m   1.5862900018692017    \u001b[0m\u001b[35m \u001b[0m│\n",
       "└───────────────────────────┴───────────────────────────┘\n"
      ]
     },
     "metadata": {},
     "output_type": "display_data"
    },
    {
     "name": "stderr",
     "output_type": "stream",
     "text": [
      "c:\\Users\\sebas\\AppData\\Local\\Programs\\Python\\Python312\\Lib\\site-packages\\lightning\\pytorch\\trainer\\connectors\\data_connector.py:425: The 'predict_dataloader' does not have many workers which may be a bottleneck. Consider increasing the value of the `num_workers` argument` to `num_workers=11` in the `DataLoader` to improve performance.\n"
     ]
    },
    {
     "data": {
      "application/vnd.jupyter.widget-view+json": {
       "model_id": "a8d1eb4d7b16444eaa9425f78a6ea693",
       "version_major": 2,
       "version_minor": 0
      },
      "text/plain": [
       "Predicting: |          | 0/? [00:00<?, ?it/s]"
      ]
     },
     "metadata": {},
     "output_type": "display_data"
    },
    {
     "name": "stdout",
     "output_type": "stream",
     "text": [
      "-----Training LSTM model-----\n"
     ]
    },
    {
     "name": "stderr",
     "output_type": "stream",
     "text": [
      "GPU available: False, used: False\n",
      "TPU available: False, using: 0 TPU cores\n",
      "HPU available: False, using: 0 HPUs\n",
      "\n",
      "  | Name      | Type    | Params | Mode \n",
      "----------------------------------------------\n",
      "0 | criterion | MSELoss | 0      | train\n",
      "1 | model     | LSTM    | 49.7 K | train\n",
      "----------------------------------------------\n",
      "49.7 K    Trainable params\n",
      "0         Non-trainable params\n",
      "49.7 K    Total params\n",
      "0.199     Total estimated model params size (MB)\n",
      "4         Modules in train mode\n",
      "0         Modules in eval mode\n"
     ]
    },
    {
     "data": {
      "application/vnd.jupyter.widget-view+json": {
       "model_id": "989dc5d1a004402eb2b58c028da446c1",
       "version_major": 2,
       "version_minor": 0
      },
      "text/plain": [
       "Sanity Checking: |          | 0/? [00:00<?, ?it/s]"
      ]
     },
     "metadata": {},
     "output_type": "display_data"
    },
    {
     "name": "stderr",
     "output_type": "stream",
     "text": [
      "c:\\Users\\sebas\\AppData\\Local\\Programs\\Python\\Python312\\Lib\\site-packages\\lightning\\pytorch\\trainer\\connectors\\data_connector.py:425: The 'val_dataloader' does not have many workers which may be a bottleneck. Consider increasing the value of the `num_workers` argument` to `num_workers=11` in the `DataLoader` to improve performance.\n",
      "c:\\Users\\sebas\\AppData\\Local\\Programs\\Python\\Python312\\Lib\\site-packages\\lightning\\pytorch\\trainer\\connectors\\data_connector.py:425: The 'train_dataloader' does not have many workers which may be a bottleneck. Consider increasing the value of the `num_workers` argument` to `num_workers=11` in the `DataLoader` to improve performance.\n"
     ]
    },
    {
     "data": {
      "application/vnd.jupyter.widget-view+json": {
       "model_id": "edb565c503884b22a3cc6e84b608a128",
       "version_major": 2,
       "version_minor": 0
      },
      "text/plain": [
       "Training: |          | 0/? [00:00<?, ?it/s]"
      ]
     },
     "metadata": {},
     "output_type": "display_data"
    },
    {
     "data": {
      "application/vnd.jupyter.widget-view+json": {
       "model_id": "8187b18d3734476098507fcddf79b496",
       "version_major": 2,
       "version_minor": 0
      },
      "text/plain": [
       "Validation: |          | 0/? [00:00<?, ?it/s]"
      ]
     },
     "metadata": {},
     "output_type": "display_data"
    },
    {
     "data": {
      "application/vnd.jupyter.widget-view+json": {
       "model_id": "57bc8f1d6292485fbe82f0d44c0b554f",
       "version_major": 2,
       "version_minor": 0
      },
      "text/plain": [
       "Validation: |          | 0/? [00:00<?, ?it/s]"
      ]
     },
     "metadata": {},
     "output_type": "display_data"
    },
    {
     "data": {
      "application/vnd.jupyter.widget-view+json": {
       "model_id": "3bc68f76cc5e4ac18fe06661f3fd0e44",
       "version_major": 2,
       "version_minor": 0
      },
      "text/plain": [
       "Validation: |          | 0/? [00:00<?, ?it/s]"
      ]
     },
     "metadata": {},
     "output_type": "display_data"
    },
    {
     "data": {
      "application/vnd.jupyter.widget-view+json": {
       "model_id": "b59c80c75c8543c8a8d353fbd0b3417a",
       "version_major": 2,
       "version_minor": 0
      },
      "text/plain": [
       "Validation: |          | 0/? [00:00<?, ?it/s]"
      ]
     },
     "metadata": {},
     "output_type": "display_data"
    },
    {
     "data": {
      "application/vnd.jupyter.widget-view+json": {
       "model_id": "5063cb83fe574613a1fb5b0b94d9088c",
       "version_major": 2,
       "version_minor": 0
      },
      "text/plain": [
       "Validation: |          | 0/? [00:00<?, ?it/s]"
      ]
     },
     "metadata": {},
     "output_type": "display_data"
    },
    {
     "name": "stderr",
     "output_type": "stream",
     "text": [
      "`Trainer.fit` stopped: `max_epochs=5` reached.\n",
      "c:\\Users\\sebas\\AppData\\Local\\Programs\\Python\\Python312\\Lib\\site-packages\\lightning\\pytorch\\trainer\\connectors\\data_connector.py:425: The 'test_dataloader' does not have many workers which may be a bottleneck. Consider increasing the value of the `num_workers` argument` to `num_workers=11` in the `DataLoader` to improve performance.\n"
     ]
    },
    {
     "data": {
      "application/vnd.jupyter.widget-view+json": {
       "model_id": "4f27e13532854c48a15e53d1d46af971",
       "version_major": 2,
       "version_minor": 0
      },
      "text/plain": [
       "Testing: |          | 0/? [00:00<?, ?it/s]"
      ]
     },
     "metadata": {},
     "output_type": "display_data"
    },
    {
     "data": {
      "text/html": [
       "<pre style=\"white-space:pre;overflow-x:auto;line-height:normal;font-family:Menlo,'DejaVu Sans Mono',consolas,'Courier New',monospace\">┏━━━━━━━━━━━━━━━━━━━━━━━━━━━┳━━━━━━━━━━━━━━━━━━━━━━━━━━━┓\n",
       "┃<span style=\"font-weight: bold\">        Test metric        </span>┃<span style=\"font-weight: bold\">       DataLoader 0        </span>┃\n",
       "┡━━━━━━━━━━━━━━━━━━━━━━━━━━━╇━━━━━━━━━━━━━━━━━━━━━━━━━━━┩\n",
       "│<span style=\"color: #008080; text-decoration-color: #008080\">      test_loss_epoch      </span>│<span style=\"color: #800080; text-decoration-color: #800080\">    1.0174355506896973     </span>│\n",
       "└───────────────────────────┴───────────────────────────┘\n",
       "</pre>\n"
      ],
      "text/plain": [
       "┏━━━━━━━━━━━━━━━━━━━━━━━━━━━┳━━━━━━━━━━━━━━━━━━━━━━━━━━━┓\n",
       "┃\u001b[1m \u001b[0m\u001b[1m       Test metric       \u001b[0m\u001b[1m \u001b[0m┃\u001b[1m \u001b[0m\u001b[1m      DataLoader 0       \u001b[0m\u001b[1m \u001b[0m┃\n",
       "┡━━━━━━━━━━━━━━━━━━━━━━━━━━━╇━━━━━━━━━━━━━━━━━━━━━━━━━━━┩\n",
       "│\u001b[36m \u001b[0m\u001b[36m     test_loss_epoch     \u001b[0m\u001b[36m \u001b[0m│\u001b[35m \u001b[0m\u001b[35m   1.0174355506896973    \u001b[0m\u001b[35m \u001b[0m│\n",
       "└───────────────────────────┴───────────────────────────┘\n"
      ]
     },
     "metadata": {},
     "output_type": "display_data"
    },
    {
     "name": "stderr",
     "output_type": "stream",
     "text": [
      "c:\\Users\\sebas\\AppData\\Local\\Programs\\Python\\Python312\\Lib\\site-packages\\lightning\\pytorch\\trainer\\connectors\\data_connector.py:425: The 'predict_dataloader' does not have many workers which may be a bottleneck. Consider increasing the value of the `num_workers` argument` to `num_workers=11` in the `DataLoader` to improve performance.\n"
     ]
    },
    {
     "data": {
      "application/vnd.jupyter.widget-view+json": {
       "model_id": "0b57b96fa584410f945e35badd2e2fb5",
       "version_major": 2,
       "version_minor": 0
      },
      "text/plain": [
       "Predicting: |          | 0/? [00:00<?, ?it/s]"
      ]
     },
     "metadata": {},
     "output_type": "display_data"
    }
   ],
   "source": [
    "colmod = ColoradoDataModule(data_dir='Colorado/Preprocessing/TestDataset/CleanedColoradoData.csv', scaler=params['scaler'], seq_len=params['seq_len'], batch_size=params['batch_size'], num_workers=params['num_workers'], is_persistent=params['is_persistent'])\n",
    "colmod.prepare_data()\n",
    "colmod.setup(stage=None)\n",
    "\n",
    "ensemble_models = [\n",
    "  # MLP(num_features=params['seq_len']*params['input_size'], seq_len=params['batch_size'], num_classes=1),\n",
    "  GRU(input_size=params['input_size'], hidden_size=params['hidden_size'], num_layers=params['num_layers'], dropout=params['dropout']),\n",
    "  LSTM(input_size=params['input_size'], hidden_size=params['hidden_size'], num_layers=params['num_layers'], dropout=params['dropout']),\n",
    "  # AdaBoostRegressor(n_estimators=100, random_state=42),\n",
    "  # RandomForestRegressor(n_estimators=100, random_state=42),\n",
    "]\n",
    "\n",
    "model_names = [m.name if isinstance(m, torch.nn.Module) else m.__class__.__name__ for m in ensemble_models]\n",
    "combined_name = \"-\".join(model_names)\n",
    "\n",
    "for _model in ensemble_models:\n",
    "  if isinstance(_model, torch.nn.Module):\n",
    "    print(f\"-----Training {_model.name} model-----\")\n",
    "    model = LightningModel(model=_model, criterion=params['criterion'], optimizer=params['optimizer'], learning_rate=params['learning_rate'])\n",
    "    pred_writer = CustomWriter(output_dir=\"Predictions\", write_interval=\"epoch\", combined_name=combined_name, model_name=_model.name)\n",
    "    trainer = L.Trainer(max_epochs=params['max_epochs'], callbacks=[EarlyStopping(monitor=\"val_loss\", mode=\"min\"), pred_writer], log_every_n_steps=params['batch_size']//2)\n",
    "    trainer.fit(model, colmod)\n",
    "    trainer.test(model, colmod)\n",
    "    trainer.predict(model, colmod, return_predictions=False)\n",
    "  \n",
    "  if isinstance(_model, BaseEstimator):\n",
    "    print(f\"-----Training {_model.__class__.__name__} model-----\")\n",
    "    # X_train_sample, y_train_sample = resample(colmod.X_train, colmod.y_train, replace=True, n_samples=len(colmod.X_train), random_state=42)\n",
    "    # _model.fit(X_train_sample, y_train_sample.ravel()) # ravel() converts a 2D to a 1D array\n",
    "    _model.fit(colmod.X_train, colmod.y_train.ravel()) # ravel() converts a 2D to a 1D array\n",
    "    y_pred = _model.predict(colmod.X_test)\n",
    "    if not os.path.exists(f\"Predictions/{combined_name}\"):\n",
    "      os.makedirs(f\"Predictions/{combined_name}\")\n",
    "    torch.save(y_pred, f\"Predictions/{combined_name}/predictions_{_model.__class__.__name__}.pt\")"
   ]
  },
  {
   "cell_type": "markdown",
   "metadata": {},
   "source": [
    "Get all predictions at combined name"
   ]
  },
  {
   "cell_type": "code",
   "execution_count": 17,
   "metadata": {},
   "outputs": [],
   "source": [
    "all_predictions = []\n",
    "lengths = []\n",
    "folder_path = f'Predictions/{combined_name}'\n",
    "pt_files = [f for f in os.listdir(folder_path) if f.endswith('.pt')]\n",
    "for i, pt_file in enumerate(pt_files):\n",
    "  file_path = os.path.join(folder_path, pt_file)\n",
    "  predictions = torch.load(file_path)\n",
    "  if type(predictions[0]) == torch.Tensor:\n",
    "    predictions = [item.item() for sublist in predictions for item in sublist]\n",
    "  elif type(predictions[0]) == np.float64:\n",
    "    predictions = predictions.tolist()\n",
    "  lengths.append(len(predictions))\n",
    "  all_predictions.append(predictions)\n",
    "\n",
    "most_freq_len = max(set(lengths), key=lengths.count)\n",
    "for i, pred in enumerate(all_predictions):\n",
    "  if len(pred) < most_freq_len:\n",
    "    all_predictions[i] += [0] * (most_freq_len - len(pred))\n",
    "  elif len(pred) > most_freq_len:\n",
    "    all_predictions[i] = pred[-most_freq_len:]"
   ]
  },
  {
   "cell_type": "markdown",
   "metadata": {},
   "source": [
    "Bagging"
   ]
  },
  {
   "cell_type": "code",
   "execution_count": 18,
   "metadata": {},
   "outputs": [],
   "source": [
    "ensemble_predictions = np.mean(all_predictions, axis=0)\n",
    "filename = f\"{folder_path}/predictions_{combined_name}.pt\"\n",
    "torch.save(ensemble_predictions, filename)"
   ]
  },
  {
   "cell_type": "code",
   "execution_count": 21,
   "metadata": {},
   "outputs": [],
   "source": [
    "colmod = ColoradoDataModule(data_dir='Colorado/Preprocessing/TestDataset/CleanedColoradoData.csv', scaler=params['scaler'], seq_len=params['seq_len'], batch_size=params['batch_size'], num_workers=params['num_workers'], is_persistent=params['is_persistent'])\n",
    "colmod.prepare_data()\n",
    "colmod.setup(stage=None)\n",
    "\n",
    "combined_name = \"MLP-GRU-LSTM-AdaBoostRegressor-RandomForestRegressor_AsymmetricMAEandMSELoss\"\n",
    "\n",
    "actuals = []\n",
    "for batch in colmod.predict_dataloader():\n",
    "  x, y = batch\n",
    "  actuals.extend(y.numpy())\n",
    "\n",
    "actuals_flat = [item for sublist in actuals for item in sublist]\n",
    "\n",
    "folder_path = f'Predictions/{combined_name}'\n",
    "pt_files = [f for f in os.listdir(folder_path) if f.endswith('.pt')]\n",
    "\n",
    "metrics = []\n",
    "plt.figure(figsize=(10, 5))\n",
    "plt.plot(actuals_flat, label='Actuals')\n",
    "\n",
    "for i, pt_file in enumerate(pt_files):\n",
    "  file_path = os.path.join(folder_path, pt_file)\n",
    "  predictions = torch.load(file_path)\n",
    "  model_name = pt_file.split('.')[0].split('_')[-1]\n",
    "\n",
    "  if len(predictions) > len(actuals_flat):\n",
    "    predictions = predictions[-len(actuals_flat):]\n",
    "  if type(predictions[0]) == torch.Tensor: \n",
    "    predictions = [item.item() for sublist in predictions for item in sublist]\n",
    "  elif type(predictions[0]) == np.float64:\n",
    "    predictions = predictions.tolist()\n",
    "  print(len(predictions), len(actuals_flat))"
   ]
  },
  {
   "cell_type": "code",
   "execution_count": 19,
   "metadata": {},
   "outputs": [
    {
     "ename": "ValueError",
     "evalue": "Found input variables with inconsistent numbers of samples: [1751, 14006]",
     "output_type": "error",
     "traceback": [
      "\u001b[1;31m---------------------------------------------------------------------------\u001b[0m",
      "\u001b[1;31mValueError\u001b[0m                                Traceback (most recent call last)",
      "Cell \u001b[1;32mIn[19], line 35\u001b[0m\n\u001b[0;32m     30\u001b[0m \u001b[38;5;28;01melif\u001b[39;00m \u001b[38;5;28mtype\u001b[39m(predictions[\u001b[38;5;241m0\u001b[39m]) \u001b[38;5;241m==\u001b[39m np\u001b[38;5;241m.\u001b[39mfloat64:\n\u001b[0;32m     31\u001b[0m   predictions \u001b[38;5;241m=\u001b[39m predictions\u001b[38;5;241m.\u001b[39mtolist()\n\u001b[0;32m     33\u001b[0m metrics\u001b[38;5;241m.\u001b[39mappend({\n\u001b[0;32m     34\u001b[0m   \u001b[38;5;124m'\u001b[39m\u001b[38;5;124mmodel\u001b[39m\u001b[38;5;124m'\u001b[39m: model_name,\n\u001b[1;32m---> 35\u001b[0m   \u001b[38;5;124m'\u001b[39m\u001b[38;5;124mmse\u001b[39m\u001b[38;5;124m'\u001b[39m: \u001b[43mmean_squared_error\u001b[49m\u001b[43m(\u001b[49m\u001b[43mpredictions\u001b[49m\u001b[43m,\u001b[49m\u001b[43m \u001b[49m\u001b[43mactuals_flat\u001b[49m\u001b[43m)\u001b[49m,\n\u001b[0;32m     36\u001b[0m   \u001b[38;5;124m'\u001b[39m\u001b[38;5;124mmae\u001b[39m\u001b[38;5;124m'\u001b[39m: mean_absolute_error(predictions, actuals_flat),\n\u001b[0;32m     37\u001b[0m   \u001b[38;5;124m'\u001b[39m\u001b[38;5;124mmape\u001b[39m\u001b[38;5;124m'\u001b[39m: mean_absolute_percentage_error(predictions, actuals_flat)})\n\u001b[0;32m     38\u001b[0m \u001b[38;5;66;03m# if model_name == combined_name:\u001b[39;00m\n\u001b[0;32m     39\u001b[0m plt\u001b[38;5;241m.\u001b[39mplot(predictions, label\u001b[38;5;241m=\u001b[39mmodel_name)\n",
      "File \u001b[1;32mc:\\Users\\sebas\\AppData\\Local\\Programs\\Python\\Python312\\Lib\\site-packages\\sklearn\\utils\\_param_validation.py:213\u001b[0m, in \u001b[0;36mvalidate_params.<locals>.decorator.<locals>.wrapper\u001b[1;34m(*args, **kwargs)\u001b[0m\n\u001b[0;32m    207\u001b[0m \u001b[38;5;28;01mtry\u001b[39;00m:\n\u001b[0;32m    208\u001b[0m     \u001b[38;5;28;01mwith\u001b[39;00m config_context(\n\u001b[0;32m    209\u001b[0m         skip_parameter_validation\u001b[38;5;241m=\u001b[39m(\n\u001b[0;32m    210\u001b[0m             prefer_skip_nested_validation \u001b[38;5;129;01mor\u001b[39;00m global_skip_validation\n\u001b[0;32m    211\u001b[0m         )\n\u001b[0;32m    212\u001b[0m     ):\n\u001b[1;32m--> 213\u001b[0m         \u001b[38;5;28;01mreturn\u001b[39;00m \u001b[43mfunc\u001b[49m\u001b[43m(\u001b[49m\u001b[38;5;241;43m*\u001b[39;49m\u001b[43margs\u001b[49m\u001b[43m,\u001b[49m\u001b[43m \u001b[49m\u001b[38;5;241;43m*\u001b[39;49m\u001b[38;5;241;43m*\u001b[39;49m\u001b[43mkwargs\u001b[49m\u001b[43m)\u001b[49m\n\u001b[0;32m    214\u001b[0m \u001b[38;5;28;01mexcept\u001b[39;00m InvalidParameterError \u001b[38;5;28;01mas\u001b[39;00m e:\n\u001b[0;32m    215\u001b[0m     \u001b[38;5;66;03m# When the function is just a wrapper around an estimator, we allow\u001b[39;00m\n\u001b[0;32m    216\u001b[0m     \u001b[38;5;66;03m# the function to delegate validation to the estimator, but we replace\u001b[39;00m\n\u001b[0;32m    217\u001b[0m     \u001b[38;5;66;03m# the name of the estimator by the name of the function in the error\u001b[39;00m\n\u001b[0;32m    218\u001b[0m     \u001b[38;5;66;03m# message to avoid confusion.\u001b[39;00m\n\u001b[0;32m    219\u001b[0m     msg \u001b[38;5;241m=\u001b[39m re\u001b[38;5;241m.\u001b[39msub(\n\u001b[0;32m    220\u001b[0m         \u001b[38;5;124mr\u001b[39m\u001b[38;5;124m\"\u001b[39m\u001b[38;5;124mparameter of \u001b[39m\u001b[38;5;124m\\\u001b[39m\u001b[38;5;124mw+ must be\u001b[39m\u001b[38;5;124m\"\u001b[39m,\n\u001b[0;32m    221\u001b[0m         \u001b[38;5;124mf\u001b[39m\u001b[38;5;124m\"\u001b[39m\u001b[38;5;124mparameter of \u001b[39m\u001b[38;5;132;01m{\u001b[39;00mfunc\u001b[38;5;241m.\u001b[39m\u001b[38;5;18m__qualname__\u001b[39m\u001b[38;5;132;01m}\u001b[39;00m\u001b[38;5;124m must be\u001b[39m\u001b[38;5;124m\"\u001b[39m,\n\u001b[0;32m    222\u001b[0m         \u001b[38;5;28mstr\u001b[39m(e),\n\u001b[0;32m    223\u001b[0m     )\n",
      "File \u001b[1;32mc:\\Users\\sebas\\AppData\\Local\\Programs\\Python\\Python312\\Lib\\site-packages\\sklearn\\metrics\\_regression.py:506\u001b[0m, in \u001b[0;36mmean_squared_error\u001b[1;34m(y_true, y_pred, sample_weight, multioutput, squared)\u001b[0m\n\u001b[0;32m    501\u001b[0m     \u001b[38;5;28;01mif\u001b[39;00m \u001b[38;5;129;01mnot\u001b[39;00m squared:\n\u001b[0;32m    502\u001b[0m         \u001b[38;5;28;01mreturn\u001b[39;00m root_mean_squared_error(\n\u001b[0;32m    503\u001b[0m             y_true, y_pred, sample_weight\u001b[38;5;241m=\u001b[39msample_weight, multioutput\u001b[38;5;241m=\u001b[39mmultioutput\n\u001b[0;32m    504\u001b[0m         )\n\u001b[1;32m--> 506\u001b[0m y_type, y_true, y_pred, multioutput \u001b[38;5;241m=\u001b[39m \u001b[43m_check_reg_targets\u001b[49m\u001b[43m(\u001b[49m\n\u001b[0;32m    507\u001b[0m \u001b[43m    \u001b[49m\u001b[43my_true\u001b[49m\u001b[43m,\u001b[49m\u001b[43m \u001b[49m\u001b[43my_pred\u001b[49m\u001b[43m,\u001b[49m\u001b[43m \u001b[49m\u001b[43mmultioutput\u001b[49m\n\u001b[0;32m    508\u001b[0m \u001b[43m\u001b[49m\u001b[43m)\u001b[49m\n\u001b[0;32m    509\u001b[0m check_consistent_length(y_true, y_pred, sample_weight)\n\u001b[0;32m    510\u001b[0m output_errors \u001b[38;5;241m=\u001b[39m np\u001b[38;5;241m.\u001b[39maverage((y_true \u001b[38;5;241m-\u001b[39m y_pred) \u001b[38;5;241m*\u001b[39m\u001b[38;5;241m*\u001b[39m \u001b[38;5;241m2\u001b[39m, axis\u001b[38;5;241m=\u001b[39m\u001b[38;5;241m0\u001b[39m, weights\u001b[38;5;241m=\u001b[39msample_weight)\n",
      "File \u001b[1;32mc:\\Users\\sebas\\AppData\\Local\\Programs\\Python\\Python312\\Lib\\site-packages\\sklearn\\metrics\\_regression.py:111\u001b[0m, in \u001b[0;36m_check_reg_targets\u001b[1;34m(y_true, y_pred, multioutput, dtype, xp)\u001b[0m\n\u001b[0;32m     76\u001b[0m \u001b[38;5;250m\u001b[39m\u001b[38;5;124;03m\"\"\"Check that y_true and y_pred belong to the same regression task.\u001b[39;00m\n\u001b[0;32m     77\u001b[0m \n\u001b[0;32m     78\u001b[0m \u001b[38;5;124;03mParameters\u001b[39;00m\n\u001b[1;32m   (...)\u001b[0m\n\u001b[0;32m    107\u001b[0m \u001b[38;5;124;03m    correct keyword.\u001b[39;00m\n\u001b[0;32m    108\u001b[0m \u001b[38;5;124;03m\"\"\"\u001b[39;00m\n\u001b[0;32m    109\u001b[0m xp, _ \u001b[38;5;241m=\u001b[39m get_namespace(y_true, y_pred, multioutput, xp\u001b[38;5;241m=\u001b[39mxp)\n\u001b[1;32m--> 111\u001b[0m \u001b[43mcheck_consistent_length\u001b[49m\u001b[43m(\u001b[49m\u001b[43my_true\u001b[49m\u001b[43m,\u001b[49m\u001b[43m \u001b[49m\u001b[43my_pred\u001b[49m\u001b[43m)\u001b[49m\n\u001b[0;32m    112\u001b[0m y_true \u001b[38;5;241m=\u001b[39m check_array(y_true, ensure_2d\u001b[38;5;241m=\u001b[39m\u001b[38;5;28;01mFalse\u001b[39;00m, dtype\u001b[38;5;241m=\u001b[39mdtype)\n\u001b[0;32m    113\u001b[0m y_pred \u001b[38;5;241m=\u001b[39m check_array(y_pred, ensure_2d\u001b[38;5;241m=\u001b[39m\u001b[38;5;28;01mFalse\u001b[39;00m, dtype\u001b[38;5;241m=\u001b[39mdtype)\n",
      "File \u001b[1;32mc:\\Users\\sebas\\AppData\\Local\\Programs\\Python\\Python312\\Lib\\site-packages\\sklearn\\utils\\validation.py:457\u001b[0m, in \u001b[0;36mcheck_consistent_length\u001b[1;34m(*arrays)\u001b[0m\n\u001b[0;32m    455\u001b[0m uniques \u001b[38;5;241m=\u001b[39m np\u001b[38;5;241m.\u001b[39munique(lengths)\n\u001b[0;32m    456\u001b[0m \u001b[38;5;28;01mif\u001b[39;00m \u001b[38;5;28mlen\u001b[39m(uniques) \u001b[38;5;241m>\u001b[39m \u001b[38;5;241m1\u001b[39m:\n\u001b[1;32m--> 457\u001b[0m     \u001b[38;5;28;01mraise\u001b[39;00m \u001b[38;5;167;01mValueError\u001b[39;00m(\n\u001b[0;32m    458\u001b[0m         \u001b[38;5;124m\"\u001b[39m\u001b[38;5;124mFound input variables with inconsistent numbers of samples: \u001b[39m\u001b[38;5;132;01m%r\u001b[39;00m\u001b[38;5;124m\"\u001b[39m\n\u001b[0;32m    459\u001b[0m         \u001b[38;5;241m%\u001b[39m [\u001b[38;5;28mint\u001b[39m(l) \u001b[38;5;28;01mfor\u001b[39;00m l \u001b[38;5;129;01min\u001b[39;00m lengths]\n\u001b[0;32m    460\u001b[0m     )\n",
      "\u001b[1;31mValueError\u001b[0m: Found input variables with inconsistent numbers of samples: [1751, 14006]"
     ]
    },
    {
     "data": {
      "image/png": "[encoded data removed]",
      "text/plain": [
       "<Figure size 1000x500 with 1 Axes>"
      ]
     },
     "metadata": {},
     "output_type": "display_data"
    }
   ],
   "source": [
    "colmod = ColoradoDataModule(data_dir='Colorado/Preprocessing/TestDataset/CleanedColoradoData.csv', scaler=params['scaler'], seq_len=params['seq_len'], batch_size=params['batch_size'], num_workers=params['num_workers'], is_persistent=params['is_persistent'])\n",
    "colmod.prepare_data()\n",
    "colmod.setup(stage=None)\n",
    "\n",
    "combined_name = \"MLP-GRU-LSTM-AdaBoostRegressor-RandomForestRegressor_MAELoss\"\n",
    "\n",
    "actuals = []\n",
    "for batch in colmod.predict_dataloader():\n",
    "  x, y = batch\n",
    "  actuals.extend(y.numpy())\n",
    "\n",
    "actuals_flat = [item for sublist in actuals for item in sublist]\n",
    "\n",
    "folder_path = f'Predictions/{combined_name}'\n",
    "pt_files = [f for f in os.listdir(folder_path) if f.endswith('.pt')]\n",
    "\n",
    "metrics = []\n",
    "plt.figure(figsize=(10, 5))\n",
    "plt.plot(actuals_flat, label='Actuals')\n",
    "\n",
    "for i, pt_file in enumerate(pt_files):\n",
    "  file_path = os.path.join(folder_path, pt_file)\n",
    "  predictions = torch.load(file_path)\n",
    "  model_name = pt_file.split('.')[0].split('_')[-1]\n",
    "\n",
    "  if len(predictions) > len(actuals_flat):\n",
    "    predictions = predictions[-len(actuals_flat):]\n",
    "  if type(predictions[0]) == torch.Tensor: \n",
    "    predictions = [item.item() for sublist in predictions for item in sublist]\n",
    "  elif type(predictions[0]) == np.float64:\n",
    "    predictions = predictions.tolist()\n",
    "\n",
    "  if len(predictions) == len(actuals_flat):\n",
    "    metrics.append({\n",
    "      'model': model_name,\n",
    "      'mse': mean_squared_error(predictions, actuals_flat),\n",
    "      'mae': mean_absolute_error(predictions, actuals_flat),\n",
    "      'mape': mean_absolute_percentage_error(predictions, actuals_flat)})\n",
    "    plt.plot(predictions, label=model_name)\n",
    "\n",
    "loss_func_df = pd.concat([pd.DataFrame([m]) for m in metrics])\n",
    "loss_func_df.set_index('model', inplace=True)\n",
    "print(loss_func_df)\n",
    "loss_func_df.to_csv('loss_func_metrics.csv')\n",
    "\n",
    "plt.xlabel('Samples')\n",
    "plt.ylabel('Energy Consumption')\n",
    "plt.title(f'Predictions vs Actuals ({combined_name})')\n",
    "plt.legend()\n",
    "\n",
    "plt.savefig(f'{folder_path}/predictions_vs_actuals_{combined_name}.png')\n",
    "plt.show()"
   ]
  },
  {
   "cell_type": "code",
   "execution_count": 1,
   "metadata": {},
   "outputs": [
    {
     "ename": "NameError",
     "evalue": "name 'colmod' is not defined",
     "output_type": "error",
     "traceback": [
      "\u001b[1;31m---------------------------------------------------------------------------\u001b[0m",
      "\u001b[1;31mNameError\u001b[0m                                 Traceback (most recent call last)",
      "Cell \u001b[1;32mIn[1], line 2\u001b[0m\n\u001b[0;32m      1\u001b[0m actuals \u001b[38;5;241m=\u001b[39m []\n\u001b[1;32m----> 2\u001b[0m \u001b[38;5;28;01mfor\u001b[39;00m batch \u001b[38;5;129;01min\u001b[39;00m \u001b[43mcolmod\u001b[49m\u001b[38;5;241m.\u001b[39mpredict_dataloader():\n\u001b[0;32m      3\u001b[0m   x, y \u001b[38;5;241m=\u001b[39m batch\n\u001b[0;32m      4\u001b[0m   actuals\u001b[38;5;241m.\u001b[39mextend(y\u001b[38;5;241m.\u001b[39mnumpy())\n",
      "\u001b[1;31mNameError\u001b[0m: name 'colmod' is not defined"
     ]
    }
   ],
   "source": [
    "actuals = []\n",
    "for batch in colmod.predict_dataloader():\n",
    "  x, y = batch\n",
    "  actuals.extend(y.numpy())\n",
    "\n",
    "actuals_flat = [item for sublist in actuals for item in sublist]\n",
    "\n",
    "folder_path = f'Predictions/{combined_name}'\n",
    "pt_files = [f for f in os.listdir(folder_path) if f.endswith('.pt')]\n",
    "\n",
    "predictions = []\n",
    "metrics = []\n",
    "\n",
    "actuals_flat = actuals_flat[-500:]\n",
    "belows = {}\n",
    "\n",
    "plt.figure(figsize=(8, 5))\n",
    "plt.axhline(0, color='gray', linestyle='--', linewidth=1)\n",
    "plt.xlabel('Data points')\n",
    "plt.ylabel('Pred-Act')\n",
    "for i, pt_file in enumerate(pt_files):\n",
    "    file_path = os.path.join(folder_path, pt_file)\n",
    "    predictions = torch.load(file_path)\n",
    "    model_name = pt_file.split('.')[0].split('_')[-1]\n",
    "\n",
    "    if len(predictions) > len(actuals_flat):\n",
    "        predictions = predictions[-len(actuals_flat):]\n",
    "    if type(predictions[0]) == torch.Tensor: \n",
    "        predictions = [item.item() for sublist in predictions for item in sublist]\n",
    "    elif type(predictions[0]) == np.float64:\n",
    "        predictions = predictions.tolist()\n",
    "    \n",
    "    predictions = predictions[-500:]\n",
    "\n",
    "    diff = np.array(predictions) - np.array(actuals_flat)\n",
    "    plt.plot(diff, label=model_name)\n",
    "\n",
    "    total_below_actuals = np.sum(np.array(predictions) < np.array(actuals_flat))\n",
    "    percentage_total_below_actuals = total_below_actuals / len(predictions) * 100\n",
    "    belows.update({model_name: percentage_total_below_actuals})\n",
    "\n",
    "# save belows to csv\n",
    "belows_df = pd.DataFrame(list(belows.items()), columns=['Model', 'Percentage Below Actuals'])\n",
    "belows_df.to_csv(f'Predictions/belows.csv', index=False)\n",
    "plt.legend()\n",
    "plt.savefig(f'{folder_path}/delta_{combined_name}.png')\n",
    "# plt.show()"
   ]
  },
  {
   "cell_type": "code",
   "execution_count": 2,
   "metadata": {},
   "outputs": [
    {
     "name": "stdout",
     "output_type": "stream",
     "text": [
      "LSTM-GRU-ADA\n"
     ]
    }
   ],
   "source": [
    "# Assuming combined_name is defined somewhere in your code\n",
    "combined_name = \"LSTM-GRU-ADA\"  # Example value\n",
    "\n",
    "# Check if the combined_name contains an underscore\n",
    "if '_' in combined_name:\n",
    "    # Split the string at the underscore and take the first part\n",
    "    combined_name = combined_name.split('_')[0]\n",
    "\n",
    "# Print the modified combined_name (optional)\n",
    "print(combined_name)"
   ]
  },
  {
   "cell_type": "code",
   "execution_count": 125,
   "metadata": {},
   "outputs": [
    {
     "data": {
      "text/plain": [
       "Launching TensorBoard..."
      ]
     },
     "metadata": {},
     "output_type": "display_data"
    },
    {
     "data": {
      "text/html": [
       "\n",
       "      <iframe id=\"tensorboard-frame-e88fe13f0eaa3080\" width=\"100%\" height=\"800\" frameborder=\"0\">\n",
       "      </iframe>\n",
       "      <script>\n",
       "        (function() {\n",
       "          const frame = document.getElementById(\"tensorboard-frame-e88fe13f0eaa3080\");\n",
       "          const url = new URL(\"http://localhost\");\n",
       "          const port = 6008;\n",
       "          if (port) {\n",
       "            url.port = port;\n",
       "          }\n",
       "          frame.src = url;\n",
       "        })();\n",
       "      </script>\n",
       "    "
      ],
      "text/plain": [
       "<IPython.core.display.HTML object>"
      ]
     },
     "metadata": {},
     "output_type": "display_data"
    }
   ],
   "source": [
    "%load_ext tensorboard\n",
    "%tensorboard --logdir=lightning_logs"
   ]
  },
  {
   "cell_type": "code",
   "execution_count": 126,
   "metadata": {},
   "outputs": [
    {
     "name": "stderr",
     "output_type": "stream",
     "text": [
      "FINDSTR: Cannot open #\n",
      "FINDSTR: Cannot open find\n",
      "FINDSTR: Cannot open tensorboard\n",
      "FINDSTR: Cannot open pid\n"
     ]
    }
   ],
   "source": [
    "!tasklist | findstr tensorboard # find tensorboard pid\n",
    "# !taskkill /PID 16220 /F # kill tensorboard with pid"
   ]
  },
  {
   "cell_type": "code",
   "execution_count": null,
   "metadata": {},
   "outputs": [],
   "source": []
  }
 ],
 "metadata": {
  "kernelspec": {
   "display_name": "Python 3",
   "language": "python",
   "name": "python3"
  },
  "language_info": {
   "codemirror_mode": {
    "name": "ipython",
    "version": 3
   },
   "file_extension": ".py",
   "mimetype": "text/x-python",
   "name": "python",
   "nbconvert_exporter": "python",
   "pygments_lexer": "ipython3",
   "version": "3.12.0"
  }
 },
 "nbformat": 4,
 "nbformat_minor": 2
}
