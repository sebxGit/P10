{
 "cells": [
  {
   "cell_type": "code",
   "execution_count": null,
   "metadata": {},
   "outputs": [],
   "source": [
    "import matplotlib.pyplot as plt\n",
    "import numpy as np\n",
    "import pandas as pd\n",
    "import torch\n",
    "import torch.nn as nn\n",
    "import torch.optim as optim\n",
    "from torch.utils.data import DataLoader, TensorDataset, Dataset\n",
    "from sklearn.model_selection import train_test_split\n",
    "from datetime import datetime\n",
    "from sklearn.preprocessing import MinMaxScaler\n",
    "from sklearn.preprocessing import StandardScaler\n",
    "import matplotlib.dates as mdates\n",
    "import pytorch_lightning as pl\n",
    "from pytorch_lightning import Trainer, seed_everything\n",
    "from pytorch_lightning.loggers.csv_logs import CSVLogger"
   ]
  },
  {
   "cell_type": "code",
   "execution_count": 45,
   "metadata": {},
   "outputs": [],
   "source": [
    "class TimeSeriesDataset(Dataset):\n",
    "    def __init__(self, X: np.ndarray, y: np.ndarray, seq_len: int = 1):\n",
    "        self.X = torch.tensor(X).float()\n",
    "        self.y = torch.tensor(y).float()\n",
    "        self.seq_len = seq_len\n",
    "\n",
    "    def __len__(self):\n",
    "        return self.X.__len__() - (self.seq_len-1)\n",
    "\n",
    "    def __getitem__(self, index):\n",
    "        return (self.X[index:index+self.seq_len], self.y[index+self.seq_len-1])"
   ]
  },
  {
   "cell_type": "code",
   "execution_count": 58,
   "metadata": {},
   "outputs": [],
   "source": [
    "class ColoradoDataModule(pl.LightningDataModule):\n",
    "  def __init__(self, seq_len = 1, batch_size = 128, num_workers=0):\n",
    "    super().__init__()\n",
    "    self.seq_len = seq_len\n",
    "    self.batch_size = batch_size\n",
    "    self.num_workers = num_workers\n",
    "    self.X_train = None\n",
    "    self.y_train = None\n",
    "    self.X_val = None\n",
    "    self.y_val = None\n",
    "    self.X_test = None\n",
    "    self.y_test = None\n",
    "    self.columns = None\n",
    "    self.preprocessing = None\n",
    "\n",
    "  def prepare_data(self):\n",
    "    pass\n",
    "\n",
    "  def setup(self, stage=None):\n",
    "    if stage == 'fit' and self.X_train is not None:\n",
    "      return \n",
    "    if stage == 'test' and self.X_test is not None:\n",
    "      return\n",
    "    if stage is None and self.X_train is not None and self.X_test is not None:  \n",
    "      return\n",
    "\n",
    "    # add colorado data preprocessing instead\n",
    "    df = pd.read_csv('ColoradoData_Boulder.csv')\n",
    "    df.index = df['Start_DateTime']\n",
    "    df = df[['Start_DateTime', 'Energy_Consumption']].sort_index()\n",
    "    df.dropna(inplace=True)\n",
    "    df['Start_DateTime'] = pd.to_datetime(df['Start_DateTime'], format='%Y-%m-%d %H:%M:%S')\n",
    "    df.set_index('Start_DateTime', inplace=True)\n",
    "\n",
    "    X = df.copy()\n",
    "    y = X['Energy_Consumption'].shift(-1).ffill()\n",
    "    self.columns = X.columns\n",
    "\n",
    "    X_cv, X_test, y_cv, y_test = train_test_split(X, y, test_size=0.2, shuffle=False)\n",
    "    X_train, X_val, y_train, y_val = train_test_split(X_cv, y_cv, test_size=0.25, shuffle=False)\n",
    "\n",
    "    # scaling the data splits\n",
    "    preprocessing = StandardScaler()\n",
    "    preprocessing.fit(X_train)\n",
    "\n",
    "    if stage == 'fit' or stage is None:\n",
    "      self.X_train = preprocessing.transform(X_train)\n",
    "      self.y_train = y_train.values.reshape((-1, 1))\n",
    "      self.X_val = preprocessing.transform(X_val)\n",
    "      self.y_val = y_val.values.reshape((-1, 1))\n",
    "\n",
    "    if stage == 'test' or stage is None:\n",
    "      self.X_test = preprocessing.transform(X_test)\n",
    "      self.y_test = y_test.values.reshape((-1, 1))\n",
    "\n",
    "  def train_dataloader(self):\n",
    "    train_dataset = TimeSeriesDataset(self.X_train, self.y_train, seq_len=self.seq_len)\n",
    "    train_loader = DataLoader(train_dataset, batch_size=self.batch_size, shuffle=False, num_workers=self.num_workers)\n",
    "    return train_loader\n",
    "\n",
    "  def val_dataloader(self):\n",
    "    val_dataset = TimeSeriesDataset(self.X_val, self.y_val, seq_len=self.seq_len)\n",
    "    val_loader = DataLoader(val_dataset, batch_size=self.batch_size, shuffle=False, num_workers=self.num_workers)\n",
    "    return val_loader\n",
    "\n",
    "  def test_dataloader(self):\n",
    "    test_dataset = TimeSeriesDataset(self.X_test, self.y_test, seq_len=self.seq_len)\n",
    "    test_loader = DataLoader(test_dataset, batch_size=self.batch_size, shuffle=False, num_workers=self.num_workers)\n",
    "    return test_loader   "
   ]
  },
  {
   "cell_type": "code",
   "execution_count": 70,
   "metadata": {},
   "outputs": [],
   "source": [
    "class LSTMRegressor(pl.LightningModule):\n",
    "  def __init__(self, n_features, hidden_size, seq_len, batch_size,num_layers, dropout, learning_rate, criterion):\n",
    "    super(LSTMRegressor, self).__init__()\n",
    "    self.n_features = n_features\n",
    "    self.hidden_size = hidden_size\n",
    "    self.seq_len = seq_len\n",
    "    self.batch_size = batch_size\n",
    "    self.num_layers = num_layers\n",
    "    self.dropout = dropout\n",
    "    self.criterion = criterion\n",
    "    self.learning_rate = learning_rate\n",
    "\n",
    "    self.lstm = nn.LSTM(input_size=n_features, hidden_size=hidden_size, num_layers=num_layers, \n",
    "                        dropout=dropout, batch_first=True)\n",
    "    self.linear = nn.Linear(hidden_size, 1)\n",
    "        \n",
    "  def forward(self, x):\n",
    "    lstm_out, _ = self.lstm(x)\n",
    "    y_pred = self.linear(lstm_out[:,-1])\n",
    "    return y_pred\n",
    "  \n",
    "  def configure_optimizers(self):\n",
    "    return torch.optim.Adam(self.parameters(), lr=self.learning_rate)\n",
    "\n",
    "  def training_step(self, batch, batch_idx):\n",
    "    x, y = batch\n",
    "    y_hat = self(x)\n",
    "    train_loss = self.criterion(y_hat, y)\n",
    "    self.log('train_loss', train_loss)\n",
    "    return train_loss\n",
    "\n",
    "  def validation_step(self, batch, batch_idx):\n",
    "    x, y = batch\n",
    "    y_hat = self(x)\n",
    "    val_loss = self.criterion(y_hat, y)\n",
    "    self.log('val_loss', val_loss)\n",
    "    return val_loss\n",
    "  \n",
    "  def test_step(self, batch, batch_idx):\n",
    "    x, y = batch\n",
    "    y_hat = self(x)\n",
    "    test_loss = self.criterion(y_hat, y)\n",
    "    self.log('test_loss', test_loss)\n",
    "    return test_loss"
   ]
  },
  {
   "cell_type": "code",
   "execution_count": 61,
   "metadata": {},
   "outputs": [],
   "source": [
    "p = dict(\n",
    "  seq_len = 12,\n",
    "  batch_size = 8,\n",
    "  criterion = nn.MSELoss(),\n",
    "  max_epochs = 5,\n",
    "  n_features = 7,\n",
    "  hidden_size = 100,\n",
    "  num_layers = 1,\n",
    "  dropout = 1, # can be 0.2 if more output layers are present\n",
    "  learning_rate = 0.001,\n",
    "  # num_workers = 5,\n",
    ")"
   ]
  },
  {
   "cell_type": "code",
   "execution_count": 71,
   "metadata": {},
   "outputs": [
    {
     "name": "stderr",
     "output_type": "stream",
     "text": [
      "Seed set to 1\n",
      "GPU available: False, used: False\n",
      "TPU available: False, using: 0 TPU cores\n",
      "HPU available: False, using: 0 HPUs\n",
      "/Library/Frameworks/Python.framework/Versions/3.11/lib/python3.11/site-packages/torch/nn/modules/rnn.py:82: UserWarning: dropout option adds dropout after all but last recurrent layer, so non-zero dropout expects num_layers greater than 1, but got dropout=1 and num_layers=1\n",
      "  warnings.warn(\"dropout option adds dropout after all but last \"\n",
      "/Library/Frameworks/Python.framework/Versions/3.11/lib/python3.11/site-packages/lightning_fabric/loggers/csv_logs.py:268: Experiment logs directory ./lstm/0 exists and is not empty. Previous log files in this directory will be deleted when the new ones are saved!\n",
      "\n",
      "  | Name      | Type    | Params | Mode \n",
      "----------------------------------------------\n",
      "0 | criterion | MSELoss | 0      | train\n",
      "1 | lstm      | LSTM    | 43.6 K | train\n",
      "2 | linear    | Linear  | 101    | train\n",
      "----------------------------------------------\n",
      "43.7 K    Trainable params\n",
      "0         Non-trainable params\n",
      "43.7 K    Total params\n",
      "0.175     Total estimated model params size (MB)\n",
      "3         Modules in train mode\n",
      "0         Modules in eval mode\n"
     ]
    },
    {
     "name": "stdout",
     "output_type": "stream",
     "text": [
      "                                                                            "
     ]
    },
    {
     "name": "stderr",
     "output_type": "stream",
     "text": [
      "/Library/Frameworks/Python.framework/Versions/3.11/lib/python3.11/site-packages/pytorch_lightning/trainer/connectors/data_connector.py:425: The 'val_dataloader' does not have many workers which may be a bottleneck. Consider increasing the value of the `num_workers` argument` to `num_workers=5` in the `DataLoader` to improve performance.\n",
      "/Library/Frameworks/Python.framework/Versions/3.11/lib/python3.11/site-packages/pytorch_lightning/trainer/connectors/data_connector.py:425: The 'train_dataloader' does not have many workers which may be a bottleneck. Consider increasing the value of the `num_workers` argument` to `num_workers=5` in the `DataLoader` to improve performance.\n"
     ]
    },
    {
     "name": "stdout",
     "output_type": "stream",
     "text": [
      "Epoch 4: 100%|██████████| 72/72 [00:00<00:00, 121.81it/s, v_num=0]"
     ]
    },
    {
     "name": "stderr",
     "output_type": "stream",
     "text": [
      "`Trainer.fit` stopped: `max_epochs=5` reached.\n"
     ]
    },
    {
     "name": "stdout",
     "output_type": "stream",
     "text": [
      "Epoch 4: 100%|██████████| 72/72 [00:00<00:00, 120.58it/s, v_num=0]\n"
     ]
    },
    {
     "name": "stderr",
     "output_type": "stream",
     "text": [
      "/Library/Frameworks/Python.framework/Versions/3.11/lib/python3.11/site-packages/pytorch_lightning/trainer/connectors/data_connector.py:425: The 'test_dataloader' does not have many workers which may be a bottleneck. Consider increasing the value of the `num_workers` argument` to `num_workers=5` in the `DataLoader` to improve performance.\n"
     ]
    },
    {
     "name": "stdout",
     "output_type": "stream",
     "text": [
      "Testing DataLoader 0: 100%|██████████| 23/23 [00:00<00:00, 351.26it/s]\n",
      "────────────────────────────────────────────────────────────────────────────────────────────────────────────────────────\n",
      "       Test metric             DataLoader 0\n",
      "────────────────────────────────────────────────────────────────────────────────────────────────────────────────────────\n",
      "        test_loss            34.27167892456055\n",
      "────────────────────────────────────────────────────────────────────────────────────────────────────────────────────────\n"
     ]
    },
    {
     "data": {
      "text/plain": [
       "[{'test_loss': 34.27167892456055}]"
      ]
     },
     "execution_count": 71,
     "metadata": {},
     "output_type": "execute_result"
    }
   ],
   "source": [
    "seed_everything(1)\n",
    "\n",
    "csv_logger = CSVLogger('./', name='lstm', version='0'),\n",
    "\n",
    "trainer = Trainer(\n",
    "  max_epochs=p['max_epochs'],\n",
    "  logger=csv_logger\n",
    ")\n",
    "\n",
    "model = LSTMRegressor(\n",
    "  n_features = p['n_features'],\n",
    "  hidden_size = p['hidden_size'],\n",
    "  seq_len = p['seq_len'],\n",
    "  batch_size = p['batch_size'],\n",
    "  criterion = p['criterion'],\n",
    "  num_layers = p['num_layers'],\n",
    "  dropout = p['dropout'],\n",
    "  learning_rate = p['learning_rate']\n",
    ")\n",
    "\n",
    "dm = ColoradoDataModule(\n",
    "  seq_len = p['seq_len'],\n",
    "  batch_size = p['batch_size'],\n",
    "  # num_workers = p['num_workers']\n",
    ")\n",
    "\n",
    "trainer.fit(model, dm)\n",
    "trainer.test(model, datamodule=dm)"
   ]
  },
  {
   "cell_type": "code",
   "execution_count": null,
   "metadata": {},
   "outputs": [],
   "source": []
  },
  {
   "cell_type": "code",
   "execution_count": 1,
   "metadata": {},
   "outputs": [
    {
     "ename": "NameError",
     "evalue": "name 'pd' is not defined",
     "output_type": "error",
     "traceback": [
      "\u001b[0;31m---------------------------------------------------------------------------\u001b[0m",
      "\u001b[0;31mNameError\u001b[0m                                 Traceback (most recent call last)",
      "Cell \u001b[0;32mIn[1], line 1\u001b[0m\n\u001b[0;32m----> 1\u001b[0m metrics \u001b[38;5;241m=\u001b[39m \u001b[43mpd\u001b[49m\u001b[38;5;241m.\u001b[39mread_csv(\u001b[38;5;124m'\u001b[39m\u001b[38;5;124m./lstm/0/metrics.csv\u001b[39m\u001b[38;5;124m'\u001b[39m)\n\u001b[1;32m      2\u001b[0m train_loss \u001b[38;5;241m=\u001b[39m metrics[[\u001b[38;5;124m'\u001b[39m\u001b[38;5;124mtrain_loss\u001b[39m\u001b[38;5;124m'\u001b[39m, \u001b[38;5;124m'\u001b[39m\u001b[38;5;124mstep\u001b[39m\u001b[38;5;124m'\u001b[39m, \u001b[38;5;124m'\u001b[39m\u001b[38;5;124mepoch\u001b[39m\u001b[38;5;124m'\u001b[39m]][\u001b[38;5;241m~\u001b[39mnp\u001b[38;5;241m.\u001b[39misnan(metrics[\u001b[38;5;124m'\u001b[39m\u001b[38;5;124mtrain_loss\u001b[39m\u001b[38;5;124m'\u001b[39m])]\n\u001b[1;32m      3\u001b[0m val_loss \u001b[38;5;241m=\u001b[39m metrics[[\u001b[38;5;124m'\u001b[39m\u001b[38;5;124mval_loss\u001b[39m\u001b[38;5;124m'\u001b[39m, \u001b[38;5;124m'\u001b[39m\u001b[38;5;124mepoch\u001b[39m\u001b[38;5;124m'\u001b[39m]][\u001b[38;5;241m~\u001b[39mnp\u001b[38;5;241m.\u001b[39misnan(metrics[\u001b[38;5;124m'\u001b[39m\u001b[38;5;124mval_loss\u001b[39m\u001b[38;5;124m'\u001b[39m])]\n",
      "\u001b[0;31mNameError\u001b[0m: name 'pd' is not defined"
     ]
    }
   ],
   "source": [
    "metrics = pd.read_csv('./lstm/0/metrics.csv')\n",
    "train_loss = metrics[['train_loss', 'step', 'epoch']][~np.isnan(metrics['train_loss'])]\n",
    "val_loss = metrics[['val_loss', 'epoch']][~np.isnan(metrics['val_loss'])]\n",
    "test_loss = metrics['test_loss'].iloc[-1]\n",
    "\n",
    "fig, axes = plt.subplots(1, 2, figsize=(16, 5), dpi=100)\n",
    "axes[0].set_title('Train loss per batch')\n",
    "axes[0].plot(train_loss['step'], train_loss['train_loss'])\n",
    "axes[1].set_title('Validation loss per epoch')\n",
    "axes[1].plot(val_loss['epoch'], val_loss['val_loss'], color='orange')\n",
    "plt.show(block = True)\n",
    "\n",
    "print('MSE:')\n",
    "print(f\"Train loss: {train_loss['train_loss'].iloc[-1]:.3f}\")\n",
    "print(f\"Val loss:   {val_loss['val_loss'].iloc[-1]:.3f}\")\n",
    "print(f'Test loss:  {test_loss:.3f}')"
   ]
  },
  {
   "cell_type": "code",
   "execution_count": null,
   "metadata": {},
   "outputs": [],
   "source": []
  }
 ],
 "metadata": {
  "kernelspec": {
   "display_name": "Python 3",
   "language": "python",
   "name": "python3"
  },
  "language_info": {
   "codemirror_mode": {
    "name": "ipython",
    "version": 3
   },
   "file_extension": ".py",
   "mimetype": "text/x-python",
   "name": "python",
   "nbconvert_exporter": "python",
   "pygments_lexer": "ipython3",
   "version": "3.11.4"
  }
 },
 "nbformat": 4,
 "nbformat_minor": 2
}
