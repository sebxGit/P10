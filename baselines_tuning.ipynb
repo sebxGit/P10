{
 "cells": [
  {
   "cell_type": "code",
   "execution_count": 19,
   "metadata": {},
   "outputs": [],
   "source": [
    "import matplotlib.pyplot as plt\n",
    "import numpy as np\n",
    "import pandas as pd\n",
    "import torch\n",
    "import torch.nn as nn\n",
    "import torch.optim as optim\n",
    "import optuna\n",
    "from torch.utils.data import DataLoader, TensorDataset, Dataset\n",
    "from datetime import datetime\n",
    "from sklearn.preprocessing import MinMaxScaler\n",
    "import matplotlib.dates as mdates"
   ]
  },
  {
   "cell_type": "code",
   "execution_count": 20,
   "metadata": {},
   "outputs": [
    {
     "name": "stdout",
     "output_type": "stream",
     "text": [
      "                     Energy_Consumption\n",
      "Start_DateTime                         \n",
      "2018-01-01 17:49:00               6.504\n",
      "2018-01-01 17:49:00               6.504\n",
      "2018-01-02 08:52:00               2.481\n",
      "2018-01-02 08:52:00               2.481\n",
      "2018-01-02 21:11:00              15.046\n",
      "...                                 ...\n",
      "2019-08-06 08:48:00               0.000\n",
      "2019-08-07 08:56:00               0.000\n",
      "2019-08-07 08:56:00               0.000\n",
      "2019-08-07 10:17:00              11.060\n",
      "2019-08-07 10:17:00              11.060\n",
      "\n",
      "[968 rows x 1 columns]\n"
     ]
    }
   ],
   "source": [
    "df = pd.read_csv('ColoradoData_cleaned.csv')\n",
    "df = df.loc[df['Station_Name'] == 'BOULDER / JUNCTION ST1']\n",
    "df.index = df['Start_DateTime']\n",
    "df = df[['Start_DateTime', 'Energy_Consumption']].sort_index()\n",
    "df.dropna(inplace=True)\n",
    "df['Start_DateTime'] = pd.to_datetime(df['Start_DateTime'], format='%Y-%m-%d %H:%M:%S')\n",
    "df.set_index('Start_DateTime', inplace=True)\n",
    "print(df)"
   ]
  },
  {
   "cell_type": "code",
   "execution_count": null,
   "metadata": {},
   "outputs": [],
   "source": [
    "def create_inout_sequences(input_data, tw):\n",
    "    inout_seq = []\n",
    "    L = len(input_data)\n",
    "    for i in range(L-tw):\n",
    "        train_seq = input_data[i:i+tw]\n",
    "        train_label = input_data[i+tw:i+tw+1]\n",
    "        inout_seq.append((train_seq ,train_label))\n",
    "    return inout_seq\n",
    "\n",
    "all_data = df['Energy_Consumption'].values.astype(float)\n",
    "train_size = int(0.6 * len(df))\n",
    "train_set = all_data[:train_size]\n",
    "scaler = MinMaxScaler(feature_range=(-1, 1))\n",
    "train_data_normalized = scaler.fit_transform(train_set.reshape(-1, 1))\n",
    "train_data_normalized = torch.FloatTensor(train_data_normalized).view(-1)"
   ]
  },
  {
   "cell_type": "markdown",
   "metadata": {},
   "source": [
    "## Define Model"
   ]
  },
  {
   "cell_type": "code",
   "execution_count": 21,
   "metadata": {},
   "outputs": [],
   "source": [
    "class LSTM(nn.Module):\n",
    "    def __init__(self, input_size=1, hidden_layer_size=100, output_size=1):\n",
    "        super().__init__()\n",
    "        self.hidden_layer_size = hidden_layer_size\n",
    "        self.lstm = nn.LSTM(input_size, hidden_layer_size)\n",
    "        self.linear = nn.Linear(hidden_layer_size, output_size)\n",
    "        self.hidden_cell = (torch.zeros(1,1,self.hidden_layer_size), torch.zeros(1,1,self.hidden_layer_size))\n",
    "\n",
    "    def forward(self, input_seq):\n",
    "        lstm_out, self.hidden_cell = self.lstm(input_seq.view(len(input_seq) ,1, -1), self.hidden_cell)\n",
    "        predictions = self.linear(lstm_out.view(len(input_seq), -1))\n",
    "        return predictions[-1]"
   ]
  },
  {
   "cell_type": "markdown",
   "metadata": {},
   "source": [
    "## Define Objective Function"
   ]
  },
  {
   "cell_type": "code",
   "execution_count": 25,
   "metadata": {},
   "outputs": [],
   "source": [
    "def objective(trial):\n",
    "    # Hyperparameters to tune\n",
    "    hidden_size = trial.suggest_int('hidden_size', 128, 512)\n",
    "    learning_rate = trial.suggest_float('lr', 1e-4, 1e-1, log=True)\n",
    "    train_window = trial.suggest_int('train_window', 12, 160)\n",
    "    epochs = 150\n",
    "\n",
    "    train_inout_seq = create_inout_sequences(train_data_normalized, train_window)\n",
    "    model = LSTM()\n",
    "    loss_function = nn.MSELoss()\n",
    "    optimizer = torch.optim.Adam(model.parameters(), lr=0.001)\n",
    "\n",
    "    model.train()\n",
    "\n",
    "    for i in range(epochs):\n",
    "        for seq, labels in train_inout_seq:\n",
    "            optimizer.zero_grad()\n",
    "            model.hidden_cell = (torch.zeros(1, 1, model.hidden_layer_size), torch.zeros(1, 1, model.hidden_layer_size))\n",
    "            y_pred = model(seq)\n",
    "            loss = loss_function(y_pred, labels)\n",
    "            loss.backward()\n",
    "            optimizer.step()\n",
    "    return loss.item()"
   ]
  },
  {
   "cell_type": "code",
   "execution_count": 26,
   "metadata": {},
   "outputs": [
    {
     "name": "stderr",
     "output_type": "stream",
     "text": [
      "[I 2025-03-12 11:14:02,128] A new study created in memory with name: no-name-a2244aa0-fba4-4a6e-9a0e-cbbb6e6fa43d\n",
      "[I 2025-03-12 11:14:18,392] Trial 0 finished with value: 0.002392837544903159 and parameters: {'hidden_size': 146, 'lr': 0.0001068119340190827, 'train_window': 157}. Best is trial 0 with value: 0.002392837544903159.\n",
      "[I 2025-03-12 11:14:28,915] Trial 1 finished with value: 0.0031860314775258303 and parameters: {'hidden_size': 146, 'lr': 0.00013237342996661773, 'train_window': 53}. Best is trial 0 with value: 0.002392837544903159.\n",
      "[I 2025-03-12 11:14:40,660] Trial 2 finished with value: 0.0006472834502346814 and parameters: {'hidden_size': 185, 'lr': 0.045227265016856394, 'train_window': 82}. Best is trial 2 with value: 0.0006472834502346814.\n",
      "[I 2025-03-12 11:14:54,039] Trial 3 finished with value: 0.0031922655180096626 and parameters: {'hidden_size': 190, 'lr': 0.00024447533579319356, 'train_window': 139}. Best is trial 2 with value: 0.0006472834502346814.\n",
      "[I 2025-03-12 11:15:05,879] Trial 4 finished with value: 0.002663357648998499 and parameters: {'hidden_size': 373, 'lr': 0.009805337869533817, 'train_window': 87}. Best is trial 2 with value: 0.0006472834502346814.\n",
      "[I 2025-03-12 11:15:19,210] Trial 5 finished with value: 0.004065684974193573 and parameters: {'hidden_size': 314, 'lr': 0.0003858149124738148, 'train_window': 130}. Best is trial 2 with value: 0.0006472834502346814.\n",
      "[I 2025-03-12 11:15:31,303] Trial 6 finished with value: 0.00695134699344635 and parameters: {'hidden_size': 328, 'lr': 0.002159903732289652, 'train_window': 94}. Best is trial 2 with value: 0.0006472834502346814.\n",
      "[I 2025-03-12 11:15:43,525] Trial 7 finished with value: 0.0031633691396564245 and parameters: {'hidden_size': 465, 'lr': 0.004411055006798439, 'train_window': 92}. Best is trial 2 with value: 0.0006472834502346814.\n",
      "[I 2025-03-12 11:15:59,081] Trial 8 finished with value: 0.0038368606474250555 and parameters: {'hidden_size': 418, 'lr': 0.08965313585712074, 'train_window': 160}. Best is trial 2 with value: 0.0006472834502346814.\n",
      "[I 2025-03-12 11:16:12,949] Trial 9 finished with value: 0.004249342251569033 and parameters: {'hidden_size': 209, 'lr': 0.0009756611182306154, 'train_window': 155}. Best is trial 2 with value: 0.0006472834502346814.\n"
     ]
    },
    {
     "name": "stdout",
     "output_type": "stream",
     "text": [
      "Best Hyperparameters: {'hidden_size': 185, 'lr': 0.045227265016856394, 'train_window': 82}\n"
     ]
    }
   ],
   "source": [
    "study = optuna.create_study(direction='minimize')\n",
    "study.optimize(objective, n_trials=10)\n",
    "print(\"Best Hyperparameters:\", study.best_params)"
   ]
  },
  {
   "cell_type": "code",
   "execution_count": null,
   "metadata": {},
   "outputs": [],
   "source": []
  }
 ],
 "metadata": {
  "kernelspec": {
   "display_name": "Python 3",
   "language": "python",
   "name": "python3"
  },
  "language_info": {
   "codemirror_mode": {
    "name": "ipython",
    "version": 3
   },
   "file_extension": ".py",
   "mimetype": "text/x-python",
   "name": "python",
   "nbconvert_exporter": "python",
   "pygments_lexer": "ipython3",
   "version": "3.11.4"
  }
 },
 "nbformat": 4,
 "nbformat_minor": 2
}
